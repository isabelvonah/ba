{
 "cells": [
  {
   "cell_type": "code",
   "execution_count": 1,
   "id": "9a4c1a28",
   "metadata": {},
   "outputs": [],
   "source": [
    "import pandas as pd\n",
    "import os"
   ]
  },
  {
   "cell_type": "markdown",
   "id": "5ad65f31",
   "metadata": {},
   "source": [
    "# User-Dataframe"
   ]
  },
  {
   "cell_type": "code",
   "execution_count": 2,
   "id": "fd69df22",
   "metadata": {},
   "outputs": [],
   "source": [
    "folder_path = './data'\n",
    "list_of_filenames = os.listdir(folder_path)"
   ]
  },
  {
   "cell_type": "code",
   "execution_count": 3,
   "id": "33249354",
   "metadata": {},
   "outputs": [],
   "source": [
    "info_files = []\n",
    "tracking_files = []\n",
    "\n",
    "for file in list_of_filenames :\n",
    "    \n",
    "    if file.split(\"_\")[1] == \"info\":\n",
    "        info_files.append(file)\n",
    "    else:\n",
    "        tracking_files.append(file)"
   ]
  },
  {
   "cell_type": "code",
   "execution_count": 4,
   "id": "876c75ef",
   "metadata": {},
   "outputs": [
    {
     "data": {
      "text/html": [
       "<div>\n",
       "<style scoped>\n",
       "    .dataframe tbody tr th:only-of-type {\n",
       "        vertical-align: middle;\n",
       "    }\n",
       "\n",
       "    .dataframe tbody tr th {\n",
       "        vertical-align: top;\n",
       "    }\n",
       "\n",
       "    .dataframe thead th {\n",
       "        text-align: right;\n",
       "    }\n",
       "</style>\n",
       "<table border=\"1\" class=\"dataframe\">\n",
       "  <thead>\n",
       "    <tr style=\"text-align: right;\">\n",
       "      <th></th>\n",
       "      <th>uuid</th>\n",
       "      <th>age</th>\n",
       "      <th>gender</th>\n",
       "      <th>device</th>\n",
       "      <th>sorting_option</th>\n",
       "    </tr>\n",
       "  </thead>\n",
       "  <tbody>\n",
       "  </tbody>\n",
       "</table>\n",
       "</div>"
      ],
      "text/plain": [
       "Empty DataFrame\n",
       "Columns: [uuid, age, gender, device, sorting_option]\n",
       "Index: []"
      ]
     },
     "execution_count": 4,
     "metadata": {},
     "output_type": "execute_result"
    }
   ],
   "source": [
    "users_list = []\n",
    "\n",
    "for file in info_files:\n",
    "    \n",
    "    with open('./data/' + file, 'r') as file:\n",
    "        info = file.read()\n",
    "    \n",
    "    if info.split(\", \")[1] != \"999\": #used as testing indicator\n",
    "        users_list.append(info.split(\", \"))\n",
    "\n",
    "users = pd.DataFrame(users_list, columns=[\"uuid\", \"age\", \"gender\", \"device\", \"sorting_option\"])\n",
    "users"
   ]
  },
  {
   "cell_type": "markdown",
   "id": "8ce9348c",
   "metadata": {},
   "source": [
    "# filenames verkürzen und in neuen Ordner"
   ]
  },
  {
   "cell_type": "code",
   "execution_count": 5,
   "id": "e4409003",
   "metadata": {},
   "outputs": [],
   "source": [
    "for file in tracking_files:\n",
    "    \n",
    "    if len(file.split(\"_\")) == 6:\n",
    "        \n",
    "        new_file = file.split(\"_\")[0] + \"_\" + file.split(\"_\")[2]\n",
    "\n",
    "        csv = pd.read_csv(\"./data/\" + file, names = [\"action\", \"x\", \"y\", \"ms\"], header = None, index_col = [0])\n",
    "        csv.set_index(\"ms\")\n",
    "        csv.to_csv(\"./data/tracking_files/\" + new_file + \".csv\")"
   ]
  },
  {
   "cell_type": "markdown",
   "id": "ee602c62",
   "metadata": {},
   "source": [
    "# User überprüfen"
   ]
  },
  {
   "cell_type": "markdown",
   "id": "a94b1bae",
   "metadata": {},
   "source": [
    "## Anzahl Files"
   ]
  },
  {
   "cell_type": "code",
   "execution_count": 6,
   "id": "5146b3a9",
   "metadata": {},
   "outputs": [],
   "source": [
    "num_of_files_per_user = []\n",
    "\n",
    "for uuid in users[\"uuid\"]:\n",
    "    \n",
    "    user_files = []\n",
    "    \n",
    "    for file in tracking_files:\n",
    "        \n",
    "        if file.split(\"_\")[0] == uuid:\n",
    "            user_files.append(file)\n",
    "    \n",
    "    num_of_files_per_user.append(len(user_files))\n",
    "\n",
    "users[\"num_of_files\"] = num_of_files_per_user"
   ]
  },
  {
   "cell_type": "code",
   "execution_count": 7,
   "id": "83a42bba",
   "metadata": {},
   "outputs": [
    {
     "data": {
      "text/html": [
       "<div>\n",
       "<style scoped>\n",
       "    .dataframe tbody tr th:only-of-type {\n",
       "        vertical-align: middle;\n",
       "    }\n",
       "\n",
       "    .dataframe tbody tr th {\n",
       "        vertical-align: top;\n",
       "    }\n",
       "\n",
       "    .dataframe thead th {\n",
       "        text-align: right;\n",
       "    }\n",
       "</style>\n",
       "<table border=\"1\" class=\"dataframe\">\n",
       "  <thead>\n",
       "    <tr style=\"text-align: right;\">\n",
       "      <th></th>\n",
       "      <th>uuid</th>\n",
       "      <th>age</th>\n",
       "      <th>gender</th>\n",
       "      <th>device</th>\n",
       "      <th>sorting_option</th>\n",
       "      <th>num_of_files</th>\n",
       "    </tr>\n",
       "  </thead>\n",
       "  <tbody>\n",
       "  </tbody>\n",
       "</table>\n",
       "</div>"
      ],
      "text/plain": [
       "Empty DataFrame\n",
       "Columns: [uuid, age, gender, device, sorting_option, num_of_files]\n",
       "Index: []"
      ]
     },
     "execution_count": 7,
     "metadata": {},
     "output_type": "execute_result"
    }
   ],
   "source": [
    "users"
   ]
  },
  {
   "cell_type": "markdown",
   "id": "0d2303af",
   "metadata": {},
   "source": [
    "## Koordinaten der Buttons"
   ]
  },
  {
   "cell_type": "code",
   "execution_count": 8,
   "id": "e6e56a56",
   "metadata": {},
   "outputs": [],
   "source": [
    "coords_match = []\n",
    "\n",
    "for uuid in users[\"uuid\"]:\n",
    "    \n",
    "    a1 = pd.read_csv(\"./data/tracking_files/\" + uuid + \"_A1.csv\")\n",
    "    \n",
    "    x = a1.sort_values(\"ms\").iloc[-1][\"x\"]\n",
    "    y = a1.sort_values(\"ms\").iloc[-1][\"y\"]\n",
    "    \n",
    "    if 1315 <= x <= 1381.8999938964844 and 745 <= y <= 783:\n",
    "        coords_match.append(True)\n",
    "    else:\n",
    "        coords_match.append(False)\n",
    "\n",
    "users[\"coords_match\"] = coords_match"
   ]
  },
  {
   "cell_type": "markdown",
   "id": "273699a7",
   "metadata": {},
   "source": [
    "# Fehlerhafte User entfernen"
   ]
  },
  {
   "cell_type": "code",
   "execution_count": 9,
   "id": "bf3436bd",
   "metadata": {},
   "outputs": [
    {
     "data": {
      "text/html": [
       "<div>\n",
       "<style scoped>\n",
       "    .dataframe tbody tr th:only-of-type {\n",
       "        vertical-align: middle;\n",
       "    }\n",
       "\n",
       "    .dataframe tbody tr th {\n",
       "        vertical-align: top;\n",
       "    }\n",
       "\n",
       "    .dataframe thead th {\n",
       "        text-align: right;\n",
       "    }\n",
       "</style>\n",
       "<table border=\"1\" class=\"dataframe\">\n",
       "  <thead>\n",
       "    <tr style=\"text-align: right;\">\n",
       "      <th></th>\n",
       "      <th>uuid</th>\n",
       "      <th>age</th>\n",
       "      <th>gender</th>\n",
       "      <th>device</th>\n",
       "      <th>sorting_option</th>\n",
       "      <th>num_of_files</th>\n",
       "      <th>coords_match</th>\n",
       "    </tr>\n",
       "  </thead>\n",
       "  <tbody>\n",
       "  </tbody>\n",
       "</table>\n",
       "</div>"
      ],
      "text/plain": [
       "Empty DataFrame\n",
       "Columns: [uuid, age, gender, device, sorting_option, num_of_files, coords_match]\n",
       "Index: []"
      ]
     },
     "execution_count": 9,
     "metadata": {},
     "output_type": "execute_result"
    }
   ],
   "source": [
    "users"
   ]
  },
  {
   "cell_type": "code",
   "execution_count": 10,
   "id": "4a805ae9",
   "metadata": {},
   "outputs": [
    {
     "data": {
      "text/html": [
       "<div>\n",
       "<style scoped>\n",
       "    .dataframe tbody tr th:only-of-type {\n",
       "        vertical-align: middle;\n",
       "    }\n",
       "\n",
       "    .dataframe tbody tr th {\n",
       "        vertical-align: top;\n",
       "    }\n",
       "\n",
       "    .dataframe thead th {\n",
       "        text-align: right;\n",
       "    }\n",
       "</style>\n",
       "<table border=\"1\" class=\"dataframe\">\n",
       "  <thead>\n",
       "    <tr style=\"text-align: right;\">\n",
       "      <th></th>\n",
       "      <th>uuid</th>\n",
       "      <th>age</th>\n",
       "      <th>gender</th>\n",
       "      <th>device</th>\n",
       "      <th>sorting_option</th>\n",
       "      <th>num_of_files</th>\n",
       "      <th>coords_match</th>\n",
       "    </tr>\n",
       "  </thead>\n",
       "  <tbody>\n",
       "  </tbody>\n",
       "</table>\n",
       "</div>"
      ],
      "text/plain": [
       "Empty DataFrame\n",
       "Columns: [uuid, age, gender, device, sorting_option, num_of_files, coords_match]\n",
       "Index: []"
      ]
     },
     "execution_count": 10,
     "metadata": {},
     "output_type": "execute_result"
    }
   ],
   "source": [
    "users.drop((users[\"num_of_files\"] != 23).index)"
   ]
  },
  {
   "cell_type": "code",
   "execution_count": 11,
   "id": "4510be6b",
   "metadata": {},
   "outputs": [
    {
     "data": {
      "text/html": [
       "<div>\n",
       "<style scoped>\n",
       "    .dataframe tbody tr th:only-of-type {\n",
       "        vertical-align: middle;\n",
       "    }\n",
       "\n",
       "    .dataframe tbody tr th {\n",
       "        vertical-align: top;\n",
       "    }\n",
       "\n",
       "    .dataframe thead th {\n",
       "        text-align: right;\n",
       "    }\n",
       "</style>\n",
       "<table border=\"1\" class=\"dataframe\">\n",
       "  <thead>\n",
       "    <tr style=\"text-align: right;\">\n",
       "      <th></th>\n",
       "      <th>uuid</th>\n",
       "      <th>age</th>\n",
       "      <th>gender</th>\n",
       "      <th>device</th>\n",
       "      <th>sorting_option</th>\n",
       "      <th>num_of_files</th>\n",
       "      <th>coords_match</th>\n",
       "    </tr>\n",
       "  </thead>\n",
       "  <tbody>\n",
       "  </tbody>\n",
       "</table>\n",
       "</div>"
      ],
      "text/plain": [
       "Empty DataFrame\n",
       "Columns: [uuid, age, gender, device, sorting_option, num_of_files, coords_match]\n",
       "Index: []"
      ]
     },
     "execution_count": 11,
     "metadata": {},
     "output_type": "execute_result"
    }
   ],
   "source": [
    "users.drop((users[\"coords_match\"] == False).index)"
   ]
  },
  {
   "cell_type": "markdown",
   "id": "835c43ea",
   "metadata": {},
   "source": [
    "# Speichern"
   ]
  },
  {
   "cell_type": "code",
   "execution_count": 12,
   "id": "d4d58ff9",
   "metadata": {},
   "outputs": [],
   "source": [
    "users.to_csv(\"./data/users.csv\", index=False)"
   ]
  }
 ],
 "metadata": {
  "kernelspec": {
   "display_name": "Python 3 (ipykernel)",
   "language": "python",
   "name": "python3"
  },
  "language_info": {
   "codemirror_mode": {
    "name": "ipython",
    "version": 3
   },
   "file_extension": ".py",
   "mimetype": "text/x-python",
   "name": "python",
   "nbconvert_exporter": "python",
   "pygments_lexer": "ipython3",
   "version": "3.10.6"
  }
 },
 "nbformat": 4,
 "nbformat_minor": 5
}
