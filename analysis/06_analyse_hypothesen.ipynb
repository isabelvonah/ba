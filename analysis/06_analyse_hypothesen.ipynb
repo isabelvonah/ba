{
 "cells": [
  {
   "cell_type": "code",
   "execution_count": 10,
   "metadata": {},
   "outputs": [],
   "source": [
    "import pandas as pd\n",
    "import plotly.express as px"
   ]
  },
  {
   "cell_type": "code",
   "execution_count": 3,
   "metadata": {},
   "outputs": [
    {
     "data": {
      "text/html": [
       "<div>\n",
       "<style scoped>\n",
       "    .dataframe tbody tr th:only-of-type {\n",
       "        vertical-align: middle;\n",
       "    }\n",
       "\n",
       "    .dataframe tbody tr th {\n",
       "        vertical-align: top;\n",
       "    }\n",
       "\n",
       "    .dataframe thead th {\n",
       "        text-align: right;\n",
       "    }\n",
       "</style>\n",
       "<table border=\"1\" class=\"dataframe\">\n",
       "  <thead>\n",
       "    <tr style=\"text-align: right;\">\n",
       "      <th></th>\n",
       "      <th>nr</th>\n",
       "      <th>uuid</th>\n",
       "      <th>age</th>\n",
       "      <th>gender</th>\n",
       "      <th>device</th>\n",
       "      <th>sorting_option</th>\n",
       "      <th>num_of_files</th>\n",
       "      <th>coords_match</th>\n",
       "      <th>path_A1</th>\n",
       "      <th>path_A2</th>\n",
       "      <th>...</th>\n",
       "      <th>time_to_click_F3</th>\n",
       "      <th>time_after_click_F3</th>\n",
       "      <th>path_to_click_-Idealpfad_C1</th>\n",
       "      <th>path_to_click_-Idealpfad_C2</th>\n",
       "      <th>path_to_click_-Idealpfad_C3</th>\n",
       "      <th>path_to_click_-Idealpfad_C4</th>\n",
       "      <th>path_to_click_-Idealpfad_B1</th>\n",
       "      <th>path_to_click_-Idealpfad_B2</th>\n",
       "      <th>path_to_click_-Idealpfad_B3</th>\n",
       "      <th>path_to_click_-Idealpfad_B4</th>\n",
       "    </tr>\n",
       "  </thead>\n",
       "  <tbody>\n",
       "    <tr>\n",
       "      <th>0</th>\n",
       "      <td>1</td>\n",
       "      <td>649bf93e99881a2b49291e23</td>\n",
       "      <td>61</td>\n",
       "      <td>male</td>\n",
       "      <td>mouse</td>\n",
       "      <td>3</td>\n",
       "      <td>23</td>\n",
       "      <td>True</td>\n",
       "      <td>1853.643007</td>\n",
       "      <td>1029.099311</td>\n",
       "      <td>...</td>\n",
       "      <td>3.376</td>\n",
       "      <td>4.353</td>\n",
       "      <td>875.550701</td>\n",
       "      <td>1385.206901</td>\n",
       "      <td>160.395782</td>\n",
       "      <td>1064.632253</td>\n",
       "      <td>-224.286482</td>\n",
       "      <td>-82.219150</td>\n",
       "      <td>774.262735</td>\n",
       "      <td>-95.634217</td>\n",
       "    </tr>\n",
       "    <tr>\n",
       "      <th>1</th>\n",
       "      <td>2</td>\n",
       "      <td>649afe9b8c617b636a488066</td>\n",
       "      <td>41</td>\n",
       "      <td>male</td>\n",
       "      <td>mouse</td>\n",
       "      <td>2</td>\n",
       "      <td>23</td>\n",
       "      <td>True</td>\n",
       "      <td>1886.064440</td>\n",
       "      <td>975.492400</td>\n",
       "      <td>...</td>\n",
       "      <td>1.853</td>\n",
       "      <td>2.955</td>\n",
       "      <td>87.477106</td>\n",
       "      <td>96.007662</td>\n",
       "      <td>28.031105</td>\n",
       "      <td>-4.364470</td>\n",
       "      <td>-212.724391</td>\n",
       "      <td>115.302158</td>\n",
       "      <td>376.495022</td>\n",
       "      <td>-150.595116</td>\n",
       "    </tr>\n",
       "    <tr>\n",
       "      <th>2</th>\n",
       "      <td>3</td>\n",
       "      <td>649ad0398c611bb012843f4d</td>\n",
       "      <td>25</td>\n",
       "      <td>male</td>\n",
       "      <td>mouse</td>\n",
       "      <td>2</td>\n",
       "      <td>23</td>\n",
       "      <td>True</td>\n",
       "      <td>3004.503424</td>\n",
       "      <td>2836.840990</td>\n",
       "      <td>...</td>\n",
       "      <td>1.436</td>\n",
       "      <td>2.027</td>\n",
       "      <td>4783.078840</td>\n",
       "      <td>3135.657007</td>\n",
       "      <td>1476.682056</td>\n",
       "      <td>444.253151</td>\n",
       "      <td>-215.040170</td>\n",
       "      <td>-91.972415</td>\n",
       "      <td>2238.380267</td>\n",
       "      <td>-70.910464</td>\n",
       "    </tr>\n",
       "    <tr>\n",
       "      <th>3</th>\n",
       "      <td>4</td>\n",
       "      <td>649af42c8c611c4708e4e18d</td>\n",
       "      <td>25</td>\n",
       "      <td>male</td>\n",
       "      <td>touchpad</td>\n",
       "      <td>2</td>\n",
       "      <td>23</td>\n",
       "      <td>True</td>\n",
       "      <td>2931.175568</td>\n",
       "      <td>1883.701631</td>\n",
       "      <td>...</td>\n",
       "      <td>1.448</td>\n",
       "      <td>3.354</td>\n",
       "      <td>1258.833007</td>\n",
       "      <td>136.696986</td>\n",
       "      <td>327.834333</td>\n",
       "      <td>2890.227443</td>\n",
       "      <td>179.113285</td>\n",
       "      <td>334.423536</td>\n",
       "      <td>237.050604</td>\n",
       "      <td>448.817701</td>\n",
       "    </tr>\n",
       "    <tr>\n",
       "      <th>4</th>\n",
       "      <td>5</td>\n",
       "      <td>649b2b1e8c61127922e1a7fa</td>\n",
       "      <td>25</td>\n",
       "      <td>male</td>\n",
       "      <td>mouse</td>\n",
       "      <td>1</td>\n",
       "      <td>23</td>\n",
       "      <td>True</td>\n",
       "      <td>1985.636672</td>\n",
       "      <td>1374.456074</td>\n",
       "      <td>...</td>\n",
       "      <td>1.202</td>\n",
       "      <td>1.452</td>\n",
       "      <td>34.219276</td>\n",
       "      <td>895.526001</td>\n",
       "      <td>234.104547</td>\n",
       "      <td>203.964504</td>\n",
       "      <td>-98.524118</td>\n",
       "      <td>-93.828870</td>\n",
       "      <td>178.851976</td>\n",
       "      <td>-83.253300</td>\n",
       "    </tr>\n",
       "    <tr>\n",
       "      <th>5</th>\n",
       "      <td>6</td>\n",
       "      <td>64a1b2e38c611f9c485e8b29</td>\n",
       "      <td>40</td>\n",
       "      <td>female</td>\n",
       "      <td>touchpad</td>\n",
       "      <td>1</td>\n",
       "      <td>23</td>\n",
       "      <td>True</td>\n",
       "      <td>2936.952732</td>\n",
       "      <td>1636.015808</td>\n",
       "      <td>...</td>\n",
       "      <td>1.106</td>\n",
       "      <td>1.314</td>\n",
       "      <td>2024.573499</td>\n",
       "      <td>2398.262404</td>\n",
       "      <td>150.035093</td>\n",
       "      <td>232.368668</td>\n",
       "      <td>739.856295</td>\n",
       "      <td>226.040099</td>\n",
       "      <td>1516.712535</td>\n",
       "      <td>-147.679047</td>\n",
       "    </tr>\n",
       "    <tr>\n",
       "      <th>6</th>\n",
       "      <td>7</td>\n",
       "      <td>649b269e8c617a4301bc7247</td>\n",
       "      <td>55</td>\n",
       "      <td>female</td>\n",
       "      <td>mouse</td>\n",
       "      <td>1</td>\n",
       "      <td>23</td>\n",
       "      <td>True</td>\n",
       "      <td>2176.615489</td>\n",
       "      <td>1470.069064</td>\n",
       "      <td>...</td>\n",
       "      <td>3.963</td>\n",
       "      <td>5.757</td>\n",
       "      <td>110.378834</td>\n",
       "      <td>1750.502665</td>\n",
       "      <td>758.826517</td>\n",
       "      <td>217.383067</td>\n",
       "      <td>-109.626487</td>\n",
       "      <td>-15.891943</td>\n",
       "      <td>195.990806</td>\n",
       "      <td>879.429240</td>\n",
       "    </tr>\n",
       "    <tr>\n",
       "      <th>7</th>\n",
       "      <td>8</td>\n",
       "      <td>64a26a678c6147cbab24d968</td>\n",
       "      <td>19</td>\n",
       "      <td>female</td>\n",
       "      <td>touchpad</td>\n",
       "      <td>1</td>\n",
       "      <td>23</td>\n",
       "      <td>True</td>\n",
       "      <td>2524.936013</td>\n",
       "      <td>1219.753988</td>\n",
       "      <td>...</td>\n",
       "      <td>1.328</td>\n",
       "      <td>5.171</td>\n",
       "      <td>759.983080</td>\n",
       "      <td>340.698747</td>\n",
       "      <td>12.683173</td>\n",
       "      <td>6.886549</td>\n",
       "      <td>749.045133</td>\n",
       "      <td>328.097550</td>\n",
       "      <td>1138.248506</td>\n",
       "      <td>-92.643665</td>\n",
       "    </tr>\n",
       "    <tr>\n",
       "      <th>8</th>\n",
       "      <td>9</td>\n",
       "      <td>649be8ba8c619f5efb2614e0</td>\n",
       "      <td>59</td>\n",
       "      <td>female</td>\n",
       "      <td>mouse</td>\n",
       "      <td>2</td>\n",
       "      <td>23</td>\n",
       "      <td>True</td>\n",
       "      <td>2749.563567</td>\n",
       "      <td>1065.741990</td>\n",
       "      <td>...</td>\n",
       "      <td>3.127</td>\n",
       "      <td>6.155</td>\n",
       "      <td>29.679991</td>\n",
       "      <td>604.849942</td>\n",
       "      <td>52.861812</td>\n",
       "      <td>182.834264</td>\n",
       "      <td>-193.326592</td>\n",
       "      <td>-31.627001</td>\n",
       "      <td>416.858042</td>\n",
       "      <td>50.054234</td>\n",
       "    </tr>\n",
       "    <tr>\n",
       "      <th>9</th>\n",
       "      <td>10</td>\n",
       "      <td>64a040d18c6121bf2c739076</td>\n",
       "      <td>29</td>\n",
       "      <td>female</td>\n",
       "      <td>touchpad</td>\n",
       "      <td>3</td>\n",
       "      <td>23</td>\n",
       "      <td>True</td>\n",
       "      <td>2281.663493</td>\n",
       "      <td>1987.613796</td>\n",
       "      <td>...</td>\n",
       "      <td>3.490</td>\n",
       "      <td>3.917</td>\n",
       "      <td>90.679113</td>\n",
       "      <td>-16.422204</td>\n",
       "      <td>331.873922</td>\n",
       "      <td>438.425985</td>\n",
       "      <td>-174.259858</td>\n",
       "      <td>101.858469</td>\n",
       "      <td>272.232839</td>\n",
       "      <td>-185.382669</td>\n",
       "    </tr>\n",
       "    <tr>\n",
       "      <th>10</th>\n",
       "      <td>11</td>\n",
       "      <td>649aba058c612604f08fde63</td>\n",
       "      <td>23</td>\n",
       "      <td>female</td>\n",
       "      <td>touchpad</td>\n",
       "      <td>3</td>\n",
       "      <td>23</td>\n",
       "      <td>True</td>\n",
       "      <td>1819.565610</td>\n",
       "      <td>1084.454083</td>\n",
       "      <td>...</td>\n",
       "      <td>2.353</td>\n",
       "      <td>4.459</td>\n",
       "      <td>28.088230</td>\n",
       "      <td>153.870503</td>\n",
       "      <td>76.746171</td>\n",
       "      <td>-22.311590</td>\n",
       "      <td>-273.202811</td>\n",
       "      <td>-5.814864</td>\n",
       "      <td>288.859724</td>\n",
       "      <td>-34.791896</td>\n",
       "    </tr>\n",
       "    <tr>\n",
       "      <th>11</th>\n",
       "      <td>12</td>\n",
       "      <td>649b38738c611b846db1a58d</td>\n",
       "      <td>25</td>\n",
       "      <td>female</td>\n",
       "      <td>mouse</td>\n",
       "      <td>1</td>\n",
       "      <td>23</td>\n",
       "      <td>True</td>\n",
       "      <td>2155.066788</td>\n",
       "      <td>962.908791</td>\n",
       "      <td>...</td>\n",
       "      <td>0.902</td>\n",
       "      <td>3.309</td>\n",
       "      <td>-34.157611</td>\n",
       "      <td>209.374599</td>\n",
       "      <td>291.144186</td>\n",
       "      <td>157.717799</td>\n",
       "      <td>-232.702736</td>\n",
       "      <td>119.400253</td>\n",
       "      <td>277.990536</td>\n",
       "      <td>-102.011653</td>\n",
       "    </tr>\n",
       "    <tr>\n",
       "      <th>12</th>\n",
       "      <td>13</td>\n",
       "      <td>64995bac8c61d60b08d58991</td>\n",
       "      <td>26</td>\n",
       "      <td>female</td>\n",
       "      <td>mouse</td>\n",
       "      <td>1</td>\n",
       "      <td>23</td>\n",
       "      <td>True</td>\n",
       "      <td>3040.142030</td>\n",
       "      <td>3433.884540</td>\n",
       "      <td>...</td>\n",
       "      <td>1.265</td>\n",
       "      <td>2.871</td>\n",
       "      <td>1393.424531</td>\n",
       "      <td>66.818554</td>\n",
       "      <td>1380.506043</td>\n",
       "      <td>593.988285</td>\n",
       "      <td>-241.156060</td>\n",
       "      <td>-107.879758</td>\n",
       "      <td>816.288040</td>\n",
       "      <td>-151.563863</td>\n",
       "    </tr>\n",
       "    <tr>\n",
       "      <th>13</th>\n",
       "      <td>14</td>\n",
       "      <td>649c8b1d8c61291698048377</td>\n",
       "      <td>25</td>\n",
       "      <td>female</td>\n",
       "      <td>touchpad</td>\n",
       "      <td>1</td>\n",
       "      <td>23</td>\n",
       "      <td>True</td>\n",
       "      <td>1798.996408</td>\n",
       "      <td>1166.316327</td>\n",
       "      <td>...</td>\n",
       "      <td>1.392</td>\n",
       "      <td>3.130</td>\n",
       "      <td>-20.927093</td>\n",
       "      <td>917.756593</td>\n",
       "      <td>45.567867</td>\n",
       "      <td>89.790524</td>\n",
       "      <td>-252.230967</td>\n",
       "      <td>-127.571893</td>\n",
       "      <td>680.968699</td>\n",
       "      <td>-162.742668</td>\n",
       "    </tr>\n",
       "    <tr>\n",
       "      <th>14</th>\n",
       "      <td>15</td>\n",
       "      <td>649b48cd8c61c6ca0bbae44b</td>\n",
       "      <td>32</td>\n",
       "      <td>female</td>\n",
       "      <td>mouse</td>\n",
       "      <td>2</td>\n",
       "      <td>23</td>\n",
       "      <td>True</td>\n",
       "      <td>1303.939517</td>\n",
       "      <td>2160.939399</td>\n",
       "      <td>...</td>\n",
       "      <td>1.720</td>\n",
       "      <td>5.485</td>\n",
       "      <td>55.841753</td>\n",
       "      <td>669.631249</td>\n",
       "      <td>179.259186</td>\n",
       "      <td>36.067205</td>\n",
       "      <td>-219.363966</td>\n",
       "      <td>45.902272</td>\n",
       "      <td>172.864294</td>\n",
       "      <td>-130.205254</td>\n",
       "    </tr>\n",
       "    <tr>\n",
       "      <th>15</th>\n",
       "      <td>16</td>\n",
       "      <td>649b30938c6117fb06cfde92</td>\n",
       "      <td>54</td>\n",
       "      <td>male</td>\n",
       "      <td>mouse</td>\n",
       "      <td>1</td>\n",
       "      <td>23</td>\n",
       "      <td>True</td>\n",
       "      <td>3202.784211</td>\n",
       "      <td>1387.548529</td>\n",
       "      <td>...</td>\n",
       "      <td>1.109</td>\n",
       "      <td>3.226</td>\n",
       "      <td>219.254499</td>\n",
       "      <td>54.861163</td>\n",
       "      <td>230.916563</td>\n",
       "      <td>187.154791</td>\n",
       "      <td>629.708166</td>\n",
       "      <td>-63.908198</td>\n",
       "      <td>348.460904</td>\n",
       "      <td>-126.262735</td>\n",
       "    </tr>\n",
       "    <tr>\n",
       "      <th>16</th>\n",
       "      <td>17</td>\n",
       "      <td>649bdcfe8c6121e7a6d49d14</td>\n",
       "      <td>61</td>\n",
       "      <td>male</td>\n",
       "      <td>mouse</td>\n",
       "      <td>3</td>\n",
       "      <td>23</td>\n",
       "      <td>True</td>\n",
       "      <td>2216.980892</td>\n",
       "      <td>1586.510552</td>\n",
       "      <td>...</td>\n",
       "      <td>1.701</td>\n",
       "      <td>3.893</td>\n",
       "      <td>137.955542</td>\n",
       "      <td>880.645919</td>\n",
       "      <td>75.991074</td>\n",
       "      <td>185.295503</td>\n",
       "      <td>2200.891977</td>\n",
       "      <td>-119.719406</td>\n",
       "      <td>219.102432</td>\n",
       "      <td>-158.210099</td>\n",
       "    </tr>\n",
       "  </tbody>\n",
       "</table>\n",
       "<p>17 rows × 186 columns</p>\n",
       "</div>"
      ],
      "text/plain": [
       "    nr                      uuid  age  gender    device  sorting_option  \\\n",
       "0    1  649bf93e99881a2b49291e23   61    male     mouse               3   \n",
       "1    2  649afe9b8c617b636a488066   41    male     mouse               2   \n",
       "2    3  649ad0398c611bb012843f4d   25    male     mouse               2   \n",
       "3    4  649af42c8c611c4708e4e18d   25    male  touchpad               2   \n",
       "4    5  649b2b1e8c61127922e1a7fa   25    male     mouse               1   \n",
       "5    6  64a1b2e38c611f9c485e8b29   40  female  touchpad               1   \n",
       "6    7  649b269e8c617a4301bc7247   55  female     mouse               1   \n",
       "7    8  64a26a678c6147cbab24d968   19  female  touchpad               1   \n",
       "8    9  649be8ba8c619f5efb2614e0   59  female     mouse               2   \n",
       "9   10  64a040d18c6121bf2c739076   29  female  touchpad               3   \n",
       "10  11  649aba058c612604f08fde63   23  female  touchpad               3   \n",
       "11  12  649b38738c611b846db1a58d   25  female     mouse               1   \n",
       "12  13  64995bac8c61d60b08d58991   26  female     mouse               1   \n",
       "13  14  649c8b1d8c61291698048377   25  female  touchpad               1   \n",
       "14  15  649b48cd8c61c6ca0bbae44b   32  female     mouse               2   \n",
       "15  16  649b30938c6117fb06cfde92   54    male     mouse               1   \n",
       "16  17  649bdcfe8c6121e7a6d49d14   61    male     mouse               3   \n",
       "\n",
       "    num_of_files  coords_match      path_A1      path_A2  ...  \\\n",
       "0             23          True  1853.643007  1029.099311  ...   \n",
       "1             23          True  1886.064440   975.492400  ...   \n",
       "2             23          True  3004.503424  2836.840990  ...   \n",
       "3             23          True  2931.175568  1883.701631  ...   \n",
       "4             23          True  1985.636672  1374.456074  ...   \n",
       "5             23          True  2936.952732  1636.015808  ...   \n",
       "6             23          True  2176.615489  1470.069064  ...   \n",
       "7             23          True  2524.936013  1219.753988  ...   \n",
       "8             23          True  2749.563567  1065.741990  ...   \n",
       "9             23          True  2281.663493  1987.613796  ...   \n",
       "10            23          True  1819.565610  1084.454083  ...   \n",
       "11            23          True  2155.066788   962.908791  ...   \n",
       "12            23          True  3040.142030  3433.884540  ...   \n",
       "13            23          True  1798.996408  1166.316327  ...   \n",
       "14            23          True  1303.939517  2160.939399  ...   \n",
       "15            23          True  3202.784211  1387.548529  ...   \n",
       "16            23          True  2216.980892  1586.510552  ...   \n",
       "\n",
       "    time_to_click_F3  time_after_click_F3  path_to_click_-Idealpfad_C1  \\\n",
       "0              3.376                4.353                   875.550701   \n",
       "1              1.853                2.955                    87.477106   \n",
       "2              1.436                2.027                  4783.078840   \n",
       "3              1.448                3.354                  1258.833007   \n",
       "4              1.202                1.452                    34.219276   \n",
       "5              1.106                1.314                  2024.573499   \n",
       "6              3.963                5.757                   110.378834   \n",
       "7              1.328                5.171                   759.983080   \n",
       "8              3.127                6.155                    29.679991   \n",
       "9              3.490                3.917                    90.679113   \n",
       "10             2.353                4.459                    28.088230   \n",
       "11             0.902                3.309                   -34.157611   \n",
       "12             1.265                2.871                  1393.424531   \n",
       "13             1.392                3.130                   -20.927093   \n",
       "14             1.720                5.485                    55.841753   \n",
       "15             1.109                3.226                   219.254499   \n",
       "16             1.701                3.893                   137.955542   \n",
       "\n",
       "    path_to_click_-Idealpfad_C2  path_to_click_-Idealpfad_C3  \\\n",
       "0                   1385.206901                   160.395782   \n",
       "1                     96.007662                    28.031105   \n",
       "2                   3135.657007                  1476.682056   \n",
       "3                    136.696986                   327.834333   \n",
       "4                    895.526001                   234.104547   \n",
       "5                   2398.262404                   150.035093   \n",
       "6                   1750.502665                   758.826517   \n",
       "7                    340.698747                    12.683173   \n",
       "8                    604.849942                    52.861812   \n",
       "9                    -16.422204                   331.873922   \n",
       "10                   153.870503                    76.746171   \n",
       "11                   209.374599                   291.144186   \n",
       "12                    66.818554                  1380.506043   \n",
       "13                   917.756593                    45.567867   \n",
       "14                   669.631249                   179.259186   \n",
       "15                    54.861163                   230.916563   \n",
       "16                   880.645919                    75.991074   \n",
       "\n",
       "    path_to_click_-Idealpfad_C4  path_to_click_-Idealpfad_B1  \\\n",
       "0                   1064.632253                  -224.286482   \n",
       "1                     -4.364470                  -212.724391   \n",
       "2                    444.253151                  -215.040170   \n",
       "3                   2890.227443                   179.113285   \n",
       "4                    203.964504                   -98.524118   \n",
       "5                    232.368668                   739.856295   \n",
       "6                    217.383067                  -109.626487   \n",
       "7                      6.886549                   749.045133   \n",
       "8                    182.834264                  -193.326592   \n",
       "9                    438.425985                  -174.259858   \n",
       "10                   -22.311590                  -273.202811   \n",
       "11                   157.717799                  -232.702736   \n",
       "12                   593.988285                  -241.156060   \n",
       "13                    89.790524                  -252.230967   \n",
       "14                    36.067205                  -219.363966   \n",
       "15                   187.154791                   629.708166   \n",
       "16                   185.295503                  2200.891977   \n",
       "\n",
       "    path_to_click_-Idealpfad_B2  path_to_click_-Idealpfad_B3  \\\n",
       "0                    -82.219150                   774.262735   \n",
       "1                    115.302158                   376.495022   \n",
       "2                    -91.972415                  2238.380267   \n",
       "3                    334.423536                   237.050604   \n",
       "4                    -93.828870                   178.851976   \n",
       "5                    226.040099                  1516.712535   \n",
       "6                    -15.891943                   195.990806   \n",
       "7                    328.097550                  1138.248506   \n",
       "8                    -31.627001                   416.858042   \n",
       "9                    101.858469                   272.232839   \n",
       "10                    -5.814864                   288.859724   \n",
       "11                   119.400253                   277.990536   \n",
       "12                  -107.879758                   816.288040   \n",
       "13                  -127.571893                   680.968699   \n",
       "14                    45.902272                   172.864294   \n",
       "15                   -63.908198                   348.460904   \n",
       "16                  -119.719406                   219.102432   \n",
       "\n",
       "    path_to_click_-Idealpfad_B4  \n",
       "0                    -95.634217  \n",
       "1                   -150.595116  \n",
       "2                    -70.910464  \n",
       "3                    448.817701  \n",
       "4                    -83.253300  \n",
       "5                   -147.679047  \n",
       "6                    879.429240  \n",
       "7                    -92.643665  \n",
       "8                     50.054234  \n",
       "9                   -185.382669  \n",
       "10                   -34.791896  \n",
       "11                  -102.011653  \n",
       "12                  -151.563863  \n",
       "13                  -162.742668  \n",
       "14                  -130.205254  \n",
       "15                  -126.262735  \n",
       "16                  -158.210099  \n",
       "\n",
       "[17 rows x 186 columns]"
      ]
     },
     "execution_count": 3,
     "metadata": {},
     "output_type": "execute_result"
    }
   ],
   "source": [
    "users = pd.read_csv(\"./results/analysis.csv\")\n",
    "\n",
    "users"
   ]
  },
  {
   "cell_type": "markdown",
   "metadata": {},
   "source": [
    "# Pfadlänge"
   ]
  },
  {
   "cell_type": "code",
   "execution_count": 8,
   "metadata": {},
   "outputs": [],
   "source": [
    "columns = [elem for elem in users.columns.tolist() if (elem.startswith(\"path_\")) and (len(elem.split(\"_\")) == 2)]\n",
    "medians = users[columns].median()"
   ]
  },
  {
   "cell_type": "code",
   "execution_count": 11,
   "metadata": {},
   "outputs": [
    {
     "data": {
      "application/vnd.plotly.v1+json": {
       "config": {
        "plotlyServerURL": "https://plot.ly"
       },
       "data": [
        {
         "alignmentgroup": "True",
         "hovertemplate": "variable=0<br>index=%{x}<br>value=%{y}<extra></extra>",
         "legendgroup": "0",
         "marker": {
          "color": "#636efa",
          "pattern": {
           "shape": ""
          }
         },
         "name": "0",
         "offsetgroup": "0",
         "orientation": "v",
         "showlegend": true,
         "textposition": "auto",
         "type": "bar",
         "x": [
          "path_A1",
          "path_A2",
          "path_A3",
          "path_A4",
          "path_A5",
          "path_A6",
          "path_A7",
          "path_B1",
          "path_B2",
          "path_B3",
          "path_B4",
          "path_C1",
          "path_C2",
          "path_C3",
          "path_C4",
          "path_D1",
          "path_D2",
          "path_E1",
          "path_E2",
          "path_E3",
          "path_F1",
          "path_F2",
          "path_F3"
         ],
         "xaxis": "x",
         "y": [
          2216.980891630214,
          1387.5485292525286,
          1919.8948984396536,
          1566.2134617592528,
          1894.1088470965335,
          1813.993849887641,
          1566.0491818588846,
          516.9550419739312,
          682.1947280216559,
          868.1964133264412,
          464.4025060345459,
          2433.884121210847,
          1814.129307658839,
          1983.5564105823448,
          1468.4414939599403,
          509.957202644185,
          351.4107961460566,
          519.0984403281674,
          479.5310606162302,
          498.27330849624207,
          709.4945891807116,
          739.5268331585382,
          642.8970140578143
         ],
         "yaxis": "y"
        }
       ],
       "layout": {
        "barmode": "relative",
        "legend": {
         "title": {
          "text": "variable"
         },
         "tracegroupgap": 0
        },
        "margin": {
         "t": 60
        },
        "template": {
         "data": {
          "bar": [
           {
            "error_x": {
             "color": "#2a3f5f"
            },
            "error_y": {
             "color": "#2a3f5f"
            },
            "marker": {
             "line": {
              "color": "#E5ECF6",
              "width": 0.5
             },
             "pattern": {
              "fillmode": "overlay",
              "size": 10,
              "solidity": 0.2
             }
            },
            "type": "bar"
           }
          ],
          "barpolar": [
           {
            "marker": {
             "line": {
              "color": "#E5ECF6",
              "width": 0.5
             },
             "pattern": {
              "fillmode": "overlay",
              "size": 10,
              "solidity": 0.2
             }
            },
            "type": "barpolar"
           }
          ],
          "carpet": [
           {
            "aaxis": {
             "endlinecolor": "#2a3f5f",
             "gridcolor": "white",
             "linecolor": "white",
             "minorgridcolor": "white",
             "startlinecolor": "#2a3f5f"
            },
            "baxis": {
             "endlinecolor": "#2a3f5f",
             "gridcolor": "white",
             "linecolor": "white",
             "minorgridcolor": "white",
             "startlinecolor": "#2a3f5f"
            },
            "type": "carpet"
           }
          ],
          "choropleth": [
           {
            "colorbar": {
             "outlinewidth": 0,
             "ticks": ""
            },
            "type": "choropleth"
           }
          ],
          "contour": [
           {
            "colorbar": {
             "outlinewidth": 0,
             "ticks": ""
            },
            "colorscale": [
             [
              0,
              "#0d0887"
             ],
             [
              0.1111111111111111,
              "#46039f"
             ],
             [
              0.2222222222222222,
              "#7201a8"
             ],
             [
              0.3333333333333333,
              "#9c179e"
             ],
             [
              0.4444444444444444,
              "#bd3786"
             ],
             [
              0.5555555555555556,
              "#d8576b"
             ],
             [
              0.6666666666666666,
              "#ed7953"
             ],
             [
              0.7777777777777778,
              "#fb9f3a"
             ],
             [
              0.8888888888888888,
              "#fdca26"
             ],
             [
              1,
              "#f0f921"
             ]
            ],
            "type": "contour"
           }
          ],
          "contourcarpet": [
           {
            "colorbar": {
             "outlinewidth": 0,
             "ticks": ""
            },
            "type": "contourcarpet"
           }
          ],
          "heatmap": [
           {
            "colorbar": {
             "outlinewidth": 0,
             "ticks": ""
            },
            "colorscale": [
             [
              0,
              "#0d0887"
             ],
             [
              0.1111111111111111,
              "#46039f"
             ],
             [
              0.2222222222222222,
              "#7201a8"
             ],
             [
              0.3333333333333333,
              "#9c179e"
             ],
             [
              0.4444444444444444,
              "#bd3786"
             ],
             [
              0.5555555555555556,
              "#d8576b"
             ],
             [
              0.6666666666666666,
              "#ed7953"
             ],
             [
              0.7777777777777778,
              "#fb9f3a"
             ],
             [
              0.8888888888888888,
              "#fdca26"
             ],
             [
              1,
              "#f0f921"
             ]
            ],
            "type": "heatmap"
           }
          ],
          "heatmapgl": [
           {
            "colorbar": {
             "outlinewidth": 0,
             "ticks": ""
            },
            "colorscale": [
             [
              0,
              "#0d0887"
             ],
             [
              0.1111111111111111,
              "#46039f"
             ],
             [
              0.2222222222222222,
              "#7201a8"
             ],
             [
              0.3333333333333333,
              "#9c179e"
             ],
             [
              0.4444444444444444,
              "#bd3786"
             ],
             [
              0.5555555555555556,
              "#d8576b"
             ],
             [
              0.6666666666666666,
              "#ed7953"
             ],
             [
              0.7777777777777778,
              "#fb9f3a"
             ],
             [
              0.8888888888888888,
              "#fdca26"
             ],
             [
              1,
              "#f0f921"
             ]
            ],
            "type": "heatmapgl"
           }
          ],
          "histogram": [
           {
            "marker": {
             "pattern": {
              "fillmode": "overlay",
              "size": 10,
              "solidity": 0.2
             }
            },
            "type": "histogram"
           }
          ],
          "histogram2d": [
           {
            "colorbar": {
             "outlinewidth": 0,
             "ticks": ""
            },
            "colorscale": [
             [
              0,
              "#0d0887"
             ],
             [
              0.1111111111111111,
              "#46039f"
             ],
             [
              0.2222222222222222,
              "#7201a8"
             ],
             [
              0.3333333333333333,
              "#9c179e"
             ],
             [
              0.4444444444444444,
              "#bd3786"
             ],
             [
              0.5555555555555556,
              "#d8576b"
             ],
             [
              0.6666666666666666,
              "#ed7953"
             ],
             [
              0.7777777777777778,
              "#fb9f3a"
             ],
             [
              0.8888888888888888,
              "#fdca26"
             ],
             [
              1,
              "#f0f921"
             ]
            ],
            "type": "histogram2d"
           }
          ],
          "histogram2dcontour": [
           {
            "colorbar": {
             "outlinewidth": 0,
             "ticks": ""
            },
            "colorscale": [
             [
              0,
              "#0d0887"
             ],
             [
              0.1111111111111111,
              "#46039f"
             ],
             [
              0.2222222222222222,
              "#7201a8"
             ],
             [
              0.3333333333333333,
              "#9c179e"
             ],
             [
              0.4444444444444444,
              "#bd3786"
             ],
             [
              0.5555555555555556,
              "#d8576b"
             ],
             [
              0.6666666666666666,
              "#ed7953"
             ],
             [
              0.7777777777777778,
              "#fb9f3a"
             ],
             [
              0.8888888888888888,
              "#fdca26"
             ],
             [
              1,
              "#f0f921"
             ]
            ],
            "type": "histogram2dcontour"
           }
          ],
          "mesh3d": [
           {
            "colorbar": {
             "outlinewidth": 0,
             "ticks": ""
            },
            "type": "mesh3d"
           }
          ],
          "parcoords": [
           {
            "line": {
             "colorbar": {
              "outlinewidth": 0,
              "ticks": ""
             }
            },
            "type": "parcoords"
           }
          ],
          "pie": [
           {
            "automargin": true,
            "type": "pie"
           }
          ],
          "scatter": [
           {
            "fillpattern": {
             "fillmode": "overlay",
             "size": 10,
             "solidity": 0.2
            },
            "type": "scatter"
           }
          ],
          "scatter3d": [
           {
            "line": {
             "colorbar": {
              "outlinewidth": 0,
              "ticks": ""
             }
            },
            "marker": {
             "colorbar": {
              "outlinewidth": 0,
              "ticks": ""
             }
            },
            "type": "scatter3d"
           }
          ],
          "scattercarpet": [
           {
            "marker": {
             "colorbar": {
              "outlinewidth": 0,
              "ticks": ""
             }
            },
            "type": "scattercarpet"
           }
          ],
          "scattergeo": [
           {
            "marker": {
             "colorbar": {
              "outlinewidth": 0,
              "ticks": ""
             }
            },
            "type": "scattergeo"
           }
          ],
          "scattergl": [
           {
            "marker": {
             "colorbar": {
              "outlinewidth": 0,
              "ticks": ""
             }
            },
            "type": "scattergl"
           }
          ],
          "scattermapbox": [
           {
            "marker": {
             "colorbar": {
              "outlinewidth": 0,
              "ticks": ""
             }
            },
            "type": "scattermapbox"
           }
          ],
          "scatterpolar": [
           {
            "marker": {
             "colorbar": {
              "outlinewidth": 0,
              "ticks": ""
             }
            },
            "type": "scatterpolar"
           }
          ],
          "scatterpolargl": [
           {
            "marker": {
             "colorbar": {
              "outlinewidth": 0,
              "ticks": ""
             }
            },
            "type": "scatterpolargl"
           }
          ],
          "scatterternary": [
           {
            "marker": {
             "colorbar": {
              "outlinewidth": 0,
              "ticks": ""
             }
            },
            "type": "scatterternary"
           }
          ],
          "surface": [
           {
            "colorbar": {
             "outlinewidth": 0,
             "ticks": ""
            },
            "colorscale": [
             [
              0,
              "#0d0887"
             ],
             [
              0.1111111111111111,
              "#46039f"
             ],
             [
              0.2222222222222222,
              "#7201a8"
             ],
             [
              0.3333333333333333,
              "#9c179e"
             ],
             [
              0.4444444444444444,
              "#bd3786"
             ],
             [
              0.5555555555555556,
              "#d8576b"
             ],
             [
              0.6666666666666666,
              "#ed7953"
             ],
             [
              0.7777777777777778,
              "#fb9f3a"
             ],
             [
              0.8888888888888888,
              "#fdca26"
             ],
             [
              1,
              "#f0f921"
             ]
            ],
            "type": "surface"
           }
          ],
          "table": [
           {
            "cells": {
             "fill": {
              "color": "#EBF0F8"
             },
             "line": {
              "color": "white"
             }
            },
            "header": {
             "fill": {
              "color": "#C8D4E3"
             },
             "line": {
              "color": "white"
             }
            },
            "type": "table"
           }
          ]
         },
         "layout": {
          "annotationdefaults": {
           "arrowcolor": "#2a3f5f",
           "arrowhead": 0,
           "arrowwidth": 1
          },
          "autotypenumbers": "strict",
          "coloraxis": {
           "colorbar": {
            "outlinewidth": 0,
            "ticks": ""
           }
          },
          "colorscale": {
           "diverging": [
            [
             0,
             "#8e0152"
            ],
            [
             0.1,
             "#c51b7d"
            ],
            [
             0.2,
             "#de77ae"
            ],
            [
             0.3,
             "#f1b6da"
            ],
            [
             0.4,
             "#fde0ef"
            ],
            [
             0.5,
             "#f7f7f7"
            ],
            [
             0.6,
             "#e6f5d0"
            ],
            [
             0.7,
             "#b8e186"
            ],
            [
             0.8,
             "#7fbc41"
            ],
            [
             0.9,
             "#4d9221"
            ],
            [
             1,
             "#276419"
            ]
           ],
           "sequential": [
            [
             0,
             "#0d0887"
            ],
            [
             0.1111111111111111,
             "#46039f"
            ],
            [
             0.2222222222222222,
             "#7201a8"
            ],
            [
             0.3333333333333333,
             "#9c179e"
            ],
            [
             0.4444444444444444,
             "#bd3786"
            ],
            [
             0.5555555555555556,
             "#d8576b"
            ],
            [
             0.6666666666666666,
             "#ed7953"
            ],
            [
             0.7777777777777778,
             "#fb9f3a"
            ],
            [
             0.8888888888888888,
             "#fdca26"
            ],
            [
             1,
             "#f0f921"
            ]
           ],
           "sequentialminus": [
            [
             0,
             "#0d0887"
            ],
            [
             0.1111111111111111,
             "#46039f"
            ],
            [
             0.2222222222222222,
             "#7201a8"
            ],
            [
             0.3333333333333333,
             "#9c179e"
            ],
            [
             0.4444444444444444,
             "#bd3786"
            ],
            [
             0.5555555555555556,
             "#d8576b"
            ],
            [
             0.6666666666666666,
             "#ed7953"
            ],
            [
             0.7777777777777778,
             "#fb9f3a"
            ],
            [
             0.8888888888888888,
             "#fdca26"
            ],
            [
             1,
             "#f0f921"
            ]
           ]
          },
          "colorway": [
           "#636efa",
           "#EF553B",
           "#00cc96",
           "#ab63fa",
           "#FFA15A",
           "#19d3f3",
           "#FF6692",
           "#B6E880",
           "#FF97FF",
           "#FECB52"
          ],
          "font": {
           "color": "#2a3f5f"
          },
          "geo": {
           "bgcolor": "white",
           "lakecolor": "white",
           "landcolor": "#E5ECF6",
           "showlakes": true,
           "showland": true,
           "subunitcolor": "white"
          },
          "hoverlabel": {
           "align": "left"
          },
          "hovermode": "closest",
          "mapbox": {
           "style": "light"
          },
          "paper_bgcolor": "white",
          "plot_bgcolor": "#E5ECF6",
          "polar": {
           "angularaxis": {
            "gridcolor": "white",
            "linecolor": "white",
            "ticks": ""
           },
           "bgcolor": "#E5ECF6",
           "radialaxis": {
            "gridcolor": "white",
            "linecolor": "white",
            "ticks": ""
           }
          },
          "scene": {
           "xaxis": {
            "backgroundcolor": "#E5ECF6",
            "gridcolor": "white",
            "gridwidth": 2,
            "linecolor": "white",
            "showbackground": true,
            "ticks": "",
            "zerolinecolor": "white"
           },
           "yaxis": {
            "backgroundcolor": "#E5ECF6",
            "gridcolor": "white",
            "gridwidth": 2,
            "linecolor": "white",
            "showbackground": true,
            "ticks": "",
            "zerolinecolor": "white"
           },
           "zaxis": {
            "backgroundcolor": "#E5ECF6",
            "gridcolor": "white",
            "gridwidth": 2,
            "linecolor": "white",
            "showbackground": true,
            "ticks": "",
            "zerolinecolor": "white"
           }
          },
          "shapedefaults": {
           "line": {
            "color": "#2a3f5f"
           }
          },
          "ternary": {
           "aaxis": {
            "gridcolor": "white",
            "linecolor": "white",
            "ticks": ""
           },
           "baxis": {
            "gridcolor": "white",
            "linecolor": "white",
            "ticks": ""
           },
           "bgcolor": "#E5ECF6",
           "caxis": {
            "gridcolor": "white",
            "linecolor": "white",
            "ticks": ""
           }
          },
          "title": {
           "x": 0.05
          },
          "xaxis": {
           "automargin": true,
           "gridcolor": "white",
           "linecolor": "white",
           "ticks": "",
           "title": {
            "standoff": 15
           },
           "zerolinecolor": "white",
           "zerolinewidth": 2
          },
          "yaxis": {
           "automargin": true,
           "gridcolor": "white",
           "linecolor": "white",
           "ticks": "",
           "title": {
            "standoff": 15
           },
           "zerolinecolor": "white",
           "zerolinewidth": 2
          }
         }
        },
        "xaxis": {
         "anchor": "y",
         "domain": [
          0,
          1
         ],
         "title": {
          "text": "index"
         }
        },
        "yaxis": {
         "anchor": "x",
         "domain": [
          0,
          1
         ],
         "title": {
          "text": "value"
         }
        }
       }
      }
     },
     "metadata": {},
     "output_type": "display_data"
    }
   ],
   "source": [
    "data_canada = px.data.gapminder().query(\"country == 'Canada'\")\n",
    "fig = px.bar(users[columns].median())\n",
    "fig.show()"
   ]
  }
 ],
 "metadata": {
  "interpreter": {
   "hash": "916dbcbb3f70747c44a77c7bcd40155683ae19c65e1c03b4aa3499c5328201f1"
  },
  "kernelspec": {
   "display_name": "Python 3.10.6 64-bit",
   "language": "python",
   "name": "python3"
  },
  "language_info": {
   "codemirror_mode": {
    "name": "ipython",
    "version": 3
   },
   "file_extension": ".py",
   "mimetype": "text/x-python",
   "name": "python",
   "nbconvert_exporter": "python",
   "pygments_lexer": "ipython3",
   "version": "3.10.6"
  },
  "orig_nbformat": 4
 },
 "nbformat": 4,
 "nbformat_minor": 2
}
