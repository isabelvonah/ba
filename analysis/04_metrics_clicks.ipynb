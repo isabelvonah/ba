{
 "cells": [
  {
   "cell_type": "code",
   "execution_count": 1,
   "metadata": {},
   "outputs": [],
   "source": [
    "import pandas as pd\n",
    "import os\n",
    "import math"
   ]
  },
  {
   "cell_type": "code",
   "execution_count": 2,
   "metadata": {},
   "outputs": [],
   "source": [
    "users = pd.read_csv(\"./results/users.csv\")\n",
    "\n",
    "folder_path = './data/tracking_files/'\n",
    "list_of_filenames = os.listdir(folder_path)\n",
    "\n",
    "tasks = [\"A1\", \"A2\", \"A3\", \"A4\", \"A5\", \"A6\", \"A7\", \n",
    "         \"B1\", \"B2\", \"B3\", \"B4\", \n",
    "         \"C1\", \"C2\", \"C3\", \"C4\", \n",
    "         \"D1\", \"D2\", \n",
    "         \"E1\", \"E2\", \"E3\", \n",
    "         \"F1\", \"F2\", \"F3\"]"
   ]
  },
  {
   "cell_type": "markdown",
   "metadata": {},
   "source": [
    "# Pfadlänge"
   ]
  },
  {
   "cell_type": "code",
   "execution_count": 3,
   "metadata": {},
   "outputs": [
    {
     "ename": "KeyError",
     "evalue": "1",
     "output_type": "error",
     "traceback": [
      "\u001b[0;31m---------------------------------------------------------------------------\u001b[0m",
      "\u001b[0;31mKeyError\u001b[0m                                  Traceback (most recent call last)",
      "\u001b[1;32m/home/isabel/Clouds/GoogleDrive/BA/ba/analysis/04_metrics_clicks.ipynb Cell 4'\u001b[0m in \u001b[0;36m<cell line: 1>\u001b[0;34m()\u001b[0m\n\u001b[1;32m     <a href='vscode-notebook-cell:/home/isabel/Clouds/GoogleDrive/BA/ba/analysis/04_metrics_clicks.ipynb#ch0000003?line=9'>10</a>\u001b[0m num_clicks \u001b[39m=\u001b[39m []\n\u001b[1;32m     <a href='vscode-notebook-cell:/home/isabel/Clouds/GoogleDrive/BA/ba/analysis/04_metrics_clicks.ipynb#ch0000003?line=11'>12</a>\u001b[0m \u001b[39mfor\u001b[39;00m user_nr \u001b[39min\u001b[39;00m users[\u001b[39m\"\u001b[39m\u001b[39mnr\u001b[39m\u001b[39m\"\u001b[39m]:\n\u001b[0;32m---> <a href='vscode-notebook-cell:/home/isabel/Clouds/GoogleDrive/BA/ba/analysis/04_metrics_clicks.ipynb#ch0000003?line=13'>14</a>\u001b[0m     df_path \u001b[39m=\u001b[39m task_dict[user_nr]\n\u001b[1;32m     <a href='vscode-notebook-cell:/home/isabel/Clouds/GoogleDrive/BA/ba/analysis/04_metrics_clicks.ipynb#ch0000003?line=14'>15</a>\u001b[0m     num_clicks\u001b[39m.\u001b[39mappend(\u001b[39mlen\u001b[39m(df_path[df_path[\u001b[39m'\u001b[39m\u001b[39maction\u001b[39m\u001b[39m'\u001b[39m] \u001b[39m==\u001b[39m \u001b[39m'\u001b[39m\u001b[39mc\u001b[39m\u001b[39m'\u001b[39m]))\n\u001b[1;32m     <a href='vscode-notebook-cell:/home/isabel/Clouds/GoogleDrive/BA/ba/analysis/04_metrics_clicks.ipynb#ch0000003?line=16'>17</a>\u001b[0m \u001b[39mprint\u001b[39m(num_clicks)\n",
      "\u001b[0;31mKeyError\u001b[0m: 1"
     ]
    }
   ],
   "source": [
    "for task in tasks:\n",
    "    \n",
    "    task_dict = {}\n",
    "\n",
    "    for file in list_of_filenames:\n",
    "        if file.split(\"_\")[1] == task + \".csv\":\n",
    "            df = pd.read_csv(\"data/tracking_files/\" + file)\n",
    "            task_dict[file.split(\"_\")[0]] = df\n",
    "\n",
    "    num_clicks = []\n",
    "\n",
    "    for user_nr in users[\"nr\"]:\n",
    "\n",
    "        df_path = task_dict[user_nr]\n",
    "        num_clicks.append(len(df_path[df_path['action'] == 'c']))\n",
    "\n",
    "    print(num_clicks)\n",
    "\n",
    "    users[\"path_\" + task] = path_lengths\n",
    "\n",
    "users"
   ]
  },
  {
   "cell_type": "markdown",
   "metadata": {},
   "source": [
    "# Bereiche"
   ]
  },
  {
   "cell_type": "code",
   "execution_count": null,
   "metadata": {},
   "outputs": [],
   "source": [
    "# Koordinaten: [x_min, y_min, x_max, y_max]\n",
    "\n",
    "bereiche = {\n",
    "    \"A1\": {\n",
    "        \"Aufgabe\": [],\n",
    "        \"Legende\": [],\n",
    "        \"Grid\": [],\n",
    "        \"Fertig\": []\n",
    "    },\n",
    "    \"A2\": {\n",
    "        \"Aufgabe\": [],\n",
    "        \"Legende\": [],\n",
    "        \"Grid\": [],\n",
    "        \"Fertig\": []\n",
    "    },\n",
    "}"
   ]
  }
 ],
 "metadata": {
  "interpreter": {
   "hash": "916dbcbb3f70747c44a77c7bcd40155683ae19c65e1c03b4aa3499c5328201f1"
  },
  "kernelspec": {
   "display_name": "Python 3.10.6 64-bit",
   "language": "python",
   "name": "python3"
  },
  "language_info": {
   "codemirror_mode": {
    "name": "ipython",
    "version": 3
   },
   "file_extension": ".py",
   "mimetype": "text/x-python",
   "name": "python",
   "nbconvert_exporter": "python",
   "pygments_lexer": "ipython3",
   "version": "3.10.6"
  },
  "orig_nbformat": 4
 },
 "nbformat": 4,
 "nbformat_minor": 2
}
