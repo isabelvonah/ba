{
 "cells": [
  {
   "cell_type": "code",
   "execution_count": 1,
   "id": "69e8fca9",
   "metadata": {},
   "outputs": [],
   "source": [
    "import pandas as pd\n",
    "import os\n",
    "import math\n",
    "import plotly.express as px\n",
    "import plotly.graph_objects as go"
   ]
  },
  {
   "cell_type": "code",
   "execution_count": 2,
   "id": "6600de6a",
   "metadata": {},
   "outputs": [
    {
     "data": {
      "text/html": [
       "<div>\n",
       "<style scoped>\n",
       "    .dataframe tbody tr th:only-of-type {\n",
       "        vertical-align: middle;\n",
       "    }\n",
       "\n",
       "    .dataframe tbody tr th {\n",
       "        vertical-align: top;\n",
       "    }\n",
       "\n",
       "    .dataframe thead th {\n",
       "        text-align: right;\n",
       "    }\n",
       "</style>\n",
       "<table border=\"1\" class=\"dataframe\">\n",
       "  <thead>\n",
       "    <tr style=\"text-align: right;\">\n",
       "      <th></th>\n",
       "      <th>nr</th>\n",
       "      <th>uuid</th>\n",
       "      <th>age</th>\n",
       "      <th>gender</th>\n",
       "      <th>device</th>\n",
       "      <th>sorting_option</th>\n",
       "      <th>num_of_files</th>\n",
       "      <th>coords_match</th>\n",
       "    </tr>\n",
       "  </thead>\n",
       "  <tbody>\n",
       "    <tr>\n",
       "      <th>0</th>\n",
       "      <td>1</td>\n",
       "      <td>649bf93e99881a2b49291e23</td>\n",
       "      <td>61</td>\n",
       "      <td>male</td>\n",
       "      <td>mouse</td>\n",
       "      <td>3</td>\n",
       "      <td>23</td>\n",
       "      <td>True</td>\n",
       "    </tr>\n",
       "    <tr>\n",
       "      <th>1</th>\n",
       "      <td>2</td>\n",
       "      <td>649afe9b8c617b636a488066</td>\n",
       "      <td>41</td>\n",
       "      <td>male</td>\n",
       "      <td>mouse</td>\n",
       "      <td>2</td>\n",
       "      <td>23</td>\n",
       "      <td>True</td>\n",
       "    </tr>\n",
       "    <tr>\n",
       "      <th>2</th>\n",
       "      <td>3</td>\n",
       "      <td>649ad0398c611bb012843f4d</td>\n",
       "      <td>25</td>\n",
       "      <td>male</td>\n",
       "      <td>mouse</td>\n",
       "      <td>2</td>\n",
       "      <td>23</td>\n",
       "      <td>True</td>\n",
       "    </tr>\n",
       "    <tr>\n",
       "      <th>3</th>\n",
       "      <td>4</td>\n",
       "      <td>649af42c8c611c4708e4e18d</td>\n",
       "      <td>25</td>\n",
       "      <td>male</td>\n",
       "      <td>touchpad</td>\n",
       "      <td>2</td>\n",
       "      <td>23</td>\n",
       "      <td>True</td>\n",
       "    </tr>\n",
       "    <tr>\n",
       "      <th>4</th>\n",
       "      <td>5</td>\n",
       "      <td>649b2b1e8c61127922e1a7fa</td>\n",
       "      <td>25</td>\n",
       "      <td>male</td>\n",
       "      <td>mouse</td>\n",
       "      <td>1</td>\n",
       "      <td>23</td>\n",
       "      <td>True</td>\n",
       "    </tr>\n",
       "    <tr>\n",
       "      <th>5</th>\n",
       "      <td>6</td>\n",
       "      <td>64a1b2e38c611f9c485e8b29</td>\n",
       "      <td>40</td>\n",
       "      <td>female</td>\n",
       "      <td>touchpad</td>\n",
       "      <td>1</td>\n",
       "      <td>23</td>\n",
       "      <td>True</td>\n",
       "    </tr>\n",
       "    <tr>\n",
       "      <th>6</th>\n",
       "      <td>7</td>\n",
       "      <td>649b269e8c617a4301bc7247</td>\n",
       "      <td>55</td>\n",
       "      <td>female</td>\n",
       "      <td>mouse</td>\n",
       "      <td>1</td>\n",
       "      <td>23</td>\n",
       "      <td>True</td>\n",
       "    </tr>\n",
       "    <tr>\n",
       "      <th>7</th>\n",
       "      <td>8</td>\n",
       "      <td>64a26a678c6147cbab24d968</td>\n",
       "      <td>19</td>\n",
       "      <td>female</td>\n",
       "      <td>touchpad</td>\n",
       "      <td>1</td>\n",
       "      <td>23</td>\n",
       "      <td>True</td>\n",
       "    </tr>\n",
       "    <tr>\n",
       "      <th>8</th>\n",
       "      <td>9</td>\n",
       "      <td>649be8ba8c619f5efb2614e0</td>\n",
       "      <td>59</td>\n",
       "      <td>female</td>\n",
       "      <td>mouse</td>\n",
       "      <td>2</td>\n",
       "      <td>23</td>\n",
       "      <td>True</td>\n",
       "    </tr>\n",
       "    <tr>\n",
       "      <th>9</th>\n",
       "      <td>10</td>\n",
       "      <td>64a040d18c6121bf2c739076</td>\n",
       "      <td>29</td>\n",
       "      <td>female</td>\n",
       "      <td>touchpad</td>\n",
       "      <td>3</td>\n",
       "      <td>23</td>\n",
       "      <td>True</td>\n",
       "    </tr>\n",
       "    <tr>\n",
       "      <th>10</th>\n",
       "      <td>11</td>\n",
       "      <td>649aba058c612604f08fde63</td>\n",
       "      <td>23</td>\n",
       "      <td>female</td>\n",
       "      <td>touchpad</td>\n",
       "      <td>3</td>\n",
       "      <td>23</td>\n",
       "      <td>True</td>\n",
       "    </tr>\n",
       "    <tr>\n",
       "      <th>11</th>\n",
       "      <td>12</td>\n",
       "      <td>649b38738c611b846db1a58d</td>\n",
       "      <td>25</td>\n",
       "      <td>female</td>\n",
       "      <td>mouse</td>\n",
       "      <td>1</td>\n",
       "      <td>23</td>\n",
       "      <td>True</td>\n",
       "    </tr>\n",
       "    <tr>\n",
       "      <th>12</th>\n",
       "      <td>13</td>\n",
       "      <td>64995bac8c61d60b08d58991</td>\n",
       "      <td>26</td>\n",
       "      <td>female</td>\n",
       "      <td>mouse</td>\n",
       "      <td>1</td>\n",
       "      <td>23</td>\n",
       "      <td>True</td>\n",
       "    </tr>\n",
       "    <tr>\n",
       "      <th>13</th>\n",
       "      <td>14</td>\n",
       "      <td>649c8b1d8c61291698048377</td>\n",
       "      <td>25</td>\n",
       "      <td>female</td>\n",
       "      <td>touchpad</td>\n",
       "      <td>1</td>\n",
       "      <td>23</td>\n",
       "      <td>True</td>\n",
       "    </tr>\n",
       "    <tr>\n",
       "      <th>14</th>\n",
       "      <td>15</td>\n",
       "      <td>649b48cd8c61c6ca0bbae44b</td>\n",
       "      <td>32</td>\n",
       "      <td>female</td>\n",
       "      <td>mouse</td>\n",
       "      <td>2</td>\n",
       "      <td>23</td>\n",
       "      <td>True</td>\n",
       "    </tr>\n",
       "    <tr>\n",
       "      <th>15</th>\n",
       "      <td>16</td>\n",
       "      <td>649b30938c6117fb06cfde92</td>\n",
       "      <td>54</td>\n",
       "      <td>male</td>\n",
       "      <td>mouse</td>\n",
       "      <td>1</td>\n",
       "      <td>23</td>\n",
       "      <td>True</td>\n",
       "    </tr>\n",
       "    <tr>\n",
       "      <th>16</th>\n",
       "      <td>17</td>\n",
       "      <td>649bdcfe8c6121e7a6d49d14</td>\n",
       "      <td>61</td>\n",
       "      <td>male</td>\n",
       "      <td>mouse</td>\n",
       "      <td>3</td>\n",
       "      <td>23</td>\n",
       "      <td>True</td>\n",
       "    </tr>\n",
       "  </tbody>\n",
       "</table>\n",
       "</div>"
      ],
      "text/plain": [
       "    nr                      uuid  age  gender    device  sorting_option  \\\n",
       "0    1  649bf93e99881a2b49291e23   61    male     mouse               3   \n",
       "1    2  649afe9b8c617b636a488066   41    male     mouse               2   \n",
       "2    3  649ad0398c611bb012843f4d   25    male     mouse               2   \n",
       "3    4  649af42c8c611c4708e4e18d   25    male  touchpad               2   \n",
       "4    5  649b2b1e8c61127922e1a7fa   25    male     mouse               1   \n",
       "5    6  64a1b2e38c611f9c485e8b29   40  female  touchpad               1   \n",
       "6    7  649b269e8c617a4301bc7247   55  female     mouse               1   \n",
       "7    8  64a26a678c6147cbab24d968   19  female  touchpad               1   \n",
       "8    9  649be8ba8c619f5efb2614e0   59  female     mouse               2   \n",
       "9   10  64a040d18c6121bf2c739076   29  female  touchpad               3   \n",
       "10  11  649aba058c612604f08fde63   23  female  touchpad               3   \n",
       "11  12  649b38738c611b846db1a58d   25  female     mouse               1   \n",
       "12  13  64995bac8c61d60b08d58991   26  female     mouse               1   \n",
       "13  14  649c8b1d8c61291698048377   25  female  touchpad               1   \n",
       "14  15  649b48cd8c61c6ca0bbae44b   32  female     mouse               2   \n",
       "15  16  649b30938c6117fb06cfde92   54    male     mouse               1   \n",
       "16  17  649bdcfe8c6121e7a6d49d14   61    male     mouse               3   \n",
       "\n",
       "    num_of_files  coords_match  \n",
       "0             23          True  \n",
       "1             23          True  \n",
       "2             23          True  \n",
       "3             23          True  \n",
       "4             23          True  \n",
       "5             23          True  \n",
       "6             23          True  \n",
       "7             23          True  \n",
       "8             23          True  \n",
       "9             23          True  \n",
       "10            23          True  \n",
       "11            23          True  \n",
       "12            23          True  \n",
       "13            23          True  \n",
       "14            23          True  \n",
       "15            23          True  \n",
       "16            23          True  "
      ]
     },
     "execution_count": 2,
     "metadata": {},
     "output_type": "execute_result"
    }
   ],
   "source": [
    "users = pd.read_csv(\"./results/users.csv\")\n",
    "\n",
    "folder_path = './data/tracking_files/'\n",
    "list_of_filenames = os.listdir(folder_path)\n",
    "\n",
    "tasks = [\"F1\", \"F2\", \"F3\"]\n",
    "users"
   ]
  },
  {
   "cell_type": "markdown",
   "id": "b35754c4",
   "metadata": {},
   "source": [
    "# path"
   ]
  },
  {
   "cell_type": "code",
   "execution_count": 3,
   "id": "c70bd07c",
   "metadata": {},
   "outputs": [
    {
     "name": "stdout",
     "output_type": "stream",
     "text": [
      "1\n",
      "2\n",
      "3\n",
      "4\n",
      "5\n",
      "6\n",
      "7\n",
      "8\n",
      "9\n",
      "10\n",
      "11\n",
      "12\n",
      "13\n",
      "14\n",
      "15\n",
      "16\n",
      "17\n",
      "1\n",
      "2\n",
      "3\n",
      "4\n",
      "5\n",
      "6\n",
      "7\n",
      "8\n",
      "9\n",
      "10\n",
      "11\n",
      "12\n",
      "13\n",
      "14\n",
      "15\n",
      "16\n",
      "17\n",
      "1\n",
      "2\n",
      "3\n",
      "4\n",
      "5\n",
      "6\n",
      "7\n",
      "8\n",
      "9\n",
      "10\n",
      "11\n",
      "12\n",
      "13\n",
      "14\n",
      "15\n",
      "16\n",
      "17\n"
     ]
    },
    {
     "data": {
      "text/html": [
       "<div>\n",
       "<style scoped>\n",
       "    .dataframe tbody tr th:only-of-type {\n",
       "        vertical-align: middle;\n",
       "    }\n",
       "\n",
       "    .dataframe tbody tr th {\n",
       "        vertical-align: top;\n",
       "    }\n",
       "\n",
       "    .dataframe thead th {\n",
       "        text-align: right;\n",
       "    }\n",
       "</style>\n",
       "<table border=\"1\" class=\"dataframe\">\n",
       "  <thead>\n",
       "    <tr style=\"text-align: right;\">\n",
       "      <th></th>\n",
       "      <th>nr</th>\n",
       "      <th>uuid</th>\n",
       "      <th>age</th>\n",
       "      <th>gender</th>\n",
       "      <th>device</th>\n",
       "      <th>sorting_option</th>\n",
       "      <th>num_of_files</th>\n",
       "      <th>coords_match</th>\n",
       "      <th>path_F1</th>\n",
       "      <th>path_F2</th>\n",
       "      <th>path_F3</th>\n",
       "    </tr>\n",
       "  </thead>\n",
       "  <tbody>\n",
       "    <tr>\n",
       "      <th>0</th>\n",
       "      <td>1</td>\n",
       "      <td>649bf93e99881a2b49291e23</td>\n",
       "      <td>61</td>\n",
       "      <td>male</td>\n",
       "      <td>mouse</td>\n",
       "      <td>3</td>\n",
       "      <td>23</td>\n",
       "      <td>True</td>\n",
       "      <td>950.938547</td>\n",
       "      <td>875.354547</td>\n",
       "      <td>1441.839664</td>\n",
       "    </tr>\n",
       "    <tr>\n",
       "      <th>1</th>\n",
       "      <td>2</td>\n",
       "      <td>649afe9b8c617b636a488066</td>\n",
       "      <td>41</td>\n",
       "      <td>male</td>\n",
       "      <td>mouse</td>\n",
       "      <td>2</td>\n",
       "      <td>23</td>\n",
       "      <td>True</td>\n",
       "      <td>450.533436</td>\n",
       "      <td>637.377266</td>\n",
       "      <td>518.718348</td>\n",
       "    </tr>\n",
       "    <tr>\n",
       "      <th>2</th>\n",
       "      <td>3</td>\n",
       "      <td>649ad0398c611bb012843f4d</td>\n",
       "      <td>25</td>\n",
       "      <td>male</td>\n",
       "      <td>mouse</td>\n",
       "      <td>2</td>\n",
       "      <td>23</td>\n",
       "      <td>True</td>\n",
       "      <td>785.396508</td>\n",
       "      <td>728.063684</td>\n",
       "      <td>649.676250</td>\n",
       "    </tr>\n",
       "    <tr>\n",
       "      <th>3</th>\n",
       "      <td>4</td>\n",
       "      <td>649af42c8c611c4708e4e18d</td>\n",
       "      <td>25</td>\n",
       "      <td>male</td>\n",
       "      <td>touchpad</td>\n",
       "      <td>2</td>\n",
       "      <td>23</td>\n",
       "      <td>True</td>\n",
       "      <td>596.366156</td>\n",
       "      <td>740.243115</td>\n",
       "      <td>702.453166</td>\n",
       "    </tr>\n",
       "    <tr>\n",
       "      <th>4</th>\n",
       "      <td>5</td>\n",
       "      <td>649b2b1e8c61127922e1a7fa</td>\n",
       "      <td>25</td>\n",
       "      <td>male</td>\n",
       "      <td>mouse</td>\n",
       "      <td>1</td>\n",
       "      <td>23</td>\n",
       "      <td>True</td>\n",
       "      <td>641.223339</td>\n",
       "      <td>645.234367</td>\n",
       "      <td>756.770399</td>\n",
       "    </tr>\n",
       "    <tr>\n",
       "      <th>5</th>\n",
       "      <td>6</td>\n",
       "      <td>64a1b2e38c611f9c485e8b29</td>\n",
       "      <td>40</td>\n",
       "      <td>female</td>\n",
       "      <td>touchpad</td>\n",
       "      <td>1</td>\n",
       "      <td>23</td>\n",
       "      <td>True</td>\n",
       "      <td>1168.867175</td>\n",
       "      <td>908.517308</td>\n",
       "      <td>553.460750</td>\n",
       "    </tr>\n",
       "    <tr>\n",
       "      <th>6</th>\n",
       "      <td>7</td>\n",
       "      <td>649b269e8c617a4301bc7247</td>\n",
       "      <td>55</td>\n",
       "      <td>female</td>\n",
       "      <td>mouse</td>\n",
       "      <td>1</td>\n",
       "      <td>23</td>\n",
       "      <td>True</td>\n",
       "      <td>714.924015</td>\n",
       "      <td>884.963711</td>\n",
       "      <td>1630.297685</td>\n",
       "    </tr>\n",
       "    <tr>\n",
       "      <th>7</th>\n",
       "      <td>8</td>\n",
       "      <td>64a26a678c6147cbab24d968</td>\n",
       "      <td>19</td>\n",
       "      <td>female</td>\n",
       "      <td>touchpad</td>\n",
       "      <td>1</td>\n",
       "      <td>23</td>\n",
       "      <td>True</td>\n",
       "      <td>556.459741</td>\n",
       "      <td>627.720516</td>\n",
       "      <td>559.491683</td>\n",
       "    </tr>\n",
       "    <tr>\n",
       "      <th>8</th>\n",
       "      <td>9</td>\n",
       "      <td>649be8ba8c619f5efb2614e0</td>\n",
       "      <td>59</td>\n",
       "      <td>female</td>\n",
       "      <td>mouse</td>\n",
       "      <td>2</td>\n",
       "      <td>23</td>\n",
       "      <td>True</td>\n",
       "      <td>1114.057519</td>\n",
       "      <td>1156.777835</td>\n",
       "      <td>596.028811</td>\n",
       "    </tr>\n",
       "    <tr>\n",
       "      <th>9</th>\n",
       "      <td>10</td>\n",
       "      <td>64a040d18c6121bf2c739076</td>\n",
       "      <td>29</td>\n",
       "      <td>female</td>\n",
       "      <td>touchpad</td>\n",
       "      <td>3</td>\n",
       "      <td>23</td>\n",
       "      <td>True</td>\n",
       "      <td>1528.353084</td>\n",
       "      <td>774.289740</td>\n",
       "      <td>725.949738</td>\n",
       "    </tr>\n",
       "    <tr>\n",
       "      <th>10</th>\n",
       "      <td>11</td>\n",
       "      <td>649aba058c612604f08fde63</td>\n",
       "      <td>23</td>\n",
       "      <td>female</td>\n",
       "      <td>touchpad</td>\n",
       "      <td>3</td>\n",
       "      <td>23</td>\n",
       "      <td>True</td>\n",
       "      <td>709.494589</td>\n",
       "      <td>649.799945</td>\n",
       "      <td>601.564415</td>\n",
       "    </tr>\n",
       "    <tr>\n",
       "      <th>11</th>\n",
       "      <td>12</td>\n",
       "      <td>649b38738c611b846db1a58d</td>\n",
       "      <td>25</td>\n",
       "      <td>female</td>\n",
       "      <td>mouse</td>\n",
       "      <td>1</td>\n",
       "      <td>23</td>\n",
       "      <td>True</td>\n",
       "      <td>462.024609</td>\n",
       "      <td>634.537420</td>\n",
       "      <td>596.069790</td>\n",
       "    </tr>\n",
       "    <tr>\n",
       "      <th>12</th>\n",
       "      <td>13</td>\n",
       "      <td>64995bac8c61d60b08d58991</td>\n",
       "      <td>26</td>\n",
       "      <td>female</td>\n",
       "      <td>mouse</td>\n",
       "      <td>1</td>\n",
       "      <td>23</td>\n",
       "      <td>True</td>\n",
       "      <td>758.067394</td>\n",
       "      <td>748.309167</td>\n",
       "      <td>642.897014</td>\n",
       "    </tr>\n",
       "    <tr>\n",
       "      <th>13</th>\n",
       "      <td>14</td>\n",
       "      <td>649c8b1d8c61291698048377</td>\n",
       "      <td>25</td>\n",
       "      <td>female</td>\n",
       "      <td>touchpad</td>\n",
       "      <td>1</td>\n",
       "      <td>23</td>\n",
       "      <td>True</td>\n",
       "      <td>448.560994</td>\n",
       "      <td>739.526833</td>\n",
       "      <td>544.407517</td>\n",
       "    </tr>\n",
       "    <tr>\n",
       "      <th>14</th>\n",
       "      <td>15</td>\n",
       "      <td>649b48cd8c61c6ca0bbae44b</td>\n",
       "      <td>32</td>\n",
       "      <td>female</td>\n",
       "      <td>mouse</td>\n",
       "      <td>2</td>\n",
       "      <td>23</td>\n",
       "      <td>True</td>\n",
       "      <td>1072.010426</td>\n",
       "      <td>687.622957</td>\n",
       "      <td>740.435063</td>\n",
       "    </tr>\n",
       "    <tr>\n",
       "      <th>15</th>\n",
       "      <td>16</td>\n",
       "      <td>649b30938c6117fb06cfde92</td>\n",
       "      <td>54</td>\n",
       "      <td>male</td>\n",
       "      <td>mouse</td>\n",
       "      <td>1</td>\n",
       "      <td>23</td>\n",
       "      <td>True</td>\n",
       "      <td>495.727829</td>\n",
       "      <td>747.516437</td>\n",
       "      <td>651.115120</td>\n",
       "    </tr>\n",
       "    <tr>\n",
       "      <th>16</th>\n",
       "      <td>17</td>\n",
       "      <td>649bdcfe8c6121e7a6d49d14</td>\n",
       "      <td>61</td>\n",
       "      <td>male</td>\n",
       "      <td>mouse</td>\n",
       "      <td>3</td>\n",
       "      <td>23</td>\n",
       "      <td>True</td>\n",
       "      <td>488.747958</td>\n",
       "      <td>621.934381</td>\n",
       "      <td>605.022259</td>\n",
       "    </tr>\n",
       "  </tbody>\n",
       "</table>\n",
       "</div>"
      ],
      "text/plain": [
       "    nr                      uuid  age  gender    device  sorting_option  \\\n",
       "0    1  649bf93e99881a2b49291e23   61    male     mouse               3   \n",
       "1    2  649afe9b8c617b636a488066   41    male     mouse               2   \n",
       "2    3  649ad0398c611bb012843f4d   25    male     mouse               2   \n",
       "3    4  649af42c8c611c4708e4e18d   25    male  touchpad               2   \n",
       "4    5  649b2b1e8c61127922e1a7fa   25    male     mouse               1   \n",
       "5    6  64a1b2e38c611f9c485e8b29   40  female  touchpad               1   \n",
       "6    7  649b269e8c617a4301bc7247   55  female     mouse               1   \n",
       "7    8  64a26a678c6147cbab24d968   19  female  touchpad               1   \n",
       "8    9  649be8ba8c619f5efb2614e0   59  female     mouse               2   \n",
       "9   10  64a040d18c6121bf2c739076   29  female  touchpad               3   \n",
       "10  11  649aba058c612604f08fde63   23  female  touchpad               3   \n",
       "11  12  649b38738c611b846db1a58d   25  female     mouse               1   \n",
       "12  13  64995bac8c61d60b08d58991   26  female     mouse               1   \n",
       "13  14  649c8b1d8c61291698048377   25  female  touchpad               1   \n",
       "14  15  649b48cd8c61c6ca0bbae44b   32  female     mouse               2   \n",
       "15  16  649b30938c6117fb06cfde92   54    male     mouse               1   \n",
       "16  17  649bdcfe8c6121e7a6d49d14   61    male     mouse               3   \n",
       "\n",
       "    num_of_files  coords_match      path_F1      path_F2      path_F3  \n",
       "0             23          True   950.938547   875.354547  1441.839664  \n",
       "1             23          True   450.533436   637.377266   518.718348  \n",
       "2             23          True   785.396508   728.063684   649.676250  \n",
       "3             23          True   596.366156   740.243115   702.453166  \n",
       "4             23          True   641.223339   645.234367   756.770399  \n",
       "5             23          True  1168.867175   908.517308   553.460750  \n",
       "6             23          True   714.924015   884.963711  1630.297685  \n",
       "7             23          True   556.459741   627.720516   559.491683  \n",
       "8             23          True  1114.057519  1156.777835   596.028811  \n",
       "9             23          True  1528.353084   774.289740   725.949738  \n",
       "10            23          True   709.494589   649.799945   601.564415  \n",
       "11            23          True   462.024609   634.537420   596.069790  \n",
       "12            23          True   758.067394   748.309167   642.897014  \n",
       "13            23          True   448.560994   739.526833   544.407517  \n",
       "14            23          True  1072.010426   687.622957   740.435063  \n",
       "15            23          True   495.727829   747.516437   651.115120  \n",
       "16            23          True   488.747958   621.934381   605.022259  "
      ]
     },
     "execution_count": 3,
     "metadata": {},
     "output_type": "execute_result"
    }
   ],
   "source": [
    "for task in tasks:\n",
    "    \n",
    "    task_dict = {}\n",
    "\n",
    "    for file in list_of_filenames:\n",
    "        if file.split(\"_\")[1] == task + \".csv\":\n",
    "            df = pd.read_csv(\"data/tracking_files/\" + file)\n",
    "            task_dict[file.split(\"_\")[0]] = df\n",
    "\n",
    "    path_lengths = []\n",
    "\n",
    "    for user_nr in users[\"nr\"]:\n",
    "        \n",
    "        print(user_nr)\n",
    "        path_length = 0\n",
    "        df_path = task_dict[str(user_nr)]\n",
    "\n",
    "        for i in range(1, len(df_path)):\n",
    "            dx = df_path['x'].iloc[i] - df_path['x'].iloc[i-1]\n",
    "            dy = df_path['y'].iloc[i] - df_path['y'].iloc[i-1]\n",
    "            segment_length = math.sqrt(dx**2 + dy**2)\n",
    "            path_length += segment_length\n",
    "        path_lengths.append(path_length)\n",
    "\n",
    "    users[\"path_\" + task] = path_lengths\n",
    "\n",
    "users"
   ]
  },
  {
   "cell_type": "markdown",
   "id": "19b250ff",
   "metadata": {},
   "source": [
    "# time"
   ]
  },
  {
   "cell_type": "code",
   "execution_count": 7,
   "id": "f4d8796f",
   "metadata": {},
   "outputs": [
    {
     "data": {
      "text/html": [
       "<div>\n",
       "<style scoped>\n",
       "    .dataframe tbody tr th:only-of-type {\n",
       "        vertical-align: middle;\n",
       "    }\n",
       "\n",
       "    .dataframe tbody tr th {\n",
       "        vertical-align: top;\n",
       "    }\n",
       "\n",
       "    .dataframe thead th {\n",
       "        text-align: right;\n",
       "    }\n",
       "</style>\n",
       "<table border=\"1\" class=\"dataframe\">\n",
       "  <thead>\n",
       "    <tr style=\"text-align: right;\">\n",
       "      <th></th>\n",
       "      <th>nr</th>\n",
       "      <th>uuid</th>\n",
       "      <th>age</th>\n",
       "      <th>gender</th>\n",
       "      <th>device</th>\n",
       "      <th>sorting_option</th>\n",
       "      <th>num_of_files</th>\n",
       "      <th>coords_match</th>\n",
       "      <th>path_F1</th>\n",
       "      <th>path_F2</th>\n",
       "      <th>path_F3</th>\n",
       "      <th>time_F1</th>\n",
       "      <th>time_F2</th>\n",
       "      <th>time_F3</th>\n",
       "    </tr>\n",
       "  </thead>\n",
       "  <tbody>\n",
       "    <tr>\n",
       "      <th>0</th>\n",
       "      <td>1</td>\n",
       "      <td>649bf93e99881a2b49291e23</td>\n",
       "      <td>61</td>\n",
       "      <td>male</td>\n",
       "      <td>mouse</td>\n",
       "      <td>3</td>\n",
       "      <td>23</td>\n",
       "      <td>True</td>\n",
       "      <td>950.938547</td>\n",
       "      <td>875.354547</td>\n",
       "      <td>1441.839664</td>\n",
       "      <td>8.224</td>\n",
       "      <td>10.033</td>\n",
       "      <td>7.729</td>\n",
       "    </tr>\n",
       "    <tr>\n",
       "      <th>1</th>\n",
       "      <td>2</td>\n",
       "      <td>649afe9b8c617b636a488066</td>\n",
       "      <td>41</td>\n",
       "      <td>male</td>\n",
       "      <td>mouse</td>\n",
       "      <td>2</td>\n",
       "      <td>23</td>\n",
       "      <td>True</td>\n",
       "      <td>450.533436</td>\n",
       "      <td>637.377266</td>\n",
       "      <td>518.718348</td>\n",
       "      <td>3.599</td>\n",
       "      <td>4.718</td>\n",
       "      <td>4.808</td>\n",
       "    </tr>\n",
       "    <tr>\n",
       "      <th>2</th>\n",
       "      <td>3</td>\n",
       "      <td>649ad0398c611bb012843f4d</td>\n",
       "      <td>25</td>\n",
       "      <td>male</td>\n",
       "      <td>mouse</td>\n",
       "      <td>2</td>\n",
       "      <td>23</td>\n",
       "      <td>True</td>\n",
       "      <td>785.396508</td>\n",
       "      <td>728.063684</td>\n",
       "      <td>649.676250</td>\n",
       "      <td>2.495</td>\n",
       "      <td>2.578</td>\n",
       "      <td>3.463</td>\n",
       "    </tr>\n",
       "    <tr>\n",
       "      <th>3</th>\n",
       "      <td>4</td>\n",
       "      <td>649af42c8c611c4708e4e18d</td>\n",
       "      <td>25</td>\n",
       "      <td>male</td>\n",
       "      <td>touchpad</td>\n",
       "      <td>2</td>\n",
       "      <td>23</td>\n",
       "      <td>True</td>\n",
       "      <td>596.366156</td>\n",
       "      <td>740.243115</td>\n",
       "      <td>702.453166</td>\n",
       "      <td>4.070</td>\n",
       "      <td>3.699</td>\n",
       "      <td>4.802</td>\n",
       "    </tr>\n",
       "    <tr>\n",
       "      <th>4</th>\n",
       "      <td>5</td>\n",
       "      <td>649b2b1e8c61127922e1a7fa</td>\n",
       "      <td>25</td>\n",
       "      <td>male</td>\n",
       "      <td>mouse</td>\n",
       "      <td>1</td>\n",
       "      <td>23</td>\n",
       "      <td>True</td>\n",
       "      <td>641.223339</td>\n",
       "      <td>645.234367</td>\n",
       "      <td>756.770399</td>\n",
       "      <td>4.414</td>\n",
       "      <td>5.010</td>\n",
       "      <td>2.654</td>\n",
       "    </tr>\n",
       "    <tr>\n",
       "      <th>5</th>\n",
       "      <td>6</td>\n",
       "      <td>64a1b2e38c611f9c485e8b29</td>\n",
       "      <td>40</td>\n",
       "      <td>female</td>\n",
       "      <td>touchpad</td>\n",
       "      <td>1</td>\n",
       "      <td>23</td>\n",
       "      <td>True</td>\n",
       "      <td>1168.867175</td>\n",
       "      <td>908.517308</td>\n",
       "      <td>553.460750</td>\n",
       "      <td>7.121</td>\n",
       "      <td>4.961</td>\n",
       "      <td>2.420</td>\n",
       "    </tr>\n",
       "    <tr>\n",
       "      <th>6</th>\n",
       "      <td>7</td>\n",
       "      <td>649b269e8c617a4301bc7247</td>\n",
       "      <td>55</td>\n",
       "      <td>female</td>\n",
       "      <td>mouse</td>\n",
       "      <td>1</td>\n",
       "      <td>23</td>\n",
       "      <td>True</td>\n",
       "      <td>714.924015</td>\n",
       "      <td>884.963711</td>\n",
       "      <td>1630.297685</td>\n",
       "      <td>10.633</td>\n",
       "      <td>19.594</td>\n",
       "      <td>9.720</td>\n",
       "    </tr>\n",
       "    <tr>\n",
       "      <th>7</th>\n",
       "      <td>8</td>\n",
       "      <td>64a26a678c6147cbab24d968</td>\n",
       "      <td>19</td>\n",
       "      <td>female</td>\n",
       "      <td>touchpad</td>\n",
       "      <td>1</td>\n",
       "      <td>23</td>\n",
       "      <td>True</td>\n",
       "      <td>556.459741</td>\n",
       "      <td>627.720516</td>\n",
       "      <td>559.491683</td>\n",
       "      <td>5.972</td>\n",
       "      <td>5.235</td>\n",
       "      <td>6.499</td>\n",
       "    </tr>\n",
       "    <tr>\n",
       "      <th>8</th>\n",
       "      <td>9</td>\n",
       "      <td>649be8ba8c619f5efb2614e0</td>\n",
       "      <td>59</td>\n",
       "      <td>female</td>\n",
       "      <td>mouse</td>\n",
       "      <td>2</td>\n",
       "      <td>23</td>\n",
       "      <td>True</td>\n",
       "      <td>1114.057519</td>\n",
       "      <td>1156.777835</td>\n",
       "      <td>596.028811</td>\n",
       "      <td>6.657</td>\n",
       "      <td>6.361</td>\n",
       "      <td>9.282</td>\n",
       "    </tr>\n",
       "    <tr>\n",
       "      <th>9</th>\n",
       "      <td>10</td>\n",
       "      <td>64a040d18c6121bf2c739076</td>\n",
       "      <td>29</td>\n",
       "      <td>female</td>\n",
       "      <td>touchpad</td>\n",
       "      <td>3</td>\n",
       "      <td>23</td>\n",
       "      <td>True</td>\n",
       "      <td>1528.353084</td>\n",
       "      <td>774.289740</td>\n",
       "      <td>725.949738</td>\n",
       "      <td>22.116</td>\n",
       "      <td>6.473</td>\n",
       "      <td>7.407</td>\n",
       "    </tr>\n",
       "    <tr>\n",
       "      <th>10</th>\n",
       "      <td>11</td>\n",
       "      <td>649aba058c612604f08fde63</td>\n",
       "      <td>23</td>\n",
       "      <td>female</td>\n",
       "      <td>touchpad</td>\n",
       "      <td>3</td>\n",
       "      <td>23</td>\n",
       "      <td>True</td>\n",
       "      <td>709.494589</td>\n",
       "      <td>649.799945</td>\n",
       "      <td>601.564415</td>\n",
       "      <td>14.702</td>\n",
       "      <td>7.511</td>\n",
       "      <td>6.812</td>\n",
       "    </tr>\n",
       "    <tr>\n",
       "      <th>11</th>\n",
       "      <td>12</td>\n",
       "      <td>649b38738c611b846db1a58d</td>\n",
       "      <td>25</td>\n",
       "      <td>female</td>\n",
       "      <td>mouse</td>\n",
       "      <td>1</td>\n",
       "      <td>23</td>\n",
       "      <td>True</td>\n",
       "      <td>462.024609</td>\n",
       "      <td>634.537420</td>\n",
       "      <td>596.069790</td>\n",
       "      <td>6.407</td>\n",
       "      <td>5.444</td>\n",
       "      <td>4.211</td>\n",
       "    </tr>\n",
       "    <tr>\n",
       "      <th>12</th>\n",
       "      <td>13</td>\n",
       "      <td>64995bac8c61d60b08d58991</td>\n",
       "      <td>26</td>\n",
       "      <td>female</td>\n",
       "      <td>mouse</td>\n",
       "      <td>1</td>\n",
       "      <td>23</td>\n",
       "      <td>True</td>\n",
       "      <td>758.067394</td>\n",
       "      <td>748.309167</td>\n",
       "      <td>642.897014</td>\n",
       "      <td>4.113</td>\n",
       "      <td>5.570</td>\n",
       "      <td>4.136</td>\n",
       "    </tr>\n",
       "    <tr>\n",
       "      <th>13</th>\n",
       "      <td>14</td>\n",
       "      <td>649c8b1d8c61291698048377</td>\n",
       "      <td>25</td>\n",
       "      <td>female</td>\n",
       "      <td>touchpad</td>\n",
       "      <td>1</td>\n",
       "      <td>23</td>\n",
       "      <td>True</td>\n",
       "      <td>448.560994</td>\n",
       "      <td>739.526833</td>\n",
       "      <td>544.407517</td>\n",
       "      <td>5.331</td>\n",
       "      <td>8.256</td>\n",
       "      <td>4.522</td>\n",
       "    </tr>\n",
       "    <tr>\n",
       "      <th>14</th>\n",
       "      <td>15</td>\n",
       "      <td>649b48cd8c61c6ca0bbae44b</td>\n",
       "      <td>32</td>\n",
       "      <td>female</td>\n",
       "      <td>mouse</td>\n",
       "      <td>2</td>\n",
       "      <td>23</td>\n",
       "      <td>True</td>\n",
       "      <td>1072.010426</td>\n",
       "      <td>687.622957</td>\n",
       "      <td>740.435063</td>\n",
       "      <td>3.635</td>\n",
       "      <td>6.635</td>\n",
       "      <td>7.205</td>\n",
       "    </tr>\n",
       "    <tr>\n",
       "      <th>15</th>\n",
       "      <td>16</td>\n",
       "      <td>649b30938c6117fb06cfde92</td>\n",
       "      <td>54</td>\n",
       "      <td>male</td>\n",
       "      <td>mouse</td>\n",
       "      <td>1</td>\n",
       "      <td>23</td>\n",
       "      <td>True</td>\n",
       "      <td>495.727829</td>\n",
       "      <td>747.516437</td>\n",
       "      <td>651.115120</td>\n",
       "      <td>4.596</td>\n",
       "      <td>4.093</td>\n",
       "      <td>4.335</td>\n",
       "    </tr>\n",
       "    <tr>\n",
       "      <th>16</th>\n",
       "      <td>17</td>\n",
       "      <td>649bdcfe8c6121e7a6d49d14</td>\n",
       "      <td>61</td>\n",
       "      <td>male</td>\n",
       "      <td>mouse</td>\n",
       "      <td>3</td>\n",
       "      <td>23</td>\n",
       "      <td>True</td>\n",
       "      <td>488.747958</td>\n",
       "      <td>621.934381</td>\n",
       "      <td>605.022259</td>\n",
       "      <td>10.954</td>\n",
       "      <td>5.269</td>\n",
       "      <td>5.594</td>\n",
       "    </tr>\n",
       "  </tbody>\n",
       "</table>\n",
       "</div>"
      ],
      "text/plain": [
       "    nr                      uuid  age  gender    device  sorting_option  \\\n",
       "0    1  649bf93e99881a2b49291e23   61    male     mouse               3   \n",
       "1    2  649afe9b8c617b636a488066   41    male     mouse               2   \n",
       "2    3  649ad0398c611bb012843f4d   25    male     mouse               2   \n",
       "3    4  649af42c8c611c4708e4e18d   25    male  touchpad               2   \n",
       "4    5  649b2b1e8c61127922e1a7fa   25    male     mouse               1   \n",
       "5    6  64a1b2e38c611f9c485e8b29   40  female  touchpad               1   \n",
       "6    7  649b269e8c617a4301bc7247   55  female     mouse               1   \n",
       "7    8  64a26a678c6147cbab24d968   19  female  touchpad               1   \n",
       "8    9  649be8ba8c619f5efb2614e0   59  female     mouse               2   \n",
       "9   10  64a040d18c6121bf2c739076   29  female  touchpad               3   \n",
       "10  11  649aba058c612604f08fde63   23  female  touchpad               3   \n",
       "11  12  649b38738c611b846db1a58d   25  female     mouse               1   \n",
       "12  13  64995bac8c61d60b08d58991   26  female     mouse               1   \n",
       "13  14  649c8b1d8c61291698048377   25  female  touchpad               1   \n",
       "14  15  649b48cd8c61c6ca0bbae44b   32  female     mouse               2   \n",
       "15  16  649b30938c6117fb06cfde92   54    male     mouse               1   \n",
       "16  17  649bdcfe8c6121e7a6d49d14   61    male     mouse               3   \n",
       "\n",
       "    num_of_files  coords_match      path_F1      path_F2      path_F3  \\\n",
       "0             23          True   950.938547   875.354547  1441.839664   \n",
       "1             23          True   450.533436   637.377266   518.718348   \n",
       "2             23          True   785.396508   728.063684   649.676250   \n",
       "3             23          True   596.366156   740.243115   702.453166   \n",
       "4             23          True   641.223339   645.234367   756.770399   \n",
       "5             23          True  1168.867175   908.517308   553.460750   \n",
       "6             23          True   714.924015   884.963711  1630.297685   \n",
       "7             23          True   556.459741   627.720516   559.491683   \n",
       "8             23          True  1114.057519  1156.777835   596.028811   \n",
       "9             23          True  1528.353084   774.289740   725.949738   \n",
       "10            23          True   709.494589   649.799945   601.564415   \n",
       "11            23          True   462.024609   634.537420   596.069790   \n",
       "12            23          True   758.067394   748.309167   642.897014   \n",
       "13            23          True   448.560994   739.526833   544.407517   \n",
       "14            23          True  1072.010426   687.622957   740.435063   \n",
       "15            23          True   495.727829   747.516437   651.115120   \n",
       "16            23          True   488.747958   621.934381   605.022259   \n",
       "\n",
       "    time_F1  time_F2  time_F3  \n",
       "0     8.224   10.033    7.729  \n",
       "1     3.599    4.718    4.808  \n",
       "2     2.495    2.578    3.463  \n",
       "3     4.070    3.699    4.802  \n",
       "4     4.414    5.010    2.654  \n",
       "5     7.121    4.961    2.420  \n",
       "6    10.633   19.594    9.720  \n",
       "7     5.972    5.235    6.499  \n",
       "8     6.657    6.361    9.282  \n",
       "9    22.116    6.473    7.407  \n",
       "10   14.702    7.511    6.812  \n",
       "11    6.407    5.444    4.211  \n",
       "12    4.113    5.570    4.136  \n",
       "13    5.331    8.256    4.522  \n",
       "14    3.635    6.635    7.205  \n",
       "15    4.596    4.093    4.335  \n",
       "16   10.954    5.269    5.594  "
      ]
     },
     "execution_count": 7,
     "metadata": {},
     "output_type": "execute_result"
    }
   ],
   "source": [
    "for task in tasks:\n",
    "    \n",
    "    task_times = []\n",
    "\n",
    "    for user in users[\"nr\"]:\n",
    "        df = pd.read_csv(\"data/tracking_files/\" + str(user) + \"_\" + task + \".csv\")\n",
    "        task_times.append(df.iloc[-1][\"ms\"] / 1000)\n",
    "\n",
    "    users[\"time_\" + task] = task_times\n",
    "\n",
    "users"
   ]
  },
  {
   "cell_type": "markdown",
   "id": "c8196368",
   "metadata": {},
   "source": [
    "# Kontrolle\n",
    "\n",
    "nicht nötig, da man ohne Klick auf \"Ok\" gar nicht weiter kommt.\n",
    "\n",
    "# Strecke pro Sekunde"
   ]
  },
  {
   "cell_type": "code",
   "execution_count": 8,
   "id": "728b84ba",
   "metadata": {},
   "outputs": [
    {
     "data": {
      "text/html": [
       "<div>\n",
       "<style scoped>\n",
       "    .dataframe tbody tr th:only-of-type {\n",
       "        vertical-align: middle;\n",
       "    }\n",
       "\n",
       "    .dataframe tbody tr th {\n",
       "        vertical-align: top;\n",
       "    }\n",
       "\n",
       "    .dataframe thead th {\n",
       "        text-align: right;\n",
       "    }\n",
       "</style>\n",
       "<table border=\"1\" class=\"dataframe\">\n",
       "  <thead>\n",
       "    <tr style=\"text-align: right;\">\n",
       "      <th></th>\n",
       "      <th>nr</th>\n",
       "      <th>uuid</th>\n",
       "      <th>age</th>\n",
       "      <th>gender</th>\n",
       "      <th>device</th>\n",
       "      <th>sorting_option</th>\n",
       "      <th>num_of_files</th>\n",
       "      <th>coords_match</th>\n",
       "      <th>path_F1</th>\n",
       "      <th>path_F2</th>\n",
       "      <th>path_F3</th>\n",
       "      <th>time_F1</th>\n",
       "      <th>time_F2</th>\n",
       "      <th>time_F3</th>\n",
       "      <th>v_F1</th>\n",
       "      <th>v_F2</th>\n",
       "      <th>v_F3</th>\n",
       "    </tr>\n",
       "  </thead>\n",
       "  <tbody>\n",
       "    <tr>\n",
       "      <th>0</th>\n",
       "      <td>1</td>\n",
       "      <td>649bf93e99881a2b49291e23</td>\n",
       "      <td>61</td>\n",
       "      <td>male</td>\n",
       "      <td>mouse</td>\n",
       "      <td>3</td>\n",
       "      <td>23</td>\n",
       "      <td>True</td>\n",
       "      <td>950.938547</td>\n",
       "      <td>875.354547</td>\n",
       "      <td>1441.839664</td>\n",
       "      <td>8.224</td>\n",
       "      <td>10.033</td>\n",
       "      <td>7.729</td>\n",
       "      <td>115.629687</td>\n",
       "      <td>87.247538</td>\n",
       "      <td>186.549316</td>\n",
       "    </tr>\n",
       "    <tr>\n",
       "      <th>1</th>\n",
       "      <td>2</td>\n",
       "      <td>649afe9b8c617b636a488066</td>\n",
       "      <td>41</td>\n",
       "      <td>male</td>\n",
       "      <td>mouse</td>\n",
       "      <td>2</td>\n",
       "      <td>23</td>\n",
       "      <td>True</td>\n",
       "      <td>450.533436</td>\n",
       "      <td>637.377266</td>\n",
       "      <td>518.718348</td>\n",
       "      <td>3.599</td>\n",
       "      <td>4.718</td>\n",
       "      <td>4.808</td>\n",
       "      <td>125.182950</td>\n",
       "      <td>135.094800</td>\n",
       "      <td>107.886512</td>\n",
       "    </tr>\n",
       "    <tr>\n",
       "      <th>2</th>\n",
       "      <td>3</td>\n",
       "      <td>649ad0398c611bb012843f4d</td>\n",
       "      <td>25</td>\n",
       "      <td>male</td>\n",
       "      <td>mouse</td>\n",
       "      <td>2</td>\n",
       "      <td>23</td>\n",
       "      <td>True</td>\n",
       "      <td>785.396508</td>\n",
       "      <td>728.063684</td>\n",
       "      <td>649.676250</td>\n",
       "      <td>2.495</td>\n",
       "      <td>2.578</td>\n",
       "      <td>3.463</td>\n",
       "      <td>314.788180</td>\n",
       "      <td>282.414152</td>\n",
       "      <td>187.605039</td>\n",
       "    </tr>\n",
       "    <tr>\n",
       "      <th>3</th>\n",
       "      <td>4</td>\n",
       "      <td>649af42c8c611c4708e4e18d</td>\n",
       "      <td>25</td>\n",
       "      <td>male</td>\n",
       "      <td>touchpad</td>\n",
       "      <td>2</td>\n",
       "      <td>23</td>\n",
       "      <td>True</td>\n",
       "      <td>596.366156</td>\n",
       "      <td>740.243115</td>\n",
       "      <td>702.453166</td>\n",
       "      <td>4.070</td>\n",
       "      <td>3.699</td>\n",
       "      <td>4.802</td>\n",
       "      <td>146.527311</td>\n",
       "      <td>200.119793</td>\n",
       "      <td>146.283458</td>\n",
       "    </tr>\n",
       "    <tr>\n",
       "      <th>4</th>\n",
       "      <td>5</td>\n",
       "      <td>649b2b1e8c61127922e1a7fa</td>\n",
       "      <td>25</td>\n",
       "      <td>male</td>\n",
       "      <td>mouse</td>\n",
       "      <td>1</td>\n",
       "      <td>23</td>\n",
       "      <td>True</td>\n",
       "      <td>641.223339</td>\n",
       "      <td>645.234367</td>\n",
       "      <td>756.770399</td>\n",
       "      <td>4.414</td>\n",
       "      <td>5.010</td>\n",
       "      <td>2.654</td>\n",
       "      <td>145.270353</td>\n",
       "      <td>128.789295</td>\n",
       "      <td>285.143331</td>\n",
       "    </tr>\n",
       "    <tr>\n",
       "      <th>5</th>\n",
       "      <td>6</td>\n",
       "      <td>64a1b2e38c611f9c485e8b29</td>\n",
       "      <td>40</td>\n",
       "      <td>female</td>\n",
       "      <td>touchpad</td>\n",
       "      <td>1</td>\n",
       "      <td>23</td>\n",
       "      <td>True</td>\n",
       "      <td>1168.867175</td>\n",
       "      <td>908.517308</td>\n",
       "      <td>553.460750</td>\n",
       "      <td>7.121</td>\n",
       "      <td>4.961</td>\n",
       "      <td>2.420</td>\n",
       "      <td>164.143684</td>\n",
       "      <td>183.131890</td>\n",
       "      <td>228.702789</td>\n",
       "    </tr>\n",
       "    <tr>\n",
       "      <th>6</th>\n",
       "      <td>7</td>\n",
       "      <td>649b269e8c617a4301bc7247</td>\n",
       "      <td>55</td>\n",
       "      <td>female</td>\n",
       "      <td>mouse</td>\n",
       "      <td>1</td>\n",
       "      <td>23</td>\n",
       "      <td>True</td>\n",
       "      <td>714.924015</td>\n",
       "      <td>884.963711</td>\n",
       "      <td>1630.297685</td>\n",
       "      <td>10.633</td>\n",
       "      <td>19.594</td>\n",
       "      <td>9.720</td>\n",
       "      <td>67.236341</td>\n",
       "      <td>45.165036</td>\n",
       "      <td>167.726099</td>\n",
       "    </tr>\n",
       "    <tr>\n",
       "      <th>7</th>\n",
       "      <td>8</td>\n",
       "      <td>64a26a678c6147cbab24d968</td>\n",
       "      <td>19</td>\n",
       "      <td>female</td>\n",
       "      <td>touchpad</td>\n",
       "      <td>1</td>\n",
       "      <td>23</td>\n",
       "      <td>True</td>\n",
       "      <td>556.459741</td>\n",
       "      <td>627.720516</td>\n",
       "      <td>559.491683</td>\n",
       "      <td>5.972</td>\n",
       "      <td>5.235</td>\n",
       "      <td>6.499</td>\n",
       "      <td>93.178121</td>\n",
       "      <td>119.908408</td>\n",
       "      <td>86.088888</td>\n",
       "    </tr>\n",
       "    <tr>\n",
       "      <th>8</th>\n",
       "      <td>9</td>\n",
       "      <td>649be8ba8c619f5efb2614e0</td>\n",
       "      <td>59</td>\n",
       "      <td>female</td>\n",
       "      <td>mouse</td>\n",
       "      <td>2</td>\n",
       "      <td>23</td>\n",
       "      <td>True</td>\n",
       "      <td>1114.057519</td>\n",
       "      <td>1156.777835</td>\n",
       "      <td>596.028811</td>\n",
       "      <td>6.657</td>\n",
       "      <td>6.361</td>\n",
       "      <td>9.282</td>\n",
       "      <td>167.351287</td>\n",
       "      <td>181.854714</td>\n",
       "      <td>64.213403</td>\n",
       "    </tr>\n",
       "    <tr>\n",
       "      <th>9</th>\n",
       "      <td>10</td>\n",
       "      <td>64a040d18c6121bf2c739076</td>\n",
       "      <td>29</td>\n",
       "      <td>female</td>\n",
       "      <td>touchpad</td>\n",
       "      <td>3</td>\n",
       "      <td>23</td>\n",
       "      <td>True</td>\n",
       "      <td>1528.353084</td>\n",
       "      <td>774.289740</td>\n",
       "      <td>725.949738</td>\n",
       "      <td>22.116</td>\n",
       "      <td>6.473</td>\n",
       "      <td>7.407</td>\n",
       "      <td>69.106216</td>\n",
       "      <td>119.618375</td>\n",
       "      <td>98.008605</td>\n",
       "    </tr>\n",
       "    <tr>\n",
       "      <th>10</th>\n",
       "      <td>11</td>\n",
       "      <td>649aba058c612604f08fde63</td>\n",
       "      <td>23</td>\n",
       "      <td>female</td>\n",
       "      <td>touchpad</td>\n",
       "      <td>3</td>\n",
       "      <td>23</td>\n",
       "      <td>True</td>\n",
       "      <td>709.494589</td>\n",
       "      <td>649.799945</td>\n",
       "      <td>601.564415</td>\n",
       "      <td>14.702</td>\n",
       "      <td>7.511</td>\n",
       "      <td>6.812</td>\n",
       "      <td>48.258372</td>\n",
       "      <td>86.513107</td>\n",
       "      <td>88.309515</td>\n",
       "    </tr>\n",
       "    <tr>\n",
       "      <th>11</th>\n",
       "      <td>12</td>\n",
       "      <td>649b38738c611b846db1a58d</td>\n",
       "      <td>25</td>\n",
       "      <td>female</td>\n",
       "      <td>mouse</td>\n",
       "      <td>1</td>\n",
       "      <td>23</td>\n",
       "      <td>True</td>\n",
       "      <td>462.024609</td>\n",
       "      <td>634.537420</td>\n",
       "      <td>596.069790</td>\n",
       "      <td>6.407</td>\n",
       "      <td>5.444</td>\n",
       "      <td>4.211</td>\n",
       "      <td>72.112472</td>\n",
       "      <td>116.557204</td>\n",
       "      <td>141.550651</td>\n",
       "    </tr>\n",
       "    <tr>\n",
       "      <th>12</th>\n",
       "      <td>13</td>\n",
       "      <td>64995bac8c61d60b08d58991</td>\n",
       "      <td>26</td>\n",
       "      <td>female</td>\n",
       "      <td>mouse</td>\n",
       "      <td>1</td>\n",
       "      <td>23</td>\n",
       "      <td>True</td>\n",
       "      <td>758.067394</td>\n",
       "      <td>748.309167</td>\n",
       "      <td>642.897014</td>\n",
       "      <td>4.113</td>\n",
       "      <td>5.570</td>\n",
       "      <td>4.136</td>\n",
       "      <td>184.310088</td>\n",
       "      <td>134.346350</td>\n",
       "      <td>155.439317</td>\n",
       "    </tr>\n",
       "    <tr>\n",
       "      <th>13</th>\n",
       "      <td>14</td>\n",
       "      <td>649c8b1d8c61291698048377</td>\n",
       "      <td>25</td>\n",
       "      <td>female</td>\n",
       "      <td>touchpad</td>\n",
       "      <td>1</td>\n",
       "      <td>23</td>\n",
       "      <td>True</td>\n",
       "      <td>448.560994</td>\n",
       "      <td>739.526833</td>\n",
       "      <td>544.407517</td>\n",
       "      <td>5.331</td>\n",
       "      <td>8.256</td>\n",
       "      <td>4.522</td>\n",
       "      <td>84.141999</td>\n",
       "      <td>89.574471</td>\n",
       "      <td>120.390871</td>\n",
       "    </tr>\n",
       "    <tr>\n",
       "      <th>14</th>\n",
       "      <td>15</td>\n",
       "      <td>649b48cd8c61c6ca0bbae44b</td>\n",
       "      <td>32</td>\n",
       "      <td>female</td>\n",
       "      <td>mouse</td>\n",
       "      <td>2</td>\n",
       "      <td>23</td>\n",
       "      <td>True</td>\n",
       "      <td>1072.010426</td>\n",
       "      <td>687.622957</td>\n",
       "      <td>740.435063</td>\n",
       "      <td>3.635</td>\n",
       "      <td>6.635</td>\n",
       "      <td>7.205</td>\n",
       "      <td>294.913460</td>\n",
       "      <td>103.635713</td>\n",
       "      <td>102.766837</td>\n",
       "    </tr>\n",
       "    <tr>\n",
       "      <th>15</th>\n",
       "      <td>16</td>\n",
       "      <td>649b30938c6117fb06cfde92</td>\n",
       "      <td>54</td>\n",
       "      <td>male</td>\n",
       "      <td>mouse</td>\n",
       "      <td>1</td>\n",
       "      <td>23</td>\n",
       "      <td>True</td>\n",
       "      <td>495.727829</td>\n",
       "      <td>747.516437</td>\n",
       "      <td>651.115120</td>\n",
       "      <td>4.596</td>\n",
       "      <td>4.093</td>\n",
       "      <td>4.335</td>\n",
       "      <td>107.860711</td>\n",
       "      <td>182.632894</td>\n",
       "      <td>150.199566</td>\n",
       "    </tr>\n",
       "    <tr>\n",
       "      <th>16</th>\n",
       "      <td>17</td>\n",
       "      <td>649bdcfe8c6121e7a6d49d14</td>\n",
       "      <td>61</td>\n",
       "      <td>male</td>\n",
       "      <td>mouse</td>\n",
       "      <td>3</td>\n",
       "      <td>23</td>\n",
       "      <td>True</td>\n",
       "      <td>488.747958</td>\n",
       "      <td>621.934381</td>\n",
       "      <td>605.022259</td>\n",
       "      <td>10.954</td>\n",
       "      <td>5.269</td>\n",
       "      <td>5.594</td>\n",
       "      <td>44.618218</td>\n",
       "      <td>118.036512</td>\n",
       "      <td>108.155570</td>\n",
       "    </tr>\n",
       "  </tbody>\n",
       "</table>\n",
       "</div>"
      ],
      "text/plain": [
       "    nr                      uuid  age  gender    device  sorting_option  \\\n",
       "0    1  649bf93e99881a2b49291e23   61    male     mouse               3   \n",
       "1    2  649afe9b8c617b636a488066   41    male     mouse               2   \n",
       "2    3  649ad0398c611bb012843f4d   25    male     mouse               2   \n",
       "3    4  649af42c8c611c4708e4e18d   25    male  touchpad               2   \n",
       "4    5  649b2b1e8c61127922e1a7fa   25    male     mouse               1   \n",
       "5    6  64a1b2e38c611f9c485e8b29   40  female  touchpad               1   \n",
       "6    7  649b269e8c617a4301bc7247   55  female     mouse               1   \n",
       "7    8  64a26a678c6147cbab24d968   19  female  touchpad               1   \n",
       "8    9  649be8ba8c619f5efb2614e0   59  female     mouse               2   \n",
       "9   10  64a040d18c6121bf2c739076   29  female  touchpad               3   \n",
       "10  11  649aba058c612604f08fde63   23  female  touchpad               3   \n",
       "11  12  649b38738c611b846db1a58d   25  female     mouse               1   \n",
       "12  13  64995bac8c61d60b08d58991   26  female     mouse               1   \n",
       "13  14  649c8b1d8c61291698048377   25  female  touchpad               1   \n",
       "14  15  649b48cd8c61c6ca0bbae44b   32  female     mouse               2   \n",
       "15  16  649b30938c6117fb06cfde92   54    male     mouse               1   \n",
       "16  17  649bdcfe8c6121e7a6d49d14   61    male     mouse               3   \n",
       "\n",
       "    num_of_files  coords_match      path_F1      path_F2      path_F3  \\\n",
       "0             23          True   950.938547   875.354547  1441.839664   \n",
       "1             23          True   450.533436   637.377266   518.718348   \n",
       "2             23          True   785.396508   728.063684   649.676250   \n",
       "3             23          True   596.366156   740.243115   702.453166   \n",
       "4             23          True   641.223339   645.234367   756.770399   \n",
       "5             23          True  1168.867175   908.517308   553.460750   \n",
       "6             23          True   714.924015   884.963711  1630.297685   \n",
       "7             23          True   556.459741   627.720516   559.491683   \n",
       "8             23          True  1114.057519  1156.777835   596.028811   \n",
       "9             23          True  1528.353084   774.289740   725.949738   \n",
       "10            23          True   709.494589   649.799945   601.564415   \n",
       "11            23          True   462.024609   634.537420   596.069790   \n",
       "12            23          True   758.067394   748.309167   642.897014   \n",
       "13            23          True   448.560994   739.526833   544.407517   \n",
       "14            23          True  1072.010426   687.622957   740.435063   \n",
       "15            23          True   495.727829   747.516437   651.115120   \n",
       "16            23          True   488.747958   621.934381   605.022259   \n",
       "\n",
       "    time_F1  time_F2  time_F3        v_F1        v_F2        v_F3  \n",
       "0     8.224   10.033    7.729  115.629687   87.247538  186.549316  \n",
       "1     3.599    4.718    4.808  125.182950  135.094800  107.886512  \n",
       "2     2.495    2.578    3.463  314.788180  282.414152  187.605039  \n",
       "3     4.070    3.699    4.802  146.527311  200.119793  146.283458  \n",
       "4     4.414    5.010    2.654  145.270353  128.789295  285.143331  \n",
       "5     7.121    4.961    2.420  164.143684  183.131890  228.702789  \n",
       "6    10.633   19.594    9.720   67.236341   45.165036  167.726099  \n",
       "7     5.972    5.235    6.499   93.178121  119.908408   86.088888  \n",
       "8     6.657    6.361    9.282  167.351287  181.854714   64.213403  \n",
       "9    22.116    6.473    7.407   69.106216  119.618375   98.008605  \n",
       "10   14.702    7.511    6.812   48.258372   86.513107   88.309515  \n",
       "11    6.407    5.444    4.211   72.112472  116.557204  141.550651  \n",
       "12    4.113    5.570    4.136  184.310088  134.346350  155.439317  \n",
       "13    5.331    8.256    4.522   84.141999   89.574471  120.390871  \n",
       "14    3.635    6.635    7.205  294.913460  103.635713  102.766837  \n",
       "15    4.596    4.093    4.335  107.860711  182.632894  150.199566  \n",
       "16   10.954    5.269    5.594   44.618218  118.036512  108.155570  "
      ]
     },
     "execution_count": 8,
     "metadata": {},
     "output_type": "execute_result"
    }
   ],
   "source": [
    "for task in tasks:\n",
    "    users[\"v_\" + task] = users[\"path_\" + task] / users[\"time_\" + task] \n",
    "\n",
    "users"
   ]
  },
  {
   "cell_type": "markdown",
   "id": "00f17604",
   "metadata": {},
   "source": [
    "# Describe"
   ]
  },
  {
   "cell_type": "code",
   "execution_count": 9,
   "id": "99ae1dce",
   "metadata": {},
   "outputs": [
    {
     "data": {
      "text/html": [
       "<div>\n",
       "<style scoped>\n",
       "    .dataframe tbody tr th:only-of-type {\n",
       "        vertical-align: middle;\n",
       "    }\n",
       "\n",
       "    .dataframe tbody tr th {\n",
       "        vertical-align: top;\n",
       "    }\n",
       "\n",
       "    .dataframe thead th {\n",
       "        text-align: right;\n",
       "    }\n",
       "</style>\n",
       "<table border=\"1\" class=\"dataframe\">\n",
       "  <thead>\n",
       "    <tr style=\"text-align: right;\">\n",
       "      <th></th>\n",
       "      <th>nr</th>\n",
       "      <th>age</th>\n",
       "      <th>sorting_option</th>\n",
       "      <th>num_of_files</th>\n",
       "      <th>path_F1</th>\n",
       "      <th>path_F2</th>\n",
       "      <th>path_F3</th>\n",
       "      <th>time_F1</th>\n",
       "      <th>time_F2</th>\n",
       "      <th>time_F3</th>\n",
       "      <th>v_F1</th>\n",
       "      <th>v_F2</th>\n",
       "      <th>v_F3</th>\n",
       "    </tr>\n",
       "  </thead>\n",
       "  <tbody>\n",
       "    <tr>\n",
       "      <th>count</th>\n",
       "      <td>17.000000</td>\n",
       "      <td>17.000000</td>\n",
       "      <td>17.000000</td>\n",
       "      <td>17.0</td>\n",
       "      <td>17.000000</td>\n",
       "      <td>17.000000</td>\n",
       "      <td>17.000000</td>\n",
       "      <td>17.000000</td>\n",
       "      <td>17.000000</td>\n",
       "      <td>17.000000</td>\n",
       "      <td>17.000000</td>\n",
       "      <td>17.000000</td>\n",
       "      <td>17.000000</td>\n",
       "    </tr>\n",
       "    <tr>\n",
       "      <th>mean</th>\n",
       "      <td>9.000000</td>\n",
       "      <td>36.764706</td>\n",
       "      <td>1.764706</td>\n",
       "      <td>23.0</td>\n",
       "      <td>761.279607</td>\n",
       "      <td>753.399366</td>\n",
       "      <td>736.246922</td>\n",
       "      <td>7.355235</td>\n",
       "      <td>6.555294</td>\n",
       "      <td>5.623471</td>\n",
       "      <td>132.037027</td>\n",
       "      <td>136.155309</td>\n",
       "      <td>142.648222</td>\n",
       "    </tr>\n",
       "    <tr>\n",
       "      <th>std</th>\n",
       "      <td>5.049752</td>\n",
       "      <td>15.254218</td>\n",
       "      <td>0.831370</td>\n",
       "      <td>0.0</td>\n",
       "      <td>309.151083</td>\n",
       "      <td>138.719347</td>\n",
       "      <td>310.823008</td>\n",
       "      <td>4.955411</td>\n",
       "      <td>3.790679</td>\n",
       "      <td>2.159721</td>\n",
       "      <td>77.636216</td>\n",
       "      <td>55.683153</td>\n",
       "      <td>56.625427</td>\n",
       "    </tr>\n",
       "    <tr>\n",
       "      <th>min</th>\n",
       "      <td>1.000000</td>\n",
       "      <td>19.000000</td>\n",
       "      <td>1.000000</td>\n",
       "      <td>23.0</td>\n",
       "      <td>448.560994</td>\n",
       "      <td>621.934381</td>\n",
       "      <td>518.718348</td>\n",
       "      <td>2.495000</td>\n",
       "      <td>2.578000</td>\n",
       "      <td>2.420000</td>\n",
       "      <td>44.618218</td>\n",
       "      <td>45.165036</td>\n",
       "      <td>64.213403</td>\n",
       "    </tr>\n",
       "    <tr>\n",
       "      <th>25%</th>\n",
       "      <td>5.000000</td>\n",
       "      <td>25.000000</td>\n",
       "      <td>1.000000</td>\n",
       "      <td>23.0</td>\n",
       "      <td>495.727829</td>\n",
       "      <td>645.234367</td>\n",
       "      <td>596.028811</td>\n",
       "      <td>4.113000</td>\n",
       "      <td>4.961000</td>\n",
       "      <td>4.211000</td>\n",
       "      <td>72.112472</td>\n",
       "      <td>103.635713</td>\n",
       "      <td>102.766837</td>\n",
       "    </tr>\n",
       "    <tr>\n",
       "      <th>50%</th>\n",
       "      <td>9.000000</td>\n",
       "      <td>29.000000</td>\n",
       "      <td>2.000000</td>\n",
       "      <td>23.0</td>\n",
       "      <td>709.494589</td>\n",
       "      <td>739.526833</td>\n",
       "      <td>642.897014</td>\n",
       "      <td>5.972000</td>\n",
       "      <td>5.444000</td>\n",
       "      <td>4.808000</td>\n",
       "      <td>115.629687</td>\n",
       "      <td>119.908408</td>\n",
       "      <td>141.550651</td>\n",
       "    </tr>\n",
       "    <tr>\n",
       "      <th>75%</th>\n",
       "      <td>13.000000</td>\n",
       "      <td>54.000000</td>\n",
       "      <td>2.000000</td>\n",
       "      <td>23.0</td>\n",
       "      <td>950.938547</td>\n",
       "      <td>774.289740</td>\n",
       "      <td>725.949738</td>\n",
       "      <td>8.224000</td>\n",
       "      <td>6.635000</td>\n",
       "      <td>7.205000</td>\n",
       "      <td>164.143684</td>\n",
       "      <td>181.854714</td>\n",
       "      <td>167.726099</td>\n",
       "    </tr>\n",
       "    <tr>\n",
       "      <th>max</th>\n",
       "      <td>17.000000</td>\n",
       "      <td>61.000000</td>\n",
       "      <td>3.000000</td>\n",
       "      <td>23.0</td>\n",
       "      <td>1528.353084</td>\n",
       "      <td>1156.777835</td>\n",
       "      <td>1630.297685</td>\n",
       "      <td>22.116000</td>\n",
       "      <td>19.594000</td>\n",
       "      <td>9.720000</td>\n",
       "      <td>314.788180</td>\n",
       "      <td>282.414152</td>\n",
       "      <td>285.143331</td>\n",
       "    </tr>\n",
       "  </tbody>\n",
       "</table>\n",
       "</div>"
      ],
      "text/plain": [
       "              nr        age  sorting_option  num_of_files      path_F1  \\\n",
       "count  17.000000  17.000000       17.000000          17.0    17.000000   \n",
       "mean    9.000000  36.764706        1.764706          23.0   761.279607   \n",
       "std     5.049752  15.254218        0.831370           0.0   309.151083   \n",
       "min     1.000000  19.000000        1.000000          23.0   448.560994   \n",
       "25%     5.000000  25.000000        1.000000          23.0   495.727829   \n",
       "50%     9.000000  29.000000        2.000000          23.0   709.494589   \n",
       "75%    13.000000  54.000000        2.000000          23.0   950.938547   \n",
       "max    17.000000  61.000000        3.000000          23.0  1528.353084   \n",
       "\n",
       "           path_F2      path_F3    time_F1    time_F2    time_F3        v_F1  \\\n",
       "count    17.000000    17.000000  17.000000  17.000000  17.000000   17.000000   \n",
       "mean    753.399366   736.246922   7.355235   6.555294   5.623471  132.037027   \n",
       "std     138.719347   310.823008   4.955411   3.790679   2.159721   77.636216   \n",
       "min     621.934381   518.718348   2.495000   2.578000   2.420000   44.618218   \n",
       "25%     645.234367   596.028811   4.113000   4.961000   4.211000   72.112472   \n",
       "50%     739.526833   642.897014   5.972000   5.444000   4.808000  115.629687   \n",
       "75%     774.289740   725.949738   8.224000   6.635000   7.205000  164.143684   \n",
       "max    1156.777835  1630.297685  22.116000  19.594000   9.720000  314.788180   \n",
       "\n",
       "             v_F2        v_F3  \n",
       "count   17.000000   17.000000  \n",
       "mean   136.155309  142.648222  \n",
       "std     55.683153   56.625427  \n",
       "min     45.165036   64.213403  \n",
       "25%    103.635713  102.766837  \n",
       "50%    119.908408  141.550651  \n",
       "75%    181.854714  167.726099  \n",
       "max    282.414152  285.143331  "
      ]
     },
     "execution_count": 9,
     "metadata": {},
     "output_type": "execute_result"
    }
   ],
   "source": [
    "users.describe()"
   ]
  },
  {
   "cell_type": "code",
   "execution_count": null,
   "id": "1bd40d25",
   "metadata": {},
   "outputs": [
    {
     "data": {
      "application/vnd.plotly.v1+json": {
       "config": {
        "plotlyServerURL": "https://plot.ly"
       },
       "data": [
        {
         "mode": "markers",
         "name": "E1",
         "type": "scatter",
         "x": [
          3809,
          2204,
          1070,
          2102,
          1460,
          1583,
          4874,
          2041,
          2424,
          8075,
          4433,
          2349,
          1463,
          1128,
          2805,
          1826,
          3396
         ],
         "y": [
          622.7229042485144,
          504.1844700295016,
          514.0167197087769,
          467.30773201392395,
          492.64404562556723,
          519.0984403281674,
          757.70406635021,
          451.60513842703887,
          890.121131120942,
          755.7656914155586,
          523.808668187484,
          531.7271654574621,
          583.8542185962802,
          471.3149318308264,
          725.3498913615886,
          507.2615734865871,
          500.20928713527866
         ]
        },
        {
         "mode": "markers",
         "name": "E2",
         "type": "scatter",
         "x": [
          1697,
          2305,
          1295,
          2759,
          1441,
          1720,
          7537,
          1933,
          2481,
          3298,
          2600,
          3089,
          1833,
          1166,
          4350,
          2065,
          1665
         ],
         "y": [
          492.0316996197539,
          452.6451911433745,
          488.7805747033981,
          452.51032454226316,
          450.76049879531774,
          524.8114763927032,
          655.7837942915628,
          464.1286261600797,
          479.5310606162302,
          462.7345162397048,
          525.0000924840332,
          440.32462565584655,
          644.2632573700317,
          434.23229723191884,
          612.0399602159347,
          563.2094117988,
          445.19792826880246
         ]
        },
        {
         "mode": "markers",
         "name": "E3",
         "type": "scatter",
         "x": [
          1400,
          1369,
          1031,
          1479,
          1658,
          1388,
          5068,
          1995,
          1911,
          2869,
          3917,
          2261,
          3369,
          1955,
          1673,
          1748,
          1880
         ],
         "y": [
          515.9057708640515,
          438.91592797578664,
          593.2170990604577,
          468.08853161219116,
          467.8966432300494,
          442.85989763668107,
          575.24598978824,
          498.27330849624207,
          713.576040653835,
          500.1809177012903,
          490.811323454209,
          493.59023841765736,
          699.4537144977929,
          453.1219441209928,
          543.8564186403339,
          478.4744017561391,
          522.5510255719142
         ]
        }
       ],
       "layout": {
        "template": {
         "data": {
          "bar": [
           {
            "error_x": {
             "color": "#2a3f5f"
            },
            "error_y": {
             "color": "#2a3f5f"
            },
            "marker": {
             "line": {
              "color": "#E5ECF6",
              "width": 0.5
             },
             "pattern": {
              "fillmode": "overlay",
              "size": 10,
              "solidity": 0.2
             }
            },
            "type": "bar"
           }
          ],
          "barpolar": [
           {
            "marker": {
             "line": {
              "color": "#E5ECF6",
              "width": 0.5
             },
             "pattern": {
              "fillmode": "overlay",
              "size": 10,
              "solidity": 0.2
             }
            },
            "type": "barpolar"
           }
          ],
          "carpet": [
           {
            "aaxis": {
             "endlinecolor": "#2a3f5f",
             "gridcolor": "white",
             "linecolor": "white",
             "minorgridcolor": "white",
             "startlinecolor": "#2a3f5f"
            },
            "baxis": {
             "endlinecolor": "#2a3f5f",
             "gridcolor": "white",
             "linecolor": "white",
             "minorgridcolor": "white",
             "startlinecolor": "#2a3f5f"
            },
            "type": "carpet"
           }
          ],
          "choropleth": [
           {
            "colorbar": {
             "outlinewidth": 0,
             "ticks": ""
            },
            "type": "choropleth"
           }
          ],
          "contour": [
           {
            "colorbar": {
             "outlinewidth": 0,
             "ticks": ""
            },
            "colorscale": [
             [
              0,
              "#0d0887"
             ],
             [
              0.1111111111111111,
              "#46039f"
             ],
             [
              0.2222222222222222,
              "#7201a8"
             ],
             [
              0.3333333333333333,
              "#9c179e"
             ],
             [
              0.4444444444444444,
              "#bd3786"
             ],
             [
              0.5555555555555556,
              "#d8576b"
             ],
             [
              0.6666666666666666,
              "#ed7953"
             ],
             [
              0.7777777777777778,
              "#fb9f3a"
             ],
             [
              0.8888888888888888,
              "#fdca26"
             ],
             [
              1,
              "#f0f921"
             ]
            ],
            "type": "contour"
           }
          ],
          "contourcarpet": [
           {
            "colorbar": {
             "outlinewidth": 0,
             "ticks": ""
            },
            "type": "contourcarpet"
           }
          ],
          "heatmap": [
           {
            "colorbar": {
             "outlinewidth": 0,
             "ticks": ""
            },
            "colorscale": [
             [
              0,
              "#0d0887"
             ],
             [
              0.1111111111111111,
              "#46039f"
             ],
             [
              0.2222222222222222,
              "#7201a8"
             ],
             [
              0.3333333333333333,
              "#9c179e"
             ],
             [
              0.4444444444444444,
              "#bd3786"
             ],
             [
              0.5555555555555556,
              "#d8576b"
             ],
             [
              0.6666666666666666,
              "#ed7953"
             ],
             [
              0.7777777777777778,
              "#fb9f3a"
             ],
             [
              0.8888888888888888,
              "#fdca26"
             ],
             [
              1,
              "#f0f921"
             ]
            ],
            "type": "heatmap"
           }
          ],
          "heatmapgl": [
           {
            "colorbar": {
             "outlinewidth": 0,
             "ticks": ""
            },
            "colorscale": [
             [
              0,
              "#0d0887"
             ],
             [
              0.1111111111111111,
              "#46039f"
             ],
             [
              0.2222222222222222,
              "#7201a8"
             ],
             [
              0.3333333333333333,
              "#9c179e"
             ],
             [
              0.4444444444444444,
              "#bd3786"
             ],
             [
              0.5555555555555556,
              "#d8576b"
             ],
             [
              0.6666666666666666,
              "#ed7953"
             ],
             [
              0.7777777777777778,
              "#fb9f3a"
             ],
             [
              0.8888888888888888,
              "#fdca26"
             ],
             [
              1,
              "#f0f921"
             ]
            ],
            "type": "heatmapgl"
           }
          ],
          "histogram": [
           {
            "marker": {
             "pattern": {
              "fillmode": "overlay",
              "size": 10,
              "solidity": 0.2
             }
            },
            "type": "histogram"
           }
          ],
          "histogram2d": [
           {
            "colorbar": {
             "outlinewidth": 0,
             "ticks": ""
            },
            "colorscale": [
             [
              0,
              "#0d0887"
             ],
             [
              0.1111111111111111,
              "#46039f"
             ],
             [
              0.2222222222222222,
              "#7201a8"
             ],
             [
              0.3333333333333333,
              "#9c179e"
             ],
             [
              0.4444444444444444,
              "#bd3786"
             ],
             [
              0.5555555555555556,
              "#d8576b"
             ],
             [
              0.6666666666666666,
              "#ed7953"
             ],
             [
              0.7777777777777778,
              "#fb9f3a"
             ],
             [
              0.8888888888888888,
              "#fdca26"
             ],
             [
              1,
              "#f0f921"
             ]
            ],
            "type": "histogram2d"
           }
          ],
          "histogram2dcontour": [
           {
            "colorbar": {
             "outlinewidth": 0,
             "ticks": ""
            },
            "colorscale": [
             [
              0,
              "#0d0887"
             ],
             [
              0.1111111111111111,
              "#46039f"
             ],
             [
              0.2222222222222222,
              "#7201a8"
             ],
             [
              0.3333333333333333,
              "#9c179e"
             ],
             [
              0.4444444444444444,
              "#bd3786"
             ],
             [
              0.5555555555555556,
              "#d8576b"
             ],
             [
              0.6666666666666666,
              "#ed7953"
             ],
             [
              0.7777777777777778,
              "#fb9f3a"
             ],
             [
              0.8888888888888888,
              "#fdca26"
             ],
             [
              1,
              "#f0f921"
             ]
            ],
            "type": "histogram2dcontour"
           }
          ],
          "mesh3d": [
           {
            "colorbar": {
             "outlinewidth": 0,
             "ticks": ""
            },
            "type": "mesh3d"
           }
          ],
          "parcoords": [
           {
            "line": {
             "colorbar": {
              "outlinewidth": 0,
              "ticks": ""
             }
            },
            "type": "parcoords"
           }
          ],
          "pie": [
           {
            "automargin": true,
            "type": "pie"
           }
          ],
          "scatter": [
           {
            "fillpattern": {
             "fillmode": "overlay",
             "size": 10,
             "solidity": 0.2
            },
            "type": "scatter"
           }
          ],
          "scatter3d": [
           {
            "line": {
             "colorbar": {
              "outlinewidth": 0,
              "ticks": ""
             }
            },
            "marker": {
             "colorbar": {
              "outlinewidth": 0,
              "ticks": ""
             }
            },
            "type": "scatter3d"
           }
          ],
          "scattercarpet": [
           {
            "marker": {
             "colorbar": {
              "outlinewidth": 0,
              "ticks": ""
             }
            },
            "type": "scattercarpet"
           }
          ],
          "scattergeo": [
           {
            "marker": {
             "colorbar": {
              "outlinewidth": 0,
              "ticks": ""
             }
            },
            "type": "scattergeo"
           }
          ],
          "scattergl": [
           {
            "marker": {
             "colorbar": {
              "outlinewidth": 0,
              "ticks": ""
             }
            },
            "type": "scattergl"
           }
          ],
          "scattermapbox": [
           {
            "marker": {
             "colorbar": {
              "outlinewidth": 0,
              "ticks": ""
             }
            },
            "type": "scattermapbox"
           }
          ],
          "scatterpolar": [
           {
            "marker": {
             "colorbar": {
              "outlinewidth": 0,
              "ticks": ""
             }
            },
            "type": "scatterpolar"
           }
          ],
          "scatterpolargl": [
           {
            "marker": {
             "colorbar": {
              "outlinewidth": 0,
              "ticks": ""
             }
            },
            "type": "scatterpolargl"
           }
          ],
          "scatterternary": [
           {
            "marker": {
             "colorbar": {
              "outlinewidth": 0,
              "ticks": ""
             }
            },
            "type": "scatterternary"
           }
          ],
          "surface": [
           {
            "colorbar": {
             "outlinewidth": 0,
             "ticks": ""
            },
            "colorscale": [
             [
              0,
              "#0d0887"
             ],
             [
              0.1111111111111111,
              "#46039f"
             ],
             [
              0.2222222222222222,
              "#7201a8"
             ],
             [
              0.3333333333333333,
              "#9c179e"
             ],
             [
              0.4444444444444444,
              "#bd3786"
             ],
             [
              0.5555555555555556,
              "#d8576b"
             ],
             [
              0.6666666666666666,
              "#ed7953"
             ],
             [
              0.7777777777777778,
              "#fb9f3a"
             ],
             [
              0.8888888888888888,
              "#fdca26"
             ],
             [
              1,
              "#f0f921"
             ]
            ],
            "type": "surface"
           }
          ],
          "table": [
           {
            "cells": {
             "fill": {
              "color": "#EBF0F8"
             },
             "line": {
              "color": "white"
             }
            },
            "header": {
             "fill": {
              "color": "#C8D4E3"
             },
             "line": {
              "color": "white"
             }
            },
            "type": "table"
           }
          ]
         },
         "layout": {
          "annotationdefaults": {
           "arrowcolor": "#2a3f5f",
           "arrowhead": 0,
           "arrowwidth": 1
          },
          "autotypenumbers": "strict",
          "coloraxis": {
           "colorbar": {
            "outlinewidth": 0,
            "ticks": ""
           }
          },
          "colorscale": {
           "diverging": [
            [
             0,
             "#8e0152"
            ],
            [
             0.1,
             "#c51b7d"
            ],
            [
             0.2,
             "#de77ae"
            ],
            [
             0.3,
             "#f1b6da"
            ],
            [
             0.4,
             "#fde0ef"
            ],
            [
             0.5,
             "#f7f7f7"
            ],
            [
             0.6,
             "#e6f5d0"
            ],
            [
             0.7,
             "#b8e186"
            ],
            [
             0.8,
             "#7fbc41"
            ],
            [
             0.9,
             "#4d9221"
            ],
            [
             1,
             "#276419"
            ]
           ],
           "sequential": [
            [
             0,
             "#0d0887"
            ],
            [
             0.1111111111111111,
             "#46039f"
            ],
            [
             0.2222222222222222,
             "#7201a8"
            ],
            [
             0.3333333333333333,
             "#9c179e"
            ],
            [
             0.4444444444444444,
             "#bd3786"
            ],
            [
             0.5555555555555556,
             "#d8576b"
            ],
            [
             0.6666666666666666,
             "#ed7953"
            ],
            [
             0.7777777777777778,
             "#fb9f3a"
            ],
            [
             0.8888888888888888,
             "#fdca26"
            ],
            [
             1,
             "#f0f921"
            ]
           ],
           "sequentialminus": [
            [
             0,
             "#0d0887"
            ],
            [
             0.1111111111111111,
             "#46039f"
            ],
            [
             0.2222222222222222,
             "#7201a8"
            ],
            [
             0.3333333333333333,
             "#9c179e"
            ],
            [
             0.4444444444444444,
             "#bd3786"
            ],
            [
             0.5555555555555556,
             "#d8576b"
            ],
            [
             0.6666666666666666,
             "#ed7953"
            ],
            [
             0.7777777777777778,
             "#fb9f3a"
            ],
            [
             0.8888888888888888,
             "#fdca26"
            ],
            [
             1,
             "#f0f921"
            ]
           ]
          },
          "colorway": [
           "#636efa",
           "#EF553B",
           "#00cc96",
           "#ab63fa",
           "#FFA15A",
           "#19d3f3",
           "#FF6692",
           "#B6E880",
           "#FF97FF",
           "#FECB52"
          ],
          "font": {
           "color": "#2a3f5f"
          },
          "geo": {
           "bgcolor": "white",
           "lakecolor": "white",
           "landcolor": "#E5ECF6",
           "showlakes": true,
           "showland": true,
           "subunitcolor": "white"
          },
          "hoverlabel": {
           "align": "left"
          },
          "hovermode": "closest",
          "mapbox": {
           "style": "light"
          },
          "paper_bgcolor": "white",
          "plot_bgcolor": "#E5ECF6",
          "polar": {
           "angularaxis": {
            "gridcolor": "white",
            "linecolor": "white",
            "ticks": ""
           },
           "bgcolor": "#E5ECF6",
           "radialaxis": {
            "gridcolor": "white",
            "linecolor": "white",
            "ticks": ""
           }
          },
          "scene": {
           "xaxis": {
            "backgroundcolor": "#E5ECF6",
            "gridcolor": "white",
            "gridwidth": 2,
            "linecolor": "white",
            "showbackground": true,
            "ticks": "",
            "zerolinecolor": "white"
           },
           "yaxis": {
            "backgroundcolor": "#E5ECF6",
            "gridcolor": "white",
            "gridwidth": 2,
            "linecolor": "white",
            "showbackground": true,
            "ticks": "",
            "zerolinecolor": "white"
           },
           "zaxis": {
            "backgroundcolor": "#E5ECF6",
            "gridcolor": "white",
            "gridwidth": 2,
            "linecolor": "white",
            "showbackground": true,
            "ticks": "",
            "zerolinecolor": "white"
           }
          },
          "shapedefaults": {
           "line": {
            "color": "#2a3f5f"
           }
          },
          "ternary": {
           "aaxis": {
            "gridcolor": "white",
            "linecolor": "white",
            "ticks": ""
           },
           "baxis": {
            "gridcolor": "white",
            "linecolor": "white",
            "ticks": ""
           },
           "bgcolor": "#E5ECF6",
           "caxis": {
            "gridcolor": "white",
            "linecolor": "white",
            "ticks": ""
           }
          },
          "title": {
           "x": 0.05
          },
          "xaxis": {
           "automargin": true,
           "gridcolor": "white",
           "linecolor": "white",
           "ticks": "",
           "title": {
            "standoff": 15
           },
           "zerolinecolor": "white",
           "zerolinewidth": 2
          },
          "yaxis": {
           "automargin": true,
           "gridcolor": "white",
           "linecolor": "white",
           "ticks": "",
           "title": {
            "standoff": 15
           },
           "zerolinecolor": "white",
           "zerolinewidth": 2
          }
         }
        }
       }
      }
     },
     "metadata": {},
     "output_type": "display_data"
    }
   ],
   "source": [
    "\n",
    "fig = go.Figure()\n",
    "\n",
    "fig = fig.add_trace(go.Scatter(x = users[\"time_E1\"],\n",
    "                                y = users[\"path_E1\"], \n",
    "                                name = \"E1\",\n",
    "                                mode = \"markers\"\n",
    "                                    ))\n",
    "\n",
    "fig = fig.add_trace(go.Scatter(x = users[\"time_E2\"],\n",
    "                                y = users[\"path_E2\"], \n",
    "                                name = \"E2\",\n",
    "                                mode = \"markers\"\n",
    "                                    ))\n",
    "\n",
    "fig = fig.add_trace(go.Scatter(x = users[\"time_E3\"],\n",
    "                                y = users[\"path_E3\"], \n",
    "                                name = \"E3\",\n",
    "                                mode = \"markers\"\n",
    "                                    ))\n",
    "\n",
    "fig.show()"
   ]
  },
  {
   "cell_type": "markdown",
   "id": "97a7d3d7",
   "metadata": {},
   "source": [
    "# Speichern"
   ]
  },
  {
   "cell_type": "code",
   "execution_count": null,
   "id": "5ce4d118",
   "metadata": {},
   "outputs": [],
   "source": [
    "users.to_csv(\"./results/analysis_E.csv\", index=False)"
   ]
  }
 ],
 "metadata": {
  "interpreter": {
   "hash": "916dbcbb3f70747c44a77c7bcd40155683ae19c65e1c03b4aa3499c5328201f1"
  },
  "kernelspec": {
   "display_name": "Python 3.10.6 64-bit",
   "language": "python",
   "name": "python3"
  },
  "language_info": {
   "codemirror_mode": {
    "name": "ipython",
    "version": 3
   },
   "file_extension": ".py",
   "mimetype": "text/x-python",
   "name": "python",
   "nbconvert_exporter": "python",
   "pygments_lexer": "ipython3",
   "version": "3.10.6"
  }
 },
 "nbformat": 4,
 "nbformat_minor": 5
}
