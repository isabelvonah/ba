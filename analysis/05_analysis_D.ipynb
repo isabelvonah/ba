{
 "cells": [
  {
   "cell_type": "code",
   "execution_count": 1,
   "id": "69e8fca9",
   "metadata": {},
   "outputs": [],
   "source": [
    "import pandas as pd\n",
    "import os\n",
    "import math\n",
    "import plotly.express as px\n",
    "import plotly.graph_objects as go"
   ]
  },
  {
   "cell_type": "code",
   "execution_count": 2,
   "id": "6600de6a",
   "metadata": {},
   "outputs": [
    {
     "data": {
      "text/html": [
       "<div>\n",
       "<style scoped>\n",
       "    .dataframe tbody tr th:only-of-type {\n",
       "        vertical-align: middle;\n",
       "    }\n",
       "\n",
       "    .dataframe tbody tr th {\n",
       "        vertical-align: top;\n",
       "    }\n",
       "\n",
       "    .dataframe thead th {\n",
       "        text-align: right;\n",
       "    }\n",
       "</style>\n",
       "<table border=\"1\" class=\"dataframe\">\n",
       "  <thead>\n",
       "    <tr style=\"text-align: right;\">\n",
       "      <th></th>\n",
       "      <th>nr</th>\n",
       "      <th>uuid</th>\n",
       "      <th>age</th>\n",
       "      <th>gender</th>\n",
       "      <th>device</th>\n",
       "      <th>sorting_option</th>\n",
       "      <th>num_of_files</th>\n",
       "      <th>coords_match</th>\n",
       "    </tr>\n",
       "  </thead>\n",
       "  <tbody>\n",
       "    <tr>\n",
       "      <th>0</th>\n",
       "      <td>1</td>\n",
       "      <td>649bf93e99881a2b49291e23</td>\n",
       "      <td>61</td>\n",
       "      <td>male</td>\n",
       "      <td>mouse</td>\n",
       "      <td>3</td>\n",
       "      <td>23</td>\n",
       "      <td>True</td>\n",
       "    </tr>\n",
       "    <tr>\n",
       "      <th>1</th>\n",
       "      <td>2</td>\n",
       "      <td>649afe9b8c617b636a488066</td>\n",
       "      <td>41</td>\n",
       "      <td>male</td>\n",
       "      <td>mouse</td>\n",
       "      <td>2</td>\n",
       "      <td>23</td>\n",
       "      <td>True</td>\n",
       "    </tr>\n",
       "    <tr>\n",
       "      <th>2</th>\n",
       "      <td>3</td>\n",
       "      <td>649ad0398c611bb012843f4d</td>\n",
       "      <td>25</td>\n",
       "      <td>male</td>\n",
       "      <td>mouse</td>\n",
       "      <td>2</td>\n",
       "      <td>23</td>\n",
       "      <td>True</td>\n",
       "    </tr>\n",
       "    <tr>\n",
       "      <th>3</th>\n",
       "      <td>4</td>\n",
       "      <td>649af42c8c611c4708e4e18d</td>\n",
       "      <td>25</td>\n",
       "      <td>male</td>\n",
       "      <td>touchpad</td>\n",
       "      <td>2</td>\n",
       "      <td>23</td>\n",
       "      <td>True</td>\n",
       "    </tr>\n",
       "    <tr>\n",
       "      <th>4</th>\n",
       "      <td>5</td>\n",
       "      <td>649b2b1e8c61127922e1a7fa</td>\n",
       "      <td>25</td>\n",
       "      <td>male</td>\n",
       "      <td>mouse</td>\n",
       "      <td>1</td>\n",
       "      <td>23</td>\n",
       "      <td>True</td>\n",
       "    </tr>\n",
       "    <tr>\n",
       "      <th>5</th>\n",
       "      <td>6</td>\n",
       "      <td>64a1b2e38c611f9c485e8b29</td>\n",
       "      <td>40</td>\n",
       "      <td>female</td>\n",
       "      <td>touchpad</td>\n",
       "      <td>1</td>\n",
       "      <td>23</td>\n",
       "      <td>True</td>\n",
       "    </tr>\n",
       "    <tr>\n",
       "      <th>6</th>\n",
       "      <td>7</td>\n",
       "      <td>649b269e8c617a4301bc7247</td>\n",
       "      <td>55</td>\n",
       "      <td>female</td>\n",
       "      <td>mouse</td>\n",
       "      <td>1</td>\n",
       "      <td>23</td>\n",
       "      <td>True</td>\n",
       "    </tr>\n",
       "    <tr>\n",
       "      <th>7</th>\n",
       "      <td>8</td>\n",
       "      <td>64a26a678c6147cbab24d968</td>\n",
       "      <td>19</td>\n",
       "      <td>female</td>\n",
       "      <td>touchpad</td>\n",
       "      <td>1</td>\n",
       "      <td>23</td>\n",
       "      <td>True</td>\n",
       "    </tr>\n",
       "    <tr>\n",
       "      <th>8</th>\n",
       "      <td>9</td>\n",
       "      <td>649be8ba8c619f5efb2614e0</td>\n",
       "      <td>59</td>\n",
       "      <td>female</td>\n",
       "      <td>mouse</td>\n",
       "      <td>2</td>\n",
       "      <td>23</td>\n",
       "      <td>True</td>\n",
       "    </tr>\n",
       "    <tr>\n",
       "      <th>9</th>\n",
       "      <td>10</td>\n",
       "      <td>64a040d18c6121bf2c739076</td>\n",
       "      <td>29</td>\n",
       "      <td>female</td>\n",
       "      <td>touchpad</td>\n",
       "      <td>3</td>\n",
       "      <td>23</td>\n",
       "      <td>True</td>\n",
       "    </tr>\n",
       "    <tr>\n",
       "      <th>10</th>\n",
       "      <td>11</td>\n",
       "      <td>649aba058c612604f08fde63</td>\n",
       "      <td>23</td>\n",
       "      <td>female</td>\n",
       "      <td>touchpad</td>\n",
       "      <td>3</td>\n",
       "      <td>23</td>\n",
       "      <td>True</td>\n",
       "    </tr>\n",
       "    <tr>\n",
       "      <th>11</th>\n",
       "      <td>12</td>\n",
       "      <td>649b38738c611b846db1a58d</td>\n",
       "      <td>25</td>\n",
       "      <td>female</td>\n",
       "      <td>mouse</td>\n",
       "      <td>1</td>\n",
       "      <td>23</td>\n",
       "      <td>True</td>\n",
       "    </tr>\n",
       "    <tr>\n",
       "      <th>12</th>\n",
       "      <td>13</td>\n",
       "      <td>64995bac8c61d60b08d58991</td>\n",
       "      <td>26</td>\n",
       "      <td>female</td>\n",
       "      <td>mouse</td>\n",
       "      <td>1</td>\n",
       "      <td>23</td>\n",
       "      <td>True</td>\n",
       "    </tr>\n",
       "    <tr>\n",
       "      <th>13</th>\n",
       "      <td>14</td>\n",
       "      <td>649c8b1d8c61291698048377</td>\n",
       "      <td>25</td>\n",
       "      <td>female</td>\n",
       "      <td>touchpad</td>\n",
       "      <td>1</td>\n",
       "      <td>23</td>\n",
       "      <td>True</td>\n",
       "    </tr>\n",
       "    <tr>\n",
       "      <th>14</th>\n",
       "      <td>15</td>\n",
       "      <td>649b48cd8c61c6ca0bbae44b</td>\n",
       "      <td>32</td>\n",
       "      <td>female</td>\n",
       "      <td>mouse</td>\n",
       "      <td>2</td>\n",
       "      <td>23</td>\n",
       "      <td>True</td>\n",
       "    </tr>\n",
       "    <tr>\n",
       "      <th>15</th>\n",
       "      <td>16</td>\n",
       "      <td>649b30938c6117fb06cfde92</td>\n",
       "      <td>54</td>\n",
       "      <td>male</td>\n",
       "      <td>mouse</td>\n",
       "      <td>1</td>\n",
       "      <td>23</td>\n",
       "      <td>True</td>\n",
       "    </tr>\n",
       "    <tr>\n",
       "      <th>16</th>\n",
       "      <td>17</td>\n",
       "      <td>649bdcfe8c6121e7a6d49d14</td>\n",
       "      <td>61</td>\n",
       "      <td>male</td>\n",
       "      <td>mouse</td>\n",
       "      <td>3</td>\n",
       "      <td>23</td>\n",
       "      <td>True</td>\n",
       "    </tr>\n",
       "  </tbody>\n",
       "</table>\n",
       "</div>"
      ],
      "text/plain": [
       "    nr                      uuid  age  gender    device  sorting_option  \\\n",
       "0    1  649bf93e99881a2b49291e23   61    male     mouse               3   \n",
       "1    2  649afe9b8c617b636a488066   41    male     mouse               2   \n",
       "2    3  649ad0398c611bb012843f4d   25    male     mouse               2   \n",
       "3    4  649af42c8c611c4708e4e18d   25    male  touchpad               2   \n",
       "4    5  649b2b1e8c61127922e1a7fa   25    male     mouse               1   \n",
       "5    6  64a1b2e38c611f9c485e8b29   40  female  touchpad               1   \n",
       "6    7  649b269e8c617a4301bc7247   55  female     mouse               1   \n",
       "7    8  64a26a678c6147cbab24d968   19  female  touchpad               1   \n",
       "8    9  649be8ba8c619f5efb2614e0   59  female     mouse               2   \n",
       "9   10  64a040d18c6121bf2c739076   29  female  touchpad               3   \n",
       "10  11  649aba058c612604f08fde63   23  female  touchpad               3   \n",
       "11  12  649b38738c611b846db1a58d   25  female     mouse               1   \n",
       "12  13  64995bac8c61d60b08d58991   26  female     mouse               1   \n",
       "13  14  649c8b1d8c61291698048377   25  female  touchpad               1   \n",
       "14  15  649b48cd8c61c6ca0bbae44b   32  female     mouse               2   \n",
       "15  16  649b30938c6117fb06cfde92   54    male     mouse               1   \n",
       "16  17  649bdcfe8c6121e7a6d49d14   61    male     mouse               3   \n",
       "\n",
       "    num_of_files  coords_match  \n",
       "0             23          True  \n",
       "1             23          True  \n",
       "2             23          True  \n",
       "3             23          True  \n",
       "4             23          True  \n",
       "5             23          True  \n",
       "6             23          True  \n",
       "7             23          True  \n",
       "8             23          True  \n",
       "9             23          True  \n",
       "10            23          True  \n",
       "11            23          True  \n",
       "12            23          True  \n",
       "13            23          True  \n",
       "14            23          True  \n",
       "15            23          True  \n",
       "16            23          True  "
      ]
     },
     "execution_count": 2,
     "metadata": {},
     "output_type": "execute_result"
    }
   ],
   "source": [
    "users = pd.read_csv(\"./results/users.csv\")\n",
    "\n",
    "folder_path = './data/tracking_files/'\n",
    "list_of_filenames = os.listdir(folder_path)\n",
    "\n",
    "tasks = [\"D1\", \"D2\"]\n",
    "users"
   ]
  },
  {
   "cell_type": "markdown",
   "id": "b35754c4",
   "metadata": {},
   "source": [
    "# path"
   ]
  },
  {
   "cell_type": "code",
   "execution_count": 4,
   "id": "c70bd07c",
   "metadata": {},
   "outputs": [
    {
     "data": {
      "text/html": [
       "<div>\n",
       "<style scoped>\n",
       "    .dataframe tbody tr th:only-of-type {\n",
       "        vertical-align: middle;\n",
       "    }\n",
       "\n",
       "    .dataframe tbody tr th {\n",
       "        vertical-align: top;\n",
       "    }\n",
       "\n",
       "    .dataframe thead th {\n",
       "        text-align: right;\n",
       "    }\n",
       "</style>\n",
       "<table border=\"1\" class=\"dataframe\">\n",
       "  <thead>\n",
       "    <tr style=\"text-align: right;\">\n",
       "      <th></th>\n",
       "      <th>nr</th>\n",
       "      <th>uuid</th>\n",
       "      <th>age</th>\n",
       "      <th>gender</th>\n",
       "      <th>device</th>\n",
       "      <th>sorting_option</th>\n",
       "      <th>num_of_files</th>\n",
       "      <th>coords_match</th>\n",
       "      <th>path_D1</th>\n",
       "      <th>path_D2</th>\n",
       "    </tr>\n",
       "  </thead>\n",
       "  <tbody>\n",
       "    <tr>\n",
       "      <th>0</th>\n",
       "      <td>1</td>\n",
       "      <td>649bf93e99881a2b49291e23</td>\n",
       "      <td>61</td>\n",
       "      <td>male</td>\n",
       "      <td>mouse</td>\n",
       "      <td>3</td>\n",
       "      <td>23</td>\n",
       "      <td>True</td>\n",
       "      <td>414.756640</td>\n",
       "      <td>351.410796</td>\n",
       "    </tr>\n",
       "    <tr>\n",
       "      <th>1</th>\n",
       "      <td>2</td>\n",
       "      <td>649afe9b8c617b636a488066</td>\n",
       "      <td>41</td>\n",
       "      <td>male</td>\n",
       "      <td>mouse</td>\n",
       "      <td>2</td>\n",
       "      <td>23</td>\n",
       "      <td>True</td>\n",
       "      <td>378.299792</td>\n",
       "      <td>243.362310</td>\n",
       "    </tr>\n",
       "    <tr>\n",
       "      <th>2</th>\n",
       "      <td>3</td>\n",
       "      <td>649ad0398c611bb012843f4d</td>\n",
       "      <td>25</td>\n",
       "      <td>male</td>\n",
       "      <td>mouse</td>\n",
       "      <td>2</td>\n",
       "      <td>23</td>\n",
       "      <td>True</td>\n",
       "      <td>593.207263</td>\n",
       "      <td>2096.347318</td>\n",
       "    </tr>\n",
       "    <tr>\n",
       "      <th>3</th>\n",
       "      <td>4</td>\n",
       "      <td>649af42c8c611c4708e4e18d</td>\n",
       "      <td>25</td>\n",
       "      <td>male</td>\n",
       "      <td>touchpad</td>\n",
       "      <td>2</td>\n",
       "      <td>23</td>\n",
       "      <td>True</td>\n",
       "      <td>1621.081970</td>\n",
       "      <td>561.630888</td>\n",
       "    </tr>\n",
       "    <tr>\n",
       "      <th>4</th>\n",
       "      <td>5</td>\n",
       "      <td>649b2b1e8c61127922e1a7fa</td>\n",
       "      <td>25</td>\n",
       "      <td>male</td>\n",
       "      <td>mouse</td>\n",
       "      <td>1</td>\n",
       "      <td>23</td>\n",
       "      <td>True</td>\n",
       "      <td>463.608536</td>\n",
       "      <td>270.799086</td>\n",
       "    </tr>\n",
       "    <tr>\n",
       "      <th>5</th>\n",
       "      <td>6</td>\n",
       "      <td>64a1b2e38c611f9c485e8b29</td>\n",
       "      <td>40</td>\n",
       "      <td>female</td>\n",
       "      <td>touchpad</td>\n",
       "      <td>1</td>\n",
       "      <td>23</td>\n",
       "      <td>True</td>\n",
       "      <td>424.320678</td>\n",
       "      <td>284.087921</td>\n",
       "    </tr>\n",
       "    <tr>\n",
       "      <th>6</th>\n",
       "      <td>7</td>\n",
       "      <td>649b269e8c617a4301bc7247</td>\n",
       "      <td>55</td>\n",
       "      <td>female</td>\n",
       "      <td>mouse</td>\n",
       "      <td>1</td>\n",
       "      <td>23</td>\n",
       "      <td>True</td>\n",
       "      <td>1991.304496</td>\n",
       "      <td>650.573178</td>\n",
       "    </tr>\n",
       "    <tr>\n",
       "      <th>7</th>\n",
       "      <td>8</td>\n",
       "      <td>64a26a678c6147cbab24d968</td>\n",
       "      <td>19</td>\n",
       "      <td>female</td>\n",
       "      <td>touchpad</td>\n",
       "      <td>1</td>\n",
       "      <td>23</td>\n",
       "      <td>True</td>\n",
       "      <td>754.213950</td>\n",
       "      <td>475.641607</td>\n",
       "    </tr>\n",
       "    <tr>\n",
       "      <th>8</th>\n",
       "      <td>9</td>\n",
       "      <td>649be8ba8c619f5efb2614e0</td>\n",
       "      <td>59</td>\n",
       "      <td>female</td>\n",
       "      <td>mouse</td>\n",
       "      <td>2</td>\n",
       "      <td>23</td>\n",
       "      <td>True</td>\n",
       "      <td>2006.627258</td>\n",
       "      <td>7426.651857</td>\n",
       "    </tr>\n",
       "    <tr>\n",
       "      <th>9</th>\n",
       "      <td>10</td>\n",
       "      <td>64a040d18c6121bf2c739076</td>\n",
       "      <td>29</td>\n",
       "      <td>female</td>\n",
       "      <td>touchpad</td>\n",
       "      <td>3</td>\n",
       "      <td>23</td>\n",
       "      <td>True</td>\n",
       "      <td>1275.104820</td>\n",
       "      <td>230.555065</td>\n",
       "    </tr>\n",
       "    <tr>\n",
       "      <th>10</th>\n",
       "      <td>11</td>\n",
       "      <td>649aba058c612604f08fde63</td>\n",
       "      <td>23</td>\n",
       "      <td>female</td>\n",
       "      <td>touchpad</td>\n",
       "      <td>3</td>\n",
       "      <td>23</td>\n",
       "      <td>True</td>\n",
       "      <td>570.716731</td>\n",
       "      <td>367.124364</td>\n",
       "    </tr>\n",
       "    <tr>\n",
       "      <th>11</th>\n",
       "      <td>12</td>\n",
       "      <td>649b38738c611b846db1a58d</td>\n",
       "      <td>25</td>\n",
       "      <td>female</td>\n",
       "      <td>mouse</td>\n",
       "      <td>1</td>\n",
       "      <td>23</td>\n",
       "      <td>True</td>\n",
       "      <td>531.375989</td>\n",
       "      <td>299.319710</td>\n",
       "    </tr>\n",
       "    <tr>\n",
       "      <th>12</th>\n",
       "      <td>13</td>\n",
       "      <td>64995bac8c61d60b08d58991</td>\n",
       "      <td>26</td>\n",
       "      <td>female</td>\n",
       "      <td>mouse</td>\n",
       "      <td>1</td>\n",
       "      <td>23</td>\n",
       "      <td>True</td>\n",
       "      <td>451.387838</td>\n",
       "      <td>358.202311</td>\n",
       "    </tr>\n",
       "    <tr>\n",
       "      <th>13</th>\n",
       "      <td>14</td>\n",
       "      <td>649c8b1d8c61291698048377</td>\n",
       "      <td>25</td>\n",
       "      <td>female</td>\n",
       "      <td>touchpad</td>\n",
       "      <td>1</td>\n",
       "      <td>23</td>\n",
       "      <td>True</td>\n",
       "      <td>466.824542</td>\n",
       "      <td>232.031669</td>\n",
       "    </tr>\n",
       "    <tr>\n",
       "      <th>14</th>\n",
       "      <td>15</td>\n",
       "      <td>649b48cd8c61c6ca0bbae44b</td>\n",
       "      <td>32</td>\n",
       "      <td>female</td>\n",
       "      <td>mouse</td>\n",
       "      <td>2</td>\n",
       "      <td>23</td>\n",
       "      <td>True</td>\n",
       "      <td>509.957203</td>\n",
       "      <td>739.096468</td>\n",
       "    </tr>\n",
       "    <tr>\n",
       "      <th>15</th>\n",
       "      <td>16</td>\n",
       "      <td>649b30938c6117fb06cfde92</td>\n",
       "      <td>54</td>\n",
       "      <td>male</td>\n",
       "      <td>mouse</td>\n",
       "      <td>1</td>\n",
       "      <td>23</td>\n",
       "      <td>True</td>\n",
       "      <td>473.831069</td>\n",
       "      <td>288.002343</td>\n",
       "    </tr>\n",
       "    <tr>\n",
       "      <th>16</th>\n",
       "      <td>17</td>\n",
       "      <td>649bdcfe8c6121e7a6d49d14</td>\n",
       "      <td>61</td>\n",
       "      <td>male</td>\n",
       "      <td>mouse</td>\n",
       "      <td>3</td>\n",
       "      <td>23</td>\n",
       "      <td>True</td>\n",
       "      <td>386.462686</td>\n",
       "      <td>225.405891</td>\n",
       "    </tr>\n",
       "  </tbody>\n",
       "</table>\n",
       "</div>"
      ],
      "text/plain": [
       "    nr                      uuid  age  gender    device  sorting_option  \\\n",
       "0    1  649bf93e99881a2b49291e23   61    male     mouse               3   \n",
       "1    2  649afe9b8c617b636a488066   41    male     mouse               2   \n",
       "2    3  649ad0398c611bb012843f4d   25    male     mouse               2   \n",
       "3    4  649af42c8c611c4708e4e18d   25    male  touchpad               2   \n",
       "4    5  649b2b1e8c61127922e1a7fa   25    male     mouse               1   \n",
       "5    6  64a1b2e38c611f9c485e8b29   40  female  touchpad               1   \n",
       "6    7  649b269e8c617a4301bc7247   55  female     mouse               1   \n",
       "7    8  64a26a678c6147cbab24d968   19  female  touchpad               1   \n",
       "8    9  649be8ba8c619f5efb2614e0   59  female     mouse               2   \n",
       "9   10  64a040d18c6121bf2c739076   29  female  touchpad               3   \n",
       "10  11  649aba058c612604f08fde63   23  female  touchpad               3   \n",
       "11  12  649b38738c611b846db1a58d   25  female     mouse               1   \n",
       "12  13  64995bac8c61d60b08d58991   26  female     mouse               1   \n",
       "13  14  649c8b1d8c61291698048377   25  female  touchpad               1   \n",
       "14  15  649b48cd8c61c6ca0bbae44b   32  female     mouse               2   \n",
       "15  16  649b30938c6117fb06cfde92   54    male     mouse               1   \n",
       "16  17  649bdcfe8c6121e7a6d49d14   61    male     mouse               3   \n",
       "\n",
       "    num_of_files  coords_match      path_D1      path_D2  \n",
       "0             23          True   414.756640   351.410796  \n",
       "1             23          True   378.299792   243.362310  \n",
       "2             23          True   593.207263  2096.347318  \n",
       "3             23          True  1621.081970   561.630888  \n",
       "4             23          True   463.608536   270.799086  \n",
       "5             23          True   424.320678   284.087921  \n",
       "6             23          True  1991.304496   650.573178  \n",
       "7             23          True   754.213950   475.641607  \n",
       "8             23          True  2006.627258  7426.651857  \n",
       "9             23          True  1275.104820   230.555065  \n",
       "10            23          True   570.716731   367.124364  \n",
       "11            23          True   531.375989   299.319710  \n",
       "12            23          True   451.387838   358.202311  \n",
       "13            23          True   466.824542   232.031669  \n",
       "14            23          True   509.957203   739.096468  \n",
       "15            23          True   473.831069   288.002343  \n",
       "16            23          True   386.462686   225.405891  "
      ]
     },
     "execution_count": 4,
     "metadata": {},
     "output_type": "execute_result"
    }
   ],
   "source": [
    "for task in tasks:\n",
    "    \n",
    "    task_dict = {}\n",
    "\n",
    "    for file in list_of_filenames:\n",
    "        if file.split(\"_\")[1] == task + \".csv\":\n",
    "            df = pd.read_csv(\"data/tracking_files/\" + file)\n",
    "            task_dict[file.split(\"_\")[0]] = df\n",
    "\n",
    "    path_lengths = []\n",
    "\n",
    "    for user_nr in users[\"nr\"]:\n",
    "        \n",
    "        path_length = 0\n",
    "        df_path = task_dict[str(user_nr)]\n",
    "\n",
    "        for i in range(1, len(df_path)):\n",
    "            dx = df_path['x'].iloc[i] - df_path['x'].iloc[i-1]\n",
    "            dy = df_path['y'].iloc[i] - df_path['y'].iloc[i-1]\n",
    "            segment_length = math.sqrt(dx**2 + dy**2)\n",
    "            path_length += segment_length\n",
    "        path_lengths.append(path_length)\n",
    "\n",
    "    users[\"path_\" + task] = path_lengths\n",
    "\n",
    "users"
   ]
  },
  {
   "cell_type": "markdown",
   "id": "19b250ff",
   "metadata": {},
   "source": [
    "# time"
   ]
  },
  {
   "cell_type": "code",
   "execution_count": 5,
   "id": "f4d8796f",
   "metadata": {},
   "outputs": [
    {
     "data": {
      "text/html": [
       "<div>\n",
       "<style scoped>\n",
       "    .dataframe tbody tr th:only-of-type {\n",
       "        vertical-align: middle;\n",
       "    }\n",
       "\n",
       "    .dataframe tbody tr th {\n",
       "        vertical-align: top;\n",
       "    }\n",
       "\n",
       "    .dataframe thead th {\n",
       "        text-align: right;\n",
       "    }\n",
       "</style>\n",
       "<table border=\"1\" class=\"dataframe\">\n",
       "  <thead>\n",
       "    <tr style=\"text-align: right;\">\n",
       "      <th></th>\n",
       "      <th>nr</th>\n",
       "      <th>uuid</th>\n",
       "      <th>age</th>\n",
       "      <th>gender</th>\n",
       "      <th>device</th>\n",
       "      <th>sorting_option</th>\n",
       "      <th>num_of_files</th>\n",
       "      <th>coords_match</th>\n",
       "      <th>path_D1</th>\n",
       "      <th>path_D2</th>\n",
       "      <th>time_D1</th>\n",
       "      <th>time_D2</th>\n",
       "    </tr>\n",
       "  </thead>\n",
       "  <tbody>\n",
       "    <tr>\n",
       "      <th>0</th>\n",
       "      <td>1</td>\n",
       "      <td>649bf93e99881a2b49291e23</td>\n",
       "      <td>61</td>\n",
       "      <td>male</td>\n",
       "      <td>mouse</td>\n",
       "      <td>3</td>\n",
       "      <td>23</td>\n",
       "      <td>True</td>\n",
       "      <td>414.756640</td>\n",
       "      <td>351.410796</td>\n",
       "      <td>2.351</td>\n",
       "      <td>3.305</td>\n",
       "    </tr>\n",
       "    <tr>\n",
       "      <th>1</th>\n",
       "      <td>2</td>\n",
       "      <td>649afe9b8c617b636a488066</td>\n",
       "      <td>41</td>\n",
       "      <td>male</td>\n",
       "      <td>mouse</td>\n",
       "      <td>2</td>\n",
       "      <td>23</td>\n",
       "      <td>True</td>\n",
       "      <td>378.299792</td>\n",
       "      <td>243.362310</td>\n",
       "      <td>2.993</td>\n",
       "      <td>2.524</td>\n",
       "    </tr>\n",
       "    <tr>\n",
       "      <th>2</th>\n",
       "      <td>3</td>\n",
       "      <td>649ad0398c611bb012843f4d</td>\n",
       "      <td>25</td>\n",
       "      <td>male</td>\n",
       "      <td>mouse</td>\n",
       "      <td>2</td>\n",
       "      <td>23</td>\n",
       "      <td>True</td>\n",
       "      <td>593.207263</td>\n",
       "      <td>2096.347318</td>\n",
       "      <td>2.243</td>\n",
       "      <td>3.864</td>\n",
       "    </tr>\n",
       "    <tr>\n",
       "      <th>3</th>\n",
       "      <td>4</td>\n",
       "      <td>649af42c8c611c4708e4e18d</td>\n",
       "      <td>25</td>\n",
       "      <td>male</td>\n",
       "      <td>touchpad</td>\n",
       "      <td>2</td>\n",
       "      <td>23</td>\n",
       "      <td>True</td>\n",
       "      <td>1621.081970</td>\n",
       "      <td>561.630888</td>\n",
       "      <td>3.954</td>\n",
       "      <td>3.225</td>\n",
       "    </tr>\n",
       "    <tr>\n",
       "      <th>4</th>\n",
       "      <td>5</td>\n",
       "      <td>649b2b1e8c61127922e1a7fa</td>\n",
       "      <td>25</td>\n",
       "      <td>male</td>\n",
       "      <td>mouse</td>\n",
       "      <td>1</td>\n",
       "      <td>23</td>\n",
       "      <td>True</td>\n",
       "      <td>463.608536</td>\n",
       "      <td>270.799086</td>\n",
       "      <td>1.929</td>\n",
       "      <td>1.854</td>\n",
       "    </tr>\n",
       "    <tr>\n",
       "      <th>5</th>\n",
       "      <td>6</td>\n",
       "      <td>64a1b2e38c611f9c485e8b29</td>\n",
       "      <td>40</td>\n",
       "      <td>female</td>\n",
       "      <td>touchpad</td>\n",
       "      <td>1</td>\n",
       "      <td>23</td>\n",
       "      <td>True</td>\n",
       "      <td>424.320678</td>\n",
       "      <td>284.087921</td>\n",
       "      <td>1.614</td>\n",
       "      <td>1.956</td>\n",
       "    </tr>\n",
       "    <tr>\n",
       "      <th>6</th>\n",
       "      <td>7</td>\n",
       "      <td>649b269e8c617a4301bc7247</td>\n",
       "      <td>55</td>\n",
       "      <td>female</td>\n",
       "      <td>mouse</td>\n",
       "      <td>1</td>\n",
       "      <td>23</td>\n",
       "      <td>True</td>\n",
       "      <td>1991.304496</td>\n",
       "      <td>650.573178</td>\n",
       "      <td>13.999</td>\n",
       "      <td>8.570</td>\n",
       "    </tr>\n",
       "    <tr>\n",
       "      <th>7</th>\n",
       "      <td>8</td>\n",
       "      <td>64a26a678c6147cbab24d968</td>\n",
       "      <td>19</td>\n",
       "      <td>female</td>\n",
       "      <td>touchpad</td>\n",
       "      <td>1</td>\n",
       "      <td>23</td>\n",
       "      <td>True</td>\n",
       "      <td>754.213950</td>\n",
       "      <td>475.641607</td>\n",
       "      <td>2.290</td>\n",
       "      <td>1.875</td>\n",
       "    </tr>\n",
       "    <tr>\n",
       "      <th>8</th>\n",
       "      <td>9</td>\n",
       "      <td>649be8ba8c619f5efb2614e0</td>\n",
       "      <td>59</td>\n",
       "      <td>female</td>\n",
       "      <td>mouse</td>\n",
       "      <td>2</td>\n",
       "      <td>23</td>\n",
       "      <td>True</td>\n",
       "      <td>2006.627258</td>\n",
       "      <td>7426.651857</td>\n",
       "      <td>8.080</td>\n",
       "      <td>18.265</td>\n",
       "    </tr>\n",
       "    <tr>\n",
       "      <th>9</th>\n",
       "      <td>10</td>\n",
       "      <td>64a040d18c6121bf2c739076</td>\n",
       "      <td>29</td>\n",
       "      <td>female</td>\n",
       "      <td>touchpad</td>\n",
       "      <td>3</td>\n",
       "      <td>23</td>\n",
       "      <td>True</td>\n",
       "      <td>1275.104820</td>\n",
       "      <td>230.555065</td>\n",
       "      <td>6.093</td>\n",
       "      <td>14.895</td>\n",
       "    </tr>\n",
       "    <tr>\n",
       "      <th>10</th>\n",
       "      <td>11</td>\n",
       "      <td>649aba058c612604f08fde63</td>\n",
       "      <td>23</td>\n",
       "      <td>female</td>\n",
       "      <td>touchpad</td>\n",
       "      <td>3</td>\n",
       "      <td>23</td>\n",
       "      <td>True</td>\n",
       "      <td>570.716731</td>\n",
       "      <td>367.124364</td>\n",
       "      <td>4.016</td>\n",
       "      <td>3.490</td>\n",
       "    </tr>\n",
       "    <tr>\n",
       "      <th>11</th>\n",
       "      <td>12</td>\n",
       "      <td>649b38738c611b846db1a58d</td>\n",
       "      <td>25</td>\n",
       "      <td>female</td>\n",
       "      <td>mouse</td>\n",
       "      <td>1</td>\n",
       "      <td>23</td>\n",
       "      <td>True</td>\n",
       "      <td>531.375989</td>\n",
       "      <td>299.319710</td>\n",
       "      <td>2.734</td>\n",
       "      <td>1.813</td>\n",
       "    </tr>\n",
       "    <tr>\n",
       "      <th>12</th>\n",
       "      <td>13</td>\n",
       "      <td>64995bac8c61d60b08d58991</td>\n",
       "      <td>26</td>\n",
       "      <td>female</td>\n",
       "      <td>mouse</td>\n",
       "      <td>1</td>\n",
       "      <td>23</td>\n",
       "      <td>True</td>\n",
       "      <td>451.387838</td>\n",
       "      <td>358.202311</td>\n",
       "      <td>1.664</td>\n",
       "      <td>1.937</td>\n",
       "    </tr>\n",
       "    <tr>\n",
       "      <th>13</th>\n",
       "      <td>14</td>\n",
       "      <td>649c8b1d8c61291698048377</td>\n",
       "      <td>25</td>\n",
       "      <td>female</td>\n",
       "      <td>touchpad</td>\n",
       "      <td>1</td>\n",
       "      <td>23</td>\n",
       "      <td>True</td>\n",
       "      <td>466.824542</td>\n",
       "      <td>232.031669</td>\n",
       "      <td>2.820</td>\n",
       "      <td>1.631</td>\n",
       "    </tr>\n",
       "    <tr>\n",
       "      <th>14</th>\n",
       "      <td>15</td>\n",
       "      <td>649b48cd8c61c6ca0bbae44b</td>\n",
       "      <td>32</td>\n",
       "      <td>female</td>\n",
       "      <td>mouse</td>\n",
       "      <td>2</td>\n",
       "      <td>23</td>\n",
       "      <td>True</td>\n",
       "      <td>509.957203</td>\n",
       "      <td>739.096468</td>\n",
       "      <td>2.049</td>\n",
       "      <td>7.306</td>\n",
       "    </tr>\n",
       "    <tr>\n",
       "      <th>15</th>\n",
       "      <td>16</td>\n",
       "      <td>649b30938c6117fb06cfde92</td>\n",
       "      <td>54</td>\n",
       "      <td>male</td>\n",
       "      <td>mouse</td>\n",
       "      <td>1</td>\n",
       "      <td>23</td>\n",
       "      <td>True</td>\n",
       "      <td>473.831069</td>\n",
       "      <td>288.002343</td>\n",
       "      <td>2.686</td>\n",
       "      <td>1.478</td>\n",
       "    </tr>\n",
       "    <tr>\n",
       "      <th>16</th>\n",
       "      <td>17</td>\n",
       "      <td>649bdcfe8c6121e7a6d49d14</td>\n",
       "      <td>61</td>\n",
       "      <td>male</td>\n",
       "      <td>mouse</td>\n",
       "      <td>3</td>\n",
       "      <td>23</td>\n",
       "      <td>True</td>\n",
       "      <td>386.462686</td>\n",
       "      <td>225.405891</td>\n",
       "      <td>1.772</td>\n",
       "      <td>4.816</td>\n",
       "    </tr>\n",
       "  </tbody>\n",
       "</table>\n",
       "</div>"
      ],
      "text/plain": [
       "    nr                      uuid  age  gender    device  sorting_option  \\\n",
       "0    1  649bf93e99881a2b49291e23   61    male     mouse               3   \n",
       "1    2  649afe9b8c617b636a488066   41    male     mouse               2   \n",
       "2    3  649ad0398c611bb012843f4d   25    male     mouse               2   \n",
       "3    4  649af42c8c611c4708e4e18d   25    male  touchpad               2   \n",
       "4    5  649b2b1e8c61127922e1a7fa   25    male     mouse               1   \n",
       "5    6  64a1b2e38c611f9c485e8b29   40  female  touchpad               1   \n",
       "6    7  649b269e8c617a4301bc7247   55  female     mouse               1   \n",
       "7    8  64a26a678c6147cbab24d968   19  female  touchpad               1   \n",
       "8    9  649be8ba8c619f5efb2614e0   59  female     mouse               2   \n",
       "9   10  64a040d18c6121bf2c739076   29  female  touchpad               3   \n",
       "10  11  649aba058c612604f08fde63   23  female  touchpad               3   \n",
       "11  12  649b38738c611b846db1a58d   25  female     mouse               1   \n",
       "12  13  64995bac8c61d60b08d58991   26  female     mouse               1   \n",
       "13  14  649c8b1d8c61291698048377   25  female  touchpad               1   \n",
       "14  15  649b48cd8c61c6ca0bbae44b   32  female     mouse               2   \n",
       "15  16  649b30938c6117fb06cfde92   54    male     mouse               1   \n",
       "16  17  649bdcfe8c6121e7a6d49d14   61    male     mouse               3   \n",
       "\n",
       "    num_of_files  coords_match      path_D1      path_D2  time_D1  time_D2  \n",
       "0             23          True   414.756640   351.410796    2.351    3.305  \n",
       "1             23          True   378.299792   243.362310    2.993    2.524  \n",
       "2             23          True   593.207263  2096.347318    2.243    3.864  \n",
       "3             23          True  1621.081970   561.630888    3.954    3.225  \n",
       "4             23          True   463.608536   270.799086    1.929    1.854  \n",
       "5             23          True   424.320678   284.087921    1.614    1.956  \n",
       "6             23          True  1991.304496   650.573178   13.999    8.570  \n",
       "7             23          True   754.213950   475.641607    2.290    1.875  \n",
       "8             23          True  2006.627258  7426.651857    8.080   18.265  \n",
       "9             23          True  1275.104820   230.555065    6.093   14.895  \n",
       "10            23          True   570.716731   367.124364    4.016    3.490  \n",
       "11            23          True   531.375989   299.319710    2.734    1.813  \n",
       "12            23          True   451.387838   358.202311    1.664    1.937  \n",
       "13            23          True   466.824542   232.031669    2.820    1.631  \n",
       "14            23          True   509.957203   739.096468    2.049    7.306  \n",
       "15            23          True   473.831069   288.002343    2.686    1.478  \n",
       "16            23          True   386.462686   225.405891    1.772    4.816  "
      ]
     },
     "execution_count": 5,
     "metadata": {},
     "output_type": "execute_result"
    }
   ],
   "source": [
    "for task in tasks:\n",
    "    \n",
    "    task_times = []\n",
    "\n",
    "    for user in users[\"nr\"]:\n",
    "        df = pd.read_csv(\"data/tracking_files/\" + str(user) + \"_\" + task + \".csv\")\n",
    "        task_times.append(df.iloc[-1][\"ms\"] / 1000)\n",
    "\n",
    "    users[\"time_\" + task] = task_times\n",
    "\n",
    "users"
   ]
  },
  {
   "cell_type": "markdown",
   "id": "c8196368",
   "metadata": {},
   "source": [
    "# Kontrolle\n",
    "\n",
    "nicht nötig, da man ohne Klick auf \"Ok\" gar nicht weiter kommt.\n",
    "\n",
    "# Strecke pro Sekunde"
   ]
  },
  {
   "cell_type": "code",
   "execution_count": 6,
   "id": "728b84ba",
   "metadata": {},
   "outputs": [
    {
     "data": {
      "text/html": [
       "<div>\n",
       "<style scoped>\n",
       "    .dataframe tbody tr th:only-of-type {\n",
       "        vertical-align: middle;\n",
       "    }\n",
       "\n",
       "    .dataframe tbody tr th {\n",
       "        vertical-align: top;\n",
       "    }\n",
       "\n",
       "    .dataframe thead th {\n",
       "        text-align: right;\n",
       "    }\n",
       "</style>\n",
       "<table border=\"1\" class=\"dataframe\">\n",
       "  <thead>\n",
       "    <tr style=\"text-align: right;\">\n",
       "      <th></th>\n",
       "      <th>nr</th>\n",
       "      <th>uuid</th>\n",
       "      <th>age</th>\n",
       "      <th>gender</th>\n",
       "      <th>device</th>\n",
       "      <th>sorting_option</th>\n",
       "      <th>num_of_files</th>\n",
       "      <th>coords_match</th>\n",
       "      <th>path_D1</th>\n",
       "      <th>path_D2</th>\n",
       "      <th>time_D1</th>\n",
       "      <th>time_D2</th>\n",
       "      <th>v_D1</th>\n",
       "      <th>v_D2</th>\n",
       "    </tr>\n",
       "  </thead>\n",
       "  <tbody>\n",
       "    <tr>\n",
       "      <th>0</th>\n",
       "      <td>1</td>\n",
       "      <td>649bf93e99881a2b49291e23</td>\n",
       "      <td>61</td>\n",
       "      <td>male</td>\n",
       "      <td>mouse</td>\n",
       "      <td>3</td>\n",
       "      <td>23</td>\n",
       "      <td>True</td>\n",
       "      <td>414.756640</td>\n",
       "      <td>351.410796</td>\n",
       "      <td>2.351</td>\n",
       "      <td>3.305</td>\n",
       "      <td>176.417116</td>\n",
       "      <td>106.327019</td>\n",
       "    </tr>\n",
       "    <tr>\n",
       "      <th>1</th>\n",
       "      <td>2</td>\n",
       "      <td>649afe9b8c617b636a488066</td>\n",
       "      <td>41</td>\n",
       "      <td>male</td>\n",
       "      <td>mouse</td>\n",
       "      <td>2</td>\n",
       "      <td>23</td>\n",
       "      <td>True</td>\n",
       "      <td>378.299792</td>\n",
       "      <td>243.362310</td>\n",
       "      <td>2.993</td>\n",
       "      <td>2.524</td>\n",
       "      <td>126.394852</td>\n",
       "      <td>96.419299</td>\n",
       "    </tr>\n",
       "    <tr>\n",
       "      <th>2</th>\n",
       "      <td>3</td>\n",
       "      <td>649ad0398c611bb012843f4d</td>\n",
       "      <td>25</td>\n",
       "      <td>male</td>\n",
       "      <td>mouse</td>\n",
       "      <td>2</td>\n",
       "      <td>23</td>\n",
       "      <td>True</td>\n",
       "      <td>593.207263</td>\n",
       "      <td>2096.347318</td>\n",
       "      <td>2.243</td>\n",
       "      <td>3.864</td>\n",
       "      <td>264.470469</td>\n",
       "      <td>542.532950</td>\n",
       "    </tr>\n",
       "    <tr>\n",
       "      <th>3</th>\n",
       "      <td>4</td>\n",
       "      <td>649af42c8c611c4708e4e18d</td>\n",
       "      <td>25</td>\n",
       "      <td>male</td>\n",
       "      <td>touchpad</td>\n",
       "      <td>2</td>\n",
       "      <td>23</td>\n",
       "      <td>True</td>\n",
       "      <td>1621.081970</td>\n",
       "      <td>561.630888</td>\n",
       "      <td>3.954</td>\n",
       "      <td>3.225</td>\n",
       "      <td>409.985324</td>\n",
       "      <td>174.149113</td>\n",
       "    </tr>\n",
       "    <tr>\n",
       "      <th>4</th>\n",
       "      <td>5</td>\n",
       "      <td>649b2b1e8c61127922e1a7fa</td>\n",
       "      <td>25</td>\n",
       "      <td>male</td>\n",
       "      <td>mouse</td>\n",
       "      <td>1</td>\n",
       "      <td>23</td>\n",
       "      <td>True</td>\n",
       "      <td>463.608536</td>\n",
       "      <td>270.799086</td>\n",
       "      <td>1.929</td>\n",
       "      <td>1.854</td>\n",
       "      <td>240.336203</td>\n",
       "      <td>146.062074</td>\n",
       "    </tr>\n",
       "    <tr>\n",
       "      <th>5</th>\n",
       "      <td>6</td>\n",
       "      <td>64a1b2e38c611f9c485e8b29</td>\n",
       "      <td>40</td>\n",
       "      <td>female</td>\n",
       "      <td>touchpad</td>\n",
       "      <td>1</td>\n",
       "      <td>23</td>\n",
       "      <td>True</td>\n",
       "      <td>424.320678</td>\n",
       "      <td>284.087921</td>\n",
       "      <td>1.614</td>\n",
       "      <td>1.956</td>\n",
       "      <td>262.900048</td>\n",
       "      <td>145.239223</td>\n",
       "    </tr>\n",
       "    <tr>\n",
       "      <th>6</th>\n",
       "      <td>7</td>\n",
       "      <td>649b269e8c617a4301bc7247</td>\n",
       "      <td>55</td>\n",
       "      <td>female</td>\n",
       "      <td>mouse</td>\n",
       "      <td>1</td>\n",
       "      <td>23</td>\n",
       "      <td>True</td>\n",
       "      <td>1991.304496</td>\n",
       "      <td>650.573178</td>\n",
       "      <td>13.999</td>\n",
       "      <td>8.570</td>\n",
       "      <td>142.246196</td>\n",
       "      <td>75.912856</td>\n",
       "    </tr>\n",
       "    <tr>\n",
       "      <th>7</th>\n",
       "      <td>8</td>\n",
       "      <td>64a26a678c6147cbab24d968</td>\n",
       "      <td>19</td>\n",
       "      <td>female</td>\n",
       "      <td>touchpad</td>\n",
       "      <td>1</td>\n",
       "      <td>23</td>\n",
       "      <td>True</td>\n",
       "      <td>754.213950</td>\n",
       "      <td>475.641607</td>\n",
       "      <td>2.290</td>\n",
       "      <td>1.875</td>\n",
       "      <td>329.351070</td>\n",
       "      <td>253.675524</td>\n",
       "    </tr>\n",
       "    <tr>\n",
       "      <th>8</th>\n",
       "      <td>9</td>\n",
       "      <td>649be8ba8c619f5efb2614e0</td>\n",
       "      <td>59</td>\n",
       "      <td>female</td>\n",
       "      <td>mouse</td>\n",
       "      <td>2</td>\n",
       "      <td>23</td>\n",
       "      <td>True</td>\n",
       "      <td>2006.627258</td>\n",
       "      <td>7426.651857</td>\n",
       "      <td>8.080</td>\n",
       "      <td>18.265</td>\n",
       "      <td>248.344958</td>\n",
       "      <td>406.605631</td>\n",
       "    </tr>\n",
       "    <tr>\n",
       "      <th>9</th>\n",
       "      <td>10</td>\n",
       "      <td>64a040d18c6121bf2c739076</td>\n",
       "      <td>29</td>\n",
       "      <td>female</td>\n",
       "      <td>touchpad</td>\n",
       "      <td>3</td>\n",
       "      <td>23</td>\n",
       "      <td>True</td>\n",
       "      <td>1275.104820</td>\n",
       "      <td>230.555065</td>\n",
       "      <td>6.093</td>\n",
       "      <td>14.895</td>\n",
       "      <td>209.273727</td>\n",
       "      <td>15.478688</td>\n",
       "    </tr>\n",
       "    <tr>\n",
       "      <th>10</th>\n",
       "      <td>11</td>\n",
       "      <td>649aba058c612604f08fde63</td>\n",
       "      <td>23</td>\n",
       "      <td>female</td>\n",
       "      <td>touchpad</td>\n",
       "      <td>3</td>\n",
       "      <td>23</td>\n",
       "      <td>True</td>\n",
       "      <td>570.716731</td>\n",
       "      <td>367.124364</td>\n",
       "      <td>4.016</td>\n",
       "      <td>3.490</td>\n",
       "      <td>142.110740</td>\n",
       "      <td>105.193227</td>\n",
       "    </tr>\n",
       "    <tr>\n",
       "      <th>11</th>\n",
       "      <td>12</td>\n",
       "      <td>649b38738c611b846db1a58d</td>\n",
       "      <td>25</td>\n",
       "      <td>female</td>\n",
       "      <td>mouse</td>\n",
       "      <td>1</td>\n",
       "      <td>23</td>\n",
       "      <td>True</td>\n",
       "      <td>531.375989</td>\n",
       "      <td>299.319710</td>\n",
       "      <td>2.734</td>\n",
       "      <td>1.813</td>\n",
       "      <td>194.358445</td>\n",
       "      <td>165.096365</td>\n",
       "    </tr>\n",
       "    <tr>\n",
       "      <th>12</th>\n",
       "      <td>13</td>\n",
       "      <td>64995bac8c61d60b08d58991</td>\n",
       "      <td>26</td>\n",
       "      <td>female</td>\n",
       "      <td>mouse</td>\n",
       "      <td>1</td>\n",
       "      <td>23</td>\n",
       "      <td>True</td>\n",
       "      <td>451.387838</td>\n",
       "      <td>358.202311</td>\n",
       "      <td>1.664</td>\n",
       "      <td>1.937</td>\n",
       "      <td>271.266730</td>\n",
       "      <td>184.926335</td>\n",
       "    </tr>\n",
       "    <tr>\n",
       "      <th>13</th>\n",
       "      <td>14</td>\n",
       "      <td>649c8b1d8c61291698048377</td>\n",
       "      <td>25</td>\n",
       "      <td>female</td>\n",
       "      <td>touchpad</td>\n",
       "      <td>1</td>\n",
       "      <td>23</td>\n",
       "      <td>True</td>\n",
       "      <td>466.824542</td>\n",
       "      <td>232.031669</td>\n",
       "      <td>2.820</td>\n",
       "      <td>1.631</td>\n",
       "      <td>165.540618</td>\n",
       "      <td>142.263439</td>\n",
       "    </tr>\n",
       "    <tr>\n",
       "      <th>14</th>\n",
       "      <td>15</td>\n",
       "      <td>649b48cd8c61c6ca0bbae44b</td>\n",
       "      <td>32</td>\n",
       "      <td>female</td>\n",
       "      <td>mouse</td>\n",
       "      <td>2</td>\n",
       "      <td>23</td>\n",
       "      <td>True</td>\n",
       "      <td>509.957203</td>\n",
       "      <td>739.096468</td>\n",
       "      <td>2.049</td>\n",
       "      <td>7.306</td>\n",
       "      <td>248.881016</td>\n",
       "      <td>101.162944</td>\n",
       "    </tr>\n",
       "    <tr>\n",
       "      <th>15</th>\n",
       "      <td>16</td>\n",
       "      <td>649b30938c6117fb06cfde92</td>\n",
       "      <td>54</td>\n",
       "      <td>male</td>\n",
       "      <td>mouse</td>\n",
       "      <td>1</td>\n",
       "      <td>23</td>\n",
       "      <td>True</td>\n",
       "      <td>473.831069</td>\n",
       "      <td>288.002343</td>\n",
       "      <td>2.686</td>\n",
       "      <td>1.478</td>\n",
       "      <td>176.407695</td>\n",
       "      <td>194.859501</td>\n",
       "    </tr>\n",
       "    <tr>\n",
       "      <th>16</th>\n",
       "      <td>17</td>\n",
       "      <td>649bdcfe8c6121e7a6d49d14</td>\n",
       "      <td>61</td>\n",
       "      <td>male</td>\n",
       "      <td>mouse</td>\n",
       "      <td>3</td>\n",
       "      <td>23</td>\n",
       "      <td>True</td>\n",
       "      <td>386.462686</td>\n",
       "      <td>225.405891</td>\n",
       "      <td>1.772</td>\n",
       "      <td>4.816</td>\n",
       "      <td>218.094067</td>\n",
       "      <td>46.803549</td>\n",
       "    </tr>\n",
       "  </tbody>\n",
       "</table>\n",
       "</div>"
      ],
      "text/plain": [
       "    nr                      uuid  age  gender    device  sorting_option  \\\n",
       "0    1  649bf93e99881a2b49291e23   61    male     mouse               3   \n",
       "1    2  649afe9b8c617b636a488066   41    male     mouse               2   \n",
       "2    3  649ad0398c611bb012843f4d   25    male     mouse               2   \n",
       "3    4  649af42c8c611c4708e4e18d   25    male  touchpad               2   \n",
       "4    5  649b2b1e8c61127922e1a7fa   25    male     mouse               1   \n",
       "5    6  64a1b2e38c611f9c485e8b29   40  female  touchpad               1   \n",
       "6    7  649b269e8c617a4301bc7247   55  female     mouse               1   \n",
       "7    8  64a26a678c6147cbab24d968   19  female  touchpad               1   \n",
       "8    9  649be8ba8c619f5efb2614e0   59  female     mouse               2   \n",
       "9   10  64a040d18c6121bf2c739076   29  female  touchpad               3   \n",
       "10  11  649aba058c612604f08fde63   23  female  touchpad               3   \n",
       "11  12  649b38738c611b846db1a58d   25  female     mouse               1   \n",
       "12  13  64995bac8c61d60b08d58991   26  female     mouse               1   \n",
       "13  14  649c8b1d8c61291698048377   25  female  touchpad               1   \n",
       "14  15  649b48cd8c61c6ca0bbae44b   32  female     mouse               2   \n",
       "15  16  649b30938c6117fb06cfde92   54    male     mouse               1   \n",
       "16  17  649bdcfe8c6121e7a6d49d14   61    male     mouse               3   \n",
       "\n",
       "    num_of_files  coords_match      path_D1      path_D2  time_D1  time_D2  \\\n",
       "0             23          True   414.756640   351.410796    2.351    3.305   \n",
       "1             23          True   378.299792   243.362310    2.993    2.524   \n",
       "2             23          True   593.207263  2096.347318    2.243    3.864   \n",
       "3             23          True  1621.081970   561.630888    3.954    3.225   \n",
       "4             23          True   463.608536   270.799086    1.929    1.854   \n",
       "5             23          True   424.320678   284.087921    1.614    1.956   \n",
       "6             23          True  1991.304496   650.573178   13.999    8.570   \n",
       "7             23          True   754.213950   475.641607    2.290    1.875   \n",
       "8             23          True  2006.627258  7426.651857    8.080   18.265   \n",
       "9             23          True  1275.104820   230.555065    6.093   14.895   \n",
       "10            23          True   570.716731   367.124364    4.016    3.490   \n",
       "11            23          True   531.375989   299.319710    2.734    1.813   \n",
       "12            23          True   451.387838   358.202311    1.664    1.937   \n",
       "13            23          True   466.824542   232.031669    2.820    1.631   \n",
       "14            23          True   509.957203   739.096468    2.049    7.306   \n",
       "15            23          True   473.831069   288.002343    2.686    1.478   \n",
       "16            23          True   386.462686   225.405891    1.772    4.816   \n",
       "\n",
       "          v_D1        v_D2  \n",
       "0   176.417116  106.327019  \n",
       "1   126.394852   96.419299  \n",
       "2   264.470469  542.532950  \n",
       "3   409.985324  174.149113  \n",
       "4   240.336203  146.062074  \n",
       "5   262.900048  145.239223  \n",
       "6   142.246196   75.912856  \n",
       "7   329.351070  253.675524  \n",
       "8   248.344958  406.605631  \n",
       "9   209.273727   15.478688  \n",
       "10  142.110740  105.193227  \n",
       "11  194.358445  165.096365  \n",
       "12  271.266730  184.926335  \n",
       "13  165.540618  142.263439  \n",
       "14  248.881016  101.162944  \n",
       "15  176.407695  194.859501  \n",
       "16  218.094067   46.803549  "
      ]
     },
     "execution_count": 6,
     "metadata": {},
     "output_type": "execute_result"
    }
   ],
   "source": [
    "for task in tasks:\n",
    "    users[\"v_\" + task] = users[\"path_\" + task] / users[\"time_\" + task] \n",
    "\n",
    "users"
   ]
  },
  {
   "cell_type": "markdown",
   "id": "00f17604",
   "metadata": {},
   "source": [
    "# Describe"
   ]
  },
  {
   "cell_type": "code",
   "execution_count": 7,
   "id": "99ae1dce",
   "metadata": {},
   "outputs": [
    {
     "data": {
      "text/html": [
       "<div>\n",
       "<style scoped>\n",
       "    .dataframe tbody tr th:only-of-type {\n",
       "        vertical-align: middle;\n",
       "    }\n",
       "\n",
       "    .dataframe tbody tr th {\n",
       "        vertical-align: top;\n",
       "    }\n",
       "\n",
       "    .dataframe thead th {\n",
       "        text-align: right;\n",
       "    }\n",
       "</style>\n",
       "<table border=\"1\" class=\"dataframe\">\n",
       "  <thead>\n",
       "    <tr style=\"text-align: right;\">\n",
       "      <th></th>\n",
       "      <th>nr</th>\n",
       "      <th>age</th>\n",
       "      <th>sorting_option</th>\n",
       "      <th>num_of_files</th>\n",
       "      <th>path_D1</th>\n",
       "      <th>path_D2</th>\n",
       "      <th>time_D1</th>\n",
       "      <th>time_D2</th>\n",
       "      <th>v_D1</th>\n",
       "      <th>v_D2</th>\n",
       "    </tr>\n",
       "  </thead>\n",
       "  <tbody>\n",
       "    <tr>\n",
       "      <th>count</th>\n",
       "      <td>17.000000</td>\n",
       "      <td>17.000000</td>\n",
       "      <td>17.000000</td>\n",
       "      <td>17.0</td>\n",
       "      <td>17.000000</td>\n",
       "      <td>17.000000</td>\n",
       "      <td>17.000000</td>\n",
       "      <td>17.000000</td>\n",
       "      <td>17.000000</td>\n",
       "      <td>17.000000</td>\n",
       "    </tr>\n",
       "    <tr>\n",
       "      <th>mean</th>\n",
       "      <td>9.000000</td>\n",
       "      <td>36.764706</td>\n",
       "      <td>1.764706</td>\n",
       "      <td>23.0</td>\n",
       "      <td>783.122439</td>\n",
       "      <td>888.249575</td>\n",
       "      <td>3.722765</td>\n",
       "      <td>4.870824</td>\n",
       "      <td>225.081134</td>\n",
       "      <td>170.747514</td>\n",
       "    </tr>\n",
       "    <tr>\n",
       "      <th>std</th>\n",
       "      <td>5.049752</td>\n",
       "      <td>15.254218</td>\n",
       "      <td>0.831370</td>\n",
       "      <td>0.0</td>\n",
       "      <td>565.376027</td>\n",
       "      <td>1742.455177</td>\n",
       "      <td>3.146211</td>\n",
       "      <td>4.871032</td>\n",
       "      <td>72.683677</td>\n",
       "      <td>130.121584</td>\n",
       "    </tr>\n",
       "    <tr>\n",
       "      <th>min</th>\n",
       "      <td>1.000000</td>\n",
       "      <td>19.000000</td>\n",
       "      <td>1.000000</td>\n",
       "      <td>23.0</td>\n",
       "      <td>378.299792</td>\n",
       "      <td>225.405891</td>\n",
       "      <td>1.614000</td>\n",
       "      <td>1.478000</td>\n",
       "      <td>126.394852</td>\n",
       "      <td>15.478688</td>\n",
       "    </tr>\n",
       "    <tr>\n",
       "      <th>25%</th>\n",
       "      <td>5.000000</td>\n",
       "      <td>25.000000</td>\n",
       "      <td>1.000000</td>\n",
       "      <td>23.0</td>\n",
       "      <td>451.387838</td>\n",
       "      <td>270.799086</td>\n",
       "      <td>2.049000</td>\n",
       "      <td>1.875000</td>\n",
       "      <td>176.407695</td>\n",
       "      <td>101.162944</td>\n",
       "    </tr>\n",
       "    <tr>\n",
       "      <th>50%</th>\n",
       "      <td>9.000000</td>\n",
       "      <td>29.000000</td>\n",
       "      <td>2.000000</td>\n",
       "      <td>23.0</td>\n",
       "      <td>509.957203</td>\n",
       "      <td>351.410796</td>\n",
       "      <td>2.686000</td>\n",
       "      <td>3.225000</td>\n",
       "      <td>218.094067</td>\n",
       "      <td>145.239223</td>\n",
       "    </tr>\n",
       "    <tr>\n",
       "      <th>75%</th>\n",
       "      <td>13.000000</td>\n",
       "      <td>54.000000</td>\n",
       "      <td>2.000000</td>\n",
       "      <td>23.0</td>\n",
       "      <td>754.213950</td>\n",
       "      <td>561.630888</td>\n",
       "      <td>3.954000</td>\n",
       "      <td>4.816000</td>\n",
       "      <td>262.900048</td>\n",
       "      <td>184.926335</td>\n",
       "    </tr>\n",
       "    <tr>\n",
       "      <th>max</th>\n",
       "      <td>17.000000</td>\n",
       "      <td>61.000000</td>\n",
       "      <td>3.000000</td>\n",
       "      <td>23.0</td>\n",
       "      <td>2006.627258</td>\n",
       "      <td>7426.651857</td>\n",
       "      <td>13.999000</td>\n",
       "      <td>18.265000</td>\n",
       "      <td>409.985324</td>\n",
       "      <td>542.532950</td>\n",
       "    </tr>\n",
       "  </tbody>\n",
       "</table>\n",
       "</div>"
      ],
      "text/plain": [
       "              nr        age  sorting_option  num_of_files      path_D1  \\\n",
       "count  17.000000  17.000000       17.000000          17.0    17.000000   \n",
       "mean    9.000000  36.764706        1.764706          23.0   783.122439   \n",
       "std     5.049752  15.254218        0.831370           0.0   565.376027   \n",
       "min     1.000000  19.000000        1.000000          23.0   378.299792   \n",
       "25%     5.000000  25.000000        1.000000          23.0   451.387838   \n",
       "50%     9.000000  29.000000        2.000000          23.0   509.957203   \n",
       "75%    13.000000  54.000000        2.000000          23.0   754.213950   \n",
       "max    17.000000  61.000000        3.000000          23.0  2006.627258   \n",
       "\n",
       "           path_D2    time_D1    time_D2        v_D1        v_D2  \n",
       "count    17.000000  17.000000  17.000000   17.000000   17.000000  \n",
       "mean    888.249575   3.722765   4.870824  225.081134  170.747514  \n",
       "std    1742.455177   3.146211   4.871032   72.683677  130.121584  \n",
       "min     225.405891   1.614000   1.478000  126.394852   15.478688  \n",
       "25%     270.799086   2.049000   1.875000  176.407695  101.162944  \n",
       "50%     351.410796   2.686000   3.225000  218.094067  145.239223  \n",
       "75%     561.630888   3.954000   4.816000  262.900048  184.926335  \n",
       "max    7426.651857  13.999000  18.265000  409.985324  542.532950  "
      ]
     },
     "execution_count": 7,
     "metadata": {},
     "output_type": "execute_result"
    }
   ],
   "source": [
    "users.describe()"
   ]
  },
  {
   "cell_type": "code",
   "execution_count": 39,
   "id": "1bd40d25",
   "metadata": {},
   "outputs": [
    {
     "data": {
      "application/vnd.plotly.v1+json": {
       "config": {
        "plotlyServerURL": "https://plot.ly"
       },
       "data": [
        {
         "mode": "markers",
         "name": "E1",
         "type": "scatter",
         "x": [
          3809,
          2204,
          1070,
          2102,
          1460,
          1583,
          4874,
          2041,
          2424,
          8075,
          4433,
          2349,
          1463,
          1128,
          2805,
          1826,
          3396
         ],
         "y": [
          622.7229042485144,
          504.1844700295016,
          514.0167197087769,
          467.30773201392395,
          492.64404562556723,
          519.0984403281674,
          757.70406635021,
          451.60513842703887,
          890.121131120942,
          755.7656914155586,
          523.808668187484,
          531.7271654574621,
          583.8542185962802,
          471.3149318308264,
          725.3498913615886,
          507.2615734865871,
          500.20928713527866
         ]
        },
        {
         "mode": "markers",
         "name": "E2",
         "type": "scatter",
         "x": [
          1697,
          2305,
          1295,
          2759,
          1441,
          1720,
          7537,
          1933,
          2481,
          3298,
          2600,
          3089,
          1833,
          1166,
          4350,
          2065,
          1665
         ],
         "y": [
          492.0316996197539,
          452.6451911433745,
          488.7805747033981,
          452.51032454226316,
          450.76049879531774,
          524.8114763927032,
          655.7837942915628,
          464.1286261600797,
          479.5310606162302,
          462.7345162397048,
          525.0000924840332,
          440.32462565584655,
          644.2632573700317,
          434.23229723191884,
          612.0399602159347,
          563.2094117988,
          445.19792826880246
         ]
        },
        {
         "mode": "markers",
         "name": "E3",
         "type": "scatter",
         "x": [
          1400,
          1369,
          1031,
          1479,
          1658,
          1388,
          5068,
          1995,
          1911,
          2869,
          3917,
          2261,
          3369,
          1955,
          1673,
          1748,
          1880
         ],
         "y": [
          515.9057708640515,
          438.91592797578664,
          593.2170990604577,
          468.08853161219116,
          467.8966432300494,
          442.85989763668107,
          575.24598978824,
          498.27330849624207,
          713.576040653835,
          500.1809177012903,
          490.811323454209,
          493.59023841765736,
          699.4537144977929,
          453.1219441209928,
          543.8564186403339,
          478.4744017561391,
          522.5510255719142
         ]
        }
       ],
       "layout": {
        "template": {
         "data": {
          "bar": [
           {
            "error_x": {
             "color": "#2a3f5f"
            },
            "error_y": {
             "color": "#2a3f5f"
            },
            "marker": {
             "line": {
              "color": "#E5ECF6",
              "width": 0.5
             },
             "pattern": {
              "fillmode": "overlay",
              "size": 10,
              "solidity": 0.2
             }
            },
            "type": "bar"
           }
          ],
          "barpolar": [
           {
            "marker": {
             "line": {
              "color": "#E5ECF6",
              "width": 0.5
             },
             "pattern": {
              "fillmode": "overlay",
              "size": 10,
              "solidity": 0.2
             }
            },
            "type": "barpolar"
           }
          ],
          "carpet": [
           {
            "aaxis": {
             "endlinecolor": "#2a3f5f",
             "gridcolor": "white",
             "linecolor": "white",
             "minorgridcolor": "white",
             "startlinecolor": "#2a3f5f"
            },
            "baxis": {
             "endlinecolor": "#2a3f5f",
             "gridcolor": "white",
             "linecolor": "white",
             "minorgridcolor": "white",
             "startlinecolor": "#2a3f5f"
            },
            "type": "carpet"
           }
          ],
          "choropleth": [
           {
            "colorbar": {
             "outlinewidth": 0,
             "ticks": ""
            },
            "type": "choropleth"
           }
          ],
          "contour": [
           {
            "colorbar": {
             "outlinewidth": 0,
             "ticks": ""
            },
            "colorscale": [
             [
              0,
              "#0d0887"
             ],
             [
              0.1111111111111111,
              "#46039f"
             ],
             [
              0.2222222222222222,
              "#7201a8"
             ],
             [
              0.3333333333333333,
              "#9c179e"
             ],
             [
              0.4444444444444444,
              "#bd3786"
             ],
             [
              0.5555555555555556,
              "#d8576b"
             ],
             [
              0.6666666666666666,
              "#ed7953"
             ],
             [
              0.7777777777777778,
              "#fb9f3a"
             ],
             [
              0.8888888888888888,
              "#fdca26"
             ],
             [
              1,
              "#f0f921"
             ]
            ],
            "type": "contour"
           }
          ],
          "contourcarpet": [
           {
            "colorbar": {
             "outlinewidth": 0,
             "ticks": ""
            },
            "type": "contourcarpet"
           }
          ],
          "heatmap": [
           {
            "colorbar": {
             "outlinewidth": 0,
             "ticks": ""
            },
            "colorscale": [
             [
              0,
              "#0d0887"
             ],
             [
              0.1111111111111111,
              "#46039f"
             ],
             [
              0.2222222222222222,
              "#7201a8"
             ],
             [
              0.3333333333333333,
              "#9c179e"
             ],
             [
              0.4444444444444444,
              "#bd3786"
             ],
             [
              0.5555555555555556,
              "#d8576b"
             ],
             [
              0.6666666666666666,
              "#ed7953"
             ],
             [
              0.7777777777777778,
              "#fb9f3a"
             ],
             [
              0.8888888888888888,
              "#fdca26"
             ],
             [
              1,
              "#f0f921"
             ]
            ],
            "type": "heatmap"
           }
          ],
          "heatmapgl": [
           {
            "colorbar": {
             "outlinewidth": 0,
             "ticks": ""
            },
            "colorscale": [
             [
              0,
              "#0d0887"
             ],
             [
              0.1111111111111111,
              "#46039f"
             ],
             [
              0.2222222222222222,
              "#7201a8"
             ],
             [
              0.3333333333333333,
              "#9c179e"
             ],
             [
              0.4444444444444444,
              "#bd3786"
             ],
             [
              0.5555555555555556,
              "#d8576b"
             ],
             [
              0.6666666666666666,
              "#ed7953"
             ],
             [
              0.7777777777777778,
              "#fb9f3a"
             ],
             [
              0.8888888888888888,
              "#fdca26"
             ],
             [
              1,
              "#f0f921"
             ]
            ],
            "type": "heatmapgl"
           }
          ],
          "histogram": [
           {
            "marker": {
             "pattern": {
              "fillmode": "overlay",
              "size": 10,
              "solidity": 0.2
             }
            },
            "type": "histogram"
           }
          ],
          "histogram2d": [
           {
            "colorbar": {
             "outlinewidth": 0,
             "ticks": ""
            },
            "colorscale": [
             [
              0,
              "#0d0887"
             ],
             [
              0.1111111111111111,
              "#46039f"
             ],
             [
              0.2222222222222222,
              "#7201a8"
             ],
             [
              0.3333333333333333,
              "#9c179e"
             ],
             [
              0.4444444444444444,
              "#bd3786"
             ],
             [
              0.5555555555555556,
              "#d8576b"
             ],
             [
              0.6666666666666666,
              "#ed7953"
             ],
             [
              0.7777777777777778,
              "#fb9f3a"
             ],
             [
              0.8888888888888888,
              "#fdca26"
             ],
             [
              1,
              "#f0f921"
             ]
            ],
            "type": "histogram2d"
           }
          ],
          "histogram2dcontour": [
           {
            "colorbar": {
             "outlinewidth": 0,
             "ticks": ""
            },
            "colorscale": [
             [
              0,
              "#0d0887"
             ],
             [
              0.1111111111111111,
              "#46039f"
             ],
             [
              0.2222222222222222,
              "#7201a8"
             ],
             [
              0.3333333333333333,
              "#9c179e"
             ],
             [
              0.4444444444444444,
              "#bd3786"
             ],
             [
              0.5555555555555556,
              "#d8576b"
             ],
             [
              0.6666666666666666,
              "#ed7953"
             ],
             [
              0.7777777777777778,
              "#fb9f3a"
             ],
             [
              0.8888888888888888,
              "#fdca26"
             ],
             [
              1,
              "#f0f921"
             ]
            ],
            "type": "histogram2dcontour"
           }
          ],
          "mesh3d": [
           {
            "colorbar": {
             "outlinewidth": 0,
             "ticks": ""
            },
            "type": "mesh3d"
           }
          ],
          "parcoords": [
           {
            "line": {
             "colorbar": {
              "outlinewidth": 0,
              "ticks": ""
             }
            },
            "type": "parcoords"
           }
          ],
          "pie": [
           {
            "automargin": true,
            "type": "pie"
           }
          ],
          "scatter": [
           {
            "fillpattern": {
             "fillmode": "overlay",
             "size": 10,
             "solidity": 0.2
            },
            "type": "scatter"
           }
          ],
          "scatter3d": [
           {
            "line": {
             "colorbar": {
              "outlinewidth": 0,
              "ticks": ""
             }
            },
            "marker": {
             "colorbar": {
              "outlinewidth": 0,
              "ticks": ""
             }
            },
            "type": "scatter3d"
           }
          ],
          "scattercarpet": [
           {
            "marker": {
             "colorbar": {
              "outlinewidth": 0,
              "ticks": ""
             }
            },
            "type": "scattercarpet"
           }
          ],
          "scattergeo": [
           {
            "marker": {
             "colorbar": {
              "outlinewidth": 0,
              "ticks": ""
             }
            },
            "type": "scattergeo"
           }
          ],
          "scattergl": [
           {
            "marker": {
             "colorbar": {
              "outlinewidth": 0,
              "ticks": ""
             }
            },
            "type": "scattergl"
           }
          ],
          "scattermapbox": [
           {
            "marker": {
             "colorbar": {
              "outlinewidth": 0,
              "ticks": ""
             }
            },
            "type": "scattermapbox"
           }
          ],
          "scatterpolar": [
           {
            "marker": {
             "colorbar": {
              "outlinewidth": 0,
              "ticks": ""
             }
            },
            "type": "scatterpolar"
           }
          ],
          "scatterpolargl": [
           {
            "marker": {
             "colorbar": {
              "outlinewidth": 0,
              "ticks": ""
             }
            },
            "type": "scatterpolargl"
           }
          ],
          "scatterternary": [
           {
            "marker": {
             "colorbar": {
              "outlinewidth": 0,
              "ticks": ""
             }
            },
            "type": "scatterternary"
           }
          ],
          "surface": [
           {
            "colorbar": {
             "outlinewidth": 0,
             "ticks": ""
            },
            "colorscale": [
             [
              0,
              "#0d0887"
             ],
             [
              0.1111111111111111,
              "#46039f"
             ],
             [
              0.2222222222222222,
              "#7201a8"
             ],
             [
              0.3333333333333333,
              "#9c179e"
             ],
             [
              0.4444444444444444,
              "#bd3786"
             ],
             [
              0.5555555555555556,
              "#d8576b"
             ],
             [
              0.6666666666666666,
              "#ed7953"
             ],
             [
              0.7777777777777778,
              "#fb9f3a"
             ],
             [
              0.8888888888888888,
              "#fdca26"
             ],
             [
              1,
              "#f0f921"
             ]
            ],
            "type": "surface"
           }
          ],
          "table": [
           {
            "cells": {
             "fill": {
              "color": "#EBF0F8"
             },
             "line": {
              "color": "white"
             }
            },
            "header": {
             "fill": {
              "color": "#C8D4E3"
             },
             "line": {
              "color": "white"
             }
            },
            "type": "table"
           }
          ]
         },
         "layout": {
          "annotationdefaults": {
           "arrowcolor": "#2a3f5f",
           "arrowhead": 0,
           "arrowwidth": 1
          },
          "autotypenumbers": "strict",
          "coloraxis": {
           "colorbar": {
            "outlinewidth": 0,
            "ticks": ""
           }
          },
          "colorscale": {
           "diverging": [
            [
             0,
             "#8e0152"
            ],
            [
             0.1,
             "#c51b7d"
            ],
            [
             0.2,
             "#de77ae"
            ],
            [
             0.3,
             "#f1b6da"
            ],
            [
             0.4,
             "#fde0ef"
            ],
            [
             0.5,
             "#f7f7f7"
            ],
            [
             0.6,
             "#e6f5d0"
            ],
            [
             0.7,
             "#b8e186"
            ],
            [
             0.8,
             "#7fbc41"
            ],
            [
             0.9,
             "#4d9221"
            ],
            [
             1,
             "#276419"
            ]
           ],
           "sequential": [
            [
             0,
             "#0d0887"
            ],
            [
             0.1111111111111111,
             "#46039f"
            ],
            [
             0.2222222222222222,
             "#7201a8"
            ],
            [
             0.3333333333333333,
             "#9c179e"
            ],
            [
             0.4444444444444444,
             "#bd3786"
            ],
            [
             0.5555555555555556,
             "#d8576b"
            ],
            [
             0.6666666666666666,
             "#ed7953"
            ],
            [
             0.7777777777777778,
             "#fb9f3a"
            ],
            [
             0.8888888888888888,
             "#fdca26"
            ],
            [
             1,
             "#f0f921"
            ]
           ],
           "sequentialminus": [
            [
             0,
             "#0d0887"
            ],
            [
             0.1111111111111111,
             "#46039f"
            ],
            [
             0.2222222222222222,
             "#7201a8"
            ],
            [
             0.3333333333333333,
             "#9c179e"
            ],
            [
             0.4444444444444444,
             "#bd3786"
            ],
            [
             0.5555555555555556,
             "#d8576b"
            ],
            [
             0.6666666666666666,
             "#ed7953"
            ],
            [
             0.7777777777777778,
             "#fb9f3a"
            ],
            [
             0.8888888888888888,
             "#fdca26"
            ],
            [
             1,
             "#f0f921"
            ]
           ]
          },
          "colorway": [
           "#636efa",
           "#EF553B",
           "#00cc96",
           "#ab63fa",
           "#FFA15A",
           "#19d3f3",
           "#FF6692",
           "#B6E880",
           "#FF97FF",
           "#FECB52"
          ],
          "font": {
           "color": "#2a3f5f"
          },
          "geo": {
           "bgcolor": "white",
           "lakecolor": "white",
           "landcolor": "#E5ECF6",
           "showlakes": true,
           "showland": true,
           "subunitcolor": "white"
          },
          "hoverlabel": {
           "align": "left"
          },
          "hovermode": "closest",
          "mapbox": {
           "style": "light"
          },
          "paper_bgcolor": "white",
          "plot_bgcolor": "#E5ECF6",
          "polar": {
           "angularaxis": {
            "gridcolor": "white",
            "linecolor": "white",
            "ticks": ""
           },
           "bgcolor": "#E5ECF6",
           "radialaxis": {
            "gridcolor": "white",
            "linecolor": "white",
            "ticks": ""
           }
          },
          "scene": {
           "xaxis": {
            "backgroundcolor": "#E5ECF6",
            "gridcolor": "white",
            "gridwidth": 2,
            "linecolor": "white",
            "showbackground": true,
            "ticks": "",
            "zerolinecolor": "white"
           },
           "yaxis": {
            "backgroundcolor": "#E5ECF6",
            "gridcolor": "white",
            "gridwidth": 2,
            "linecolor": "white",
            "showbackground": true,
            "ticks": "",
            "zerolinecolor": "white"
           },
           "zaxis": {
            "backgroundcolor": "#E5ECF6",
            "gridcolor": "white",
            "gridwidth": 2,
            "linecolor": "white",
            "showbackground": true,
            "ticks": "",
            "zerolinecolor": "white"
           }
          },
          "shapedefaults": {
           "line": {
            "color": "#2a3f5f"
           }
          },
          "ternary": {
           "aaxis": {
            "gridcolor": "white",
            "linecolor": "white",
            "ticks": ""
           },
           "baxis": {
            "gridcolor": "white",
            "linecolor": "white",
            "ticks": ""
           },
           "bgcolor": "#E5ECF6",
           "caxis": {
            "gridcolor": "white",
            "linecolor": "white",
            "ticks": ""
           }
          },
          "title": {
           "x": 0.05
          },
          "xaxis": {
           "automargin": true,
           "gridcolor": "white",
           "linecolor": "white",
           "ticks": "",
           "title": {
            "standoff": 15
           },
           "zerolinecolor": "white",
           "zerolinewidth": 2
          },
          "yaxis": {
           "automargin": true,
           "gridcolor": "white",
           "linecolor": "white",
           "ticks": "",
           "title": {
            "standoff": 15
           },
           "zerolinecolor": "white",
           "zerolinewidth": 2
          }
         }
        }
       }
      }
     },
     "metadata": {},
     "output_type": "display_data"
    }
   ],
   "source": [
    "\n",
    "fig = go.Figure()\n",
    "\n",
    "fig = fig.add_trace(go.Scatter(x = users[\"time_E1\"],\n",
    "                                y = users[\"path_E1\"], \n",
    "                                name = \"E1\",\n",
    "                                mode = \"markers\"\n",
    "                                    ))\n",
    "\n",
    "fig = fig.add_trace(go.Scatter(x = users[\"time_E2\"],\n",
    "                                y = users[\"path_E2\"], \n",
    "                                name = \"E2\",\n",
    "                                mode = \"markers\"\n",
    "                                    ))\n",
    "\n",
    "fig = fig.add_trace(go.Scatter(x = users[\"time_E3\"],\n",
    "                                y = users[\"path_E3\"], \n",
    "                                name = \"E3\",\n",
    "                                mode = \"markers\"\n",
    "                                    ))\n",
    "\n",
    "fig.show()"
   ]
  },
  {
   "cell_type": "markdown",
   "id": "97a7d3d7",
   "metadata": {},
   "source": [
    "# Speichern"
   ]
  },
  {
   "cell_type": "code",
   "execution_count": 6,
   "id": "5ce4d118",
   "metadata": {},
   "outputs": [],
   "source": [
    "users.to_csv(\"./results/analysis_E.csv\", index=False)"
   ]
  }
 ],
 "metadata": {
  "interpreter": {
   "hash": "916dbcbb3f70747c44a77c7bcd40155683ae19c65e1c03b4aa3499c5328201f1"
  },
  "kernelspec": {
   "display_name": "Python 3.10.6 64-bit",
   "language": "python",
   "name": "python3"
  },
  "language_info": {
   "codemirror_mode": {
    "name": "ipython",
    "version": 3
   },
   "file_extension": ".py",
   "mimetype": "text/x-python",
   "name": "python",
   "nbconvert_exporter": "python",
   "pygments_lexer": "ipython3",
   "version": "3.10.6"
  }
 },
 "nbformat": 4,
 "nbformat_minor": 5
}
