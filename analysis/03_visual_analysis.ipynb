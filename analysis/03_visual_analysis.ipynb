{
 "cells": [
  {
   "cell_type": "code",
   "execution_count": 20,
   "id": "d44817ee-ac0e-4614-9ed2-7cba3d53c20b",
   "metadata": {},
   "outputs": [],
   "source": [
    "import pandas as pd\n",
    "import plotly.express as px\n",
    "from PIL import Image\n",
    "import plotly.graph_objects as go\n",
    "import os\n",
    "import numpy as np"
   ]
  },
  {
   "cell_type": "code",
   "execution_count": 13,
   "id": "c307958c",
   "metadata": {},
   "outputs": [],
   "source": [
    "tasks = [\"A1\", \"A2\", \"A3\", \"A4\", \"A5\", \"A6\", \"A7\", \n",
    "         \"B1\", \"B2\", \"B3\", \"B4\", \n",
    "         \"C1\", \"C2\", \"C3\", \"C4\", \n",
    "         \"D1\", \"D2\", \n",
    "         \"E1\", \"E2\", \"E3\", \n",
    "         \"F1\", \"F2\", \"F3\"]\n",
    "\n",
    "users = pd.read_csv(\"./results/users.csv\")\n",
    "\n",
    "folder_path = './data/tracking_files/'\n",
    "list_of_filenames = os.listdir(folder_path)"
   ]
  },
  {
   "cell_type": "code",
   "execution_count": 16,
   "id": "83bebb30",
   "metadata": {},
   "outputs": [],
   "source": [
    "for task in tasks:\n",
    "\n",
    "    task_dict = {}\n",
    "\n",
    "    for file in list_of_filenames:\n",
    "        if file.split(\"_\")[1] == task + \".csv\":\n",
    "            df = pd.read_csv(\"data/tracking_files/\" + file)\n",
    "            task_dict[file.split(\"_\")[0]] = df\n",
    "\n",
    "\n",
    "    img_width = 1400\n",
    "    img_height = 800\n",
    "    img = Image.open('images/' + task + '.png') # screenshot\n",
    "\n",
    "    fig = go.Figure()\n",
    "\n",
    "    for i in task_dict:\n",
    "        fig = fig.add_trace(go.Scatter(x = task_dict[i][\"x\"],\n",
    "                                       y = task_dict[i][\"y\"], \n",
    "                                       name = i,\n",
    "                                       mode='lines+markers' # or just 'lines'\n",
    "                                      ))\n",
    "\n",
    "    fig.update_layout(width=img_width, height=img_height, plot_bgcolor='white')\n",
    "    fig.update_traces(line=dict(width=2), marker=dict(size=4))\n",
    "    fig.update_xaxes(range=[0, 1400], showgrid=False)\n",
    "    fig.update_yaxes(range=[800, 0], showgrid=False)\n",
    "    fig.add_layout_image(\n",
    "            x=0,\n",
    "            sizex=img_width,\n",
    "            y=0,\n",
    "            sizey=img_height,\n",
    "            xref=\"x\",\n",
    "            yref=\"y\",\n",
    "            sizing=\"stretch\",\n",
    "            opacity=0.4,\n",
    "            layer=\"below\",\n",
    "            source=img\n",
    "    )\n",
    "\n",
    "    \n",
    "\n",
    "    fig.write_image('./plots/' + task + '.png', format='png')"
   ]
  }
 ],
 "metadata": {
  "interpreter": {
   "hash": "916dbcbb3f70747c44a77c7bcd40155683ae19c65e1c03b4aa3499c5328201f1"
  },
  "kernelspec": {
   "display_name": "Python 3.10.6 64-bit",
   "language": "python",
   "name": "python3"
  },
  "language_info": {
   "codemirror_mode": {
    "name": "ipython",
    "version": 3
   },
   "file_extension": ".py",
   "mimetype": "text/x-python",
   "name": "python",
   "nbconvert_exporter": "python",
   "pygments_lexer": "ipython3",
   "version": "3.10.6"
  }
 },
 "nbformat": 4,
 "nbformat_minor": 5
}
