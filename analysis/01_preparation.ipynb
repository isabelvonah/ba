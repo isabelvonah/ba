{
 "cells": [
  {
   "cell_type": "code",
   "execution_count": 1,
   "id": "9398fe11",
   "metadata": {},
   "outputs": [],
   "source": [
    "import pandas as pd"
   ]
  },
  {
   "cell_type": "markdown",
   "id": "de5a5557",
   "metadata": {},
   "source": [
    "# User-Dataframe"
   ]
  },
  {
   "cell_type": "code",
   "execution_count": 7,
   "id": "b79b6342",
   "metadata": {},
   "outputs": [],
   "source": [
    "import os\n",
    "\n",
    "folder_path = './data'\n",
    "list_of_filenames = os.listdir(folder_path)"
   ]
  },
  {
   "cell_type": "code",
   "execution_count": 30,
   "id": "58043db7",
   "metadata": {},
   "outputs": [],
   "source": [
    "info_files = []\n",
    "tracking_files = []\n",
    "\n",
    "for file in list_of_filenames :\n",
    "    \n",
    "    if file.split(\"_\")[1] == \"info\":\n",
    "        info_files.append(file)\n",
    "    else:\n",
    "        tracking_files.append(file)"
   ]
  },
  {
   "cell_type": "code",
   "execution_count": 35,
   "id": "2b034b1f",
   "metadata": {},
   "outputs": [
    {
     "data": {
      "text/html": [
       "<div>\n",
       "<style scoped>\n",
       "    .dataframe tbody tr th:only-of-type {\n",
       "        vertical-align: middle;\n",
       "    }\n",
       "\n",
       "    .dataframe tbody tr th {\n",
       "        vertical-align: top;\n",
       "    }\n",
       "\n",
       "    .dataframe thead th {\n",
       "        text-align: right;\n",
       "    }\n",
       "</style>\n",
       "<table border=\"1\" class=\"dataframe\">\n",
       "  <thead>\n",
       "    <tr style=\"text-align: right;\">\n",
       "      <th></th>\n",
       "      <th>uuid</th>\n",
       "      <th>age</th>\n",
       "      <th>gender</th>\n",
       "      <th>device</th>\n",
       "      <th>sorting_option</th>\n",
       "    </tr>\n",
       "  </thead>\n",
       "  <tbody>\n",
       "    <tr>\n",
       "      <th>0</th>\n",
       "      <td>649aba058c612604f08fde63</td>\n",
       "      <td>23</td>\n",
       "      <td>female</td>\n",
       "      <td>touchpad</td>\n",
       "      <td>3</td>\n",
       "    </tr>\n",
       "    <tr>\n",
       "      <th>1</th>\n",
       "      <td>64995bac8c61d60b08d58991</td>\n",
       "      <td>26</td>\n",
       "      <td>female</td>\n",
       "      <td>mouse</td>\n",
       "      <td>1</td>\n",
       "    </tr>\n",
       "  </tbody>\n",
       "</table>\n",
       "</div>"
      ],
      "text/plain": [
       "                       uuid age  gender    device sorting_option\n",
       "0  649aba058c612604f08fde63  23  female  touchpad              3\n",
       "1  64995bac8c61d60b08d58991  26  female     mouse              1"
      ]
     },
     "execution_count": 35,
     "metadata": {},
     "output_type": "execute_result"
    }
   ],
   "source": [
    "users_list = []\n",
    "\n",
    "for file in info_files:\n",
    "    \n",
    "    with open('./data/' + file, 'r') as file:\n",
    "        info = file.read()\n",
    "    \n",
    "    if info.split(\", \")[1] != \"999\": #used as testing indicator\n",
    "        users_list.append(info.split(\", \"))\n",
    "\n",
    "users = pd.DataFrame(users_list, columns=[\"uuid\", \"age\", \"gender\", \"device\", \"sorting_option\"])\n",
    "users"
   ]
  },
  {
   "cell_type": "markdown",
   "id": "1cc7c10c",
   "metadata": {},
   "source": [
    "# filenames verkürzen und in neuen Ordner"
   ]
  },
  {
   "cell_type": "code",
   "execution_count": 65,
   "id": "09368711",
   "metadata": {},
   "outputs": [],
   "source": [
    "for file in tracking_files:\n",
    "    \n",
    "    new_file = file.split(\"_\")[0] + \"_\" + file.split(\"_\")[2]\n",
    "    \n",
    "    csv = pd.read_csv(\"./data/\" + file, names = [\"action\", \"x\", \"y\", \"ms\"], header = None, index_col = [0])\n",
    "    csv.set_index(\"ms\")\n",
    "    csv.to_csv(\"./data/tracking_files/\" + new_file + \".csv\")"
   ]
  },
  {
   "cell_type": "markdown",
   "id": "6508a0c5",
   "metadata": {},
   "source": [
    "# User überprüfen"
   ]
  },
  {
   "cell_type": "markdown",
   "id": "4de5b7d5",
   "metadata": {},
   "source": [
    "## Anzahl Files"
   ]
  },
  {
   "cell_type": "code",
   "execution_count": 42,
   "id": "4b1afc0d",
   "metadata": {},
   "outputs": [],
   "source": [
    "num_of_files_per_user = []\n",
    "\n",
    "for uuid in users[\"uuid\"]:\n",
    "    \n",
    "    user_files = []\n",
    "    \n",
    "    for file in tracking_files:\n",
    "        \n",
    "        if file.split(\"_\")[0] == uuid:\n",
    "            user_files.append(file)\n",
    "    \n",
    "    num_of_files_per_user.append(len(user_files))\n",
    "\n",
    "users[\"num_of_files\"] = num_of_files_per_user"
   ]
  },
  {
   "cell_type": "code",
   "execution_count": 48,
   "id": "acff8333",
   "metadata": {},
   "outputs": [
    {
     "data": {
      "text/html": [
       "<div>\n",
       "<style scoped>\n",
       "    .dataframe tbody tr th:only-of-type {\n",
       "        vertical-align: middle;\n",
       "    }\n",
       "\n",
       "    .dataframe tbody tr th {\n",
       "        vertical-align: top;\n",
       "    }\n",
       "\n",
       "    .dataframe thead th {\n",
       "        text-align: right;\n",
       "    }\n",
       "</style>\n",
       "<table border=\"1\" class=\"dataframe\">\n",
       "  <thead>\n",
       "    <tr style=\"text-align: right;\">\n",
       "      <th></th>\n",
       "      <th>uuid</th>\n",
       "      <th>age</th>\n",
       "      <th>gender</th>\n",
       "      <th>device</th>\n",
       "      <th>sorting_option</th>\n",
       "      <th>num_of_files</th>\n",
       "    </tr>\n",
       "  </thead>\n",
       "  <tbody>\n",
       "    <tr>\n",
       "      <th>0</th>\n",
       "      <td>649aba058c612604f08fde63</td>\n",
       "      <td>23</td>\n",
       "      <td>female</td>\n",
       "      <td>touchpad</td>\n",
       "      <td>3</td>\n",
       "      <td>23</td>\n",
       "    </tr>\n",
       "    <tr>\n",
       "      <th>1</th>\n",
       "      <td>64995bac8c61d60b08d58991</td>\n",
       "      <td>26</td>\n",
       "      <td>female</td>\n",
       "      <td>mouse</td>\n",
       "      <td>1</td>\n",
       "      <td>23</td>\n",
       "    </tr>\n",
       "  </tbody>\n",
       "</table>\n",
       "</div>"
      ],
      "text/plain": [
       "                       uuid age  gender    device sorting_option  num_of_files\n",
       "0  649aba058c612604f08fde63  23  female  touchpad              3            23\n",
       "1  64995bac8c61d60b08d58991  26  female     mouse              1            23"
      ]
     },
     "execution_count": 48,
     "metadata": {},
     "output_type": "execute_result"
    }
   ],
   "source": [
    "users"
   ]
  },
  {
   "cell_type": "markdown",
   "id": "6dac4fce",
   "metadata": {},
   "source": [
    "## Koordinaten der Buttons"
   ]
  },
  {
   "cell_type": "code",
   "execution_count": 82,
   "id": "d23dd35d",
   "metadata": {},
   "outputs": [
    {
     "data": {
      "text/plain": [
       "[True, True]"
      ]
     },
     "execution_count": 82,
     "metadata": {},
     "output_type": "execute_result"
    }
   ],
   "source": [
    "coords_match = []\n",
    "\n",
    "for uuid in users[\"uuid\"]:\n",
    "    \n",
    "    a1 = pd.read_csv(\"./data/tracking_files/\" + uuid + \"_A1.csv\")\n",
    "    \n",
    "    x = a1.sort_values(\"ms\").iloc[-1][\"x\"]\n",
    "    y = a1.sort_values(\"ms\").iloc[-1][\"y\"]\n",
    "    \n",
    "    if 1315 <= x <= 1381.8999938964844 and 745 <= y <= 783:\n",
    "        coords_match.append(True)\n",
    "    else:\n",
    "        coords_match.append(False)\n",
    "\n",
    "users[\"coords_match\"] = coords_match"
   ]
  },
  {
   "cell_type": "markdown",
   "id": "290064e6",
   "metadata": {},
   "source": []
  },
  {
   "cell_type": "code",
   "execution_count": 47,
   "id": "1b78759e",
   "metadata": {},
   "outputs": [
    {
     "data": {
      "text/html": [
       "<div>\n",
       "<style scoped>\n",
       "    .dataframe tbody tr th:only-of-type {\n",
       "        vertical-align: middle;\n",
       "    }\n",
       "\n",
       "    .dataframe tbody tr th {\n",
       "        vertical-align: top;\n",
       "    }\n",
       "\n",
       "    .dataframe thead th {\n",
       "        text-align: right;\n",
       "    }\n",
       "</style>\n",
       "<table border=\"1\" class=\"dataframe\">\n",
       "  <thead>\n",
       "    <tr style=\"text-align: right;\">\n",
       "      <th></th>\n",
       "      <th>uuid</th>\n",
       "      <th>age</th>\n",
       "      <th>gender</th>\n",
       "      <th>device</th>\n",
       "      <th>sorting_option</th>\n",
       "      <th>num_of_files</th>\n",
       "    </tr>\n",
       "  </thead>\n",
       "  <tbody>\n",
       "  </tbody>\n",
       "</table>\n",
       "</div>"
      ],
      "text/plain": [
       "Empty DataFrame\n",
       "Columns: [uuid, age, gender, device, sorting_option, num_of_files]\n",
       "Index: []"
      ]
     },
     "execution_count": 47,
     "metadata": {},
     "output_type": "execute_result"
    }
   ],
   "source": [
    "users.drop((users[\"num_of_files\"] != 23).index)"
   ]
  }
 ],
 "metadata": {
  "kernelspec": {
   "display_name": "Python 3 (ipykernel)",
   "language": "python",
   "name": "python3"
  },
  "language_info": {
   "codemirror_mode": {
    "name": "ipython",
    "version": 3
   },
   "file_extension": ".py",
   "mimetype": "text/x-python",
   "name": "python",
   "nbconvert_exporter": "python",
   "pygments_lexer": "ipython3",
   "version": "3.10.6"
  }
 },
 "nbformat": 4,
 "nbformat_minor": 5
}
