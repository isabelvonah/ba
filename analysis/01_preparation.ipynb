{
 "cells": [
  {
   "cell_type": "code",
   "execution_count": 1,
   "id": "71595abf",
   "metadata": {},
   "outputs": [],
   "source": [
    "import pandas as pd"
   ]
  },
  {
   "cell_type": "code",
   "execution_count": 7,
   "id": "2fae18b5",
   "metadata": {},
   "outputs": [],
   "source": [
    "import os\n",
    "\n",
    "folder_path = './data'\n",
    "list_of_filenames = os.listdir(folder_path)"
   ]
  },
  {
   "cell_type": "code",
   "execution_count": 30,
   "id": "c9b08dc3",
   "metadata": {},
   "outputs": [],
   "source": [
    "info_files = []\n",
    "tracking_files = []\n",
    "\n",
    "for file in list_of_filenames :\n",
    "    if file.split(\"_\")[1] == \"info\":\n",
    "        info_files.append(file)\n",
    "    else:\n",
    "        tracking_files.append(file)"
   ]
  },
  {
   "cell_type": "code",
   "execution_count": 35,
   "id": "1bd96191",
   "metadata": {},
   "outputs": [
    {
     "data": {
      "text/html": [
       "<div>\n",
       "<style scoped>\n",
       "    .dataframe tbody tr th:only-of-type {\n",
       "        vertical-align: middle;\n",
       "    }\n",
       "\n",
       "    .dataframe tbody tr th {\n",
       "        vertical-align: top;\n",
       "    }\n",
       "\n",
       "    .dataframe thead th {\n",
       "        text-align: right;\n",
       "    }\n",
       "</style>\n",
       "<table border=\"1\" class=\"dataframe\">\n",
       "  <thead>\n",
       "    <tr style=\"text-align: right;\">\n",
       "      <th></th>\n",
       "      <th>uuid</th>\n",
       "      <th>age</th>\n",
       "      <th>gender</th>\n",
       "      <th>device</th>\n",
       "      <th>sorting_option</th>\n",
       "    </tr>\n",
       "  </thead>\n",
       "  <tbody>\n",
       "    <tr>\n",
       "      <th>0</th>\n",
       "      <td>649aba058c612604f08fde63</td>\n",
       "      <td>23</td>\n",
       "      <td>female</td>\n",
       "      <td>touchpad</td>\n",
       "      <td>3</td>\n",
       "    </tr>\n",
       "    <tr>\n",
       "      <th>1</th>\n",
       "      <td>64995bac8c61d60b08d58991</td>\n",
       "      <td>26</td>\n",
       "      <td>female</td>\n",
       "      <td>mouse</td>\n",
       "      <td>1</td>\n",
       "    </tr>\n",
       "  </tbody>\n",
       "</table>\n",
       "</div>"
      ],
      "text/plain": [
       "                       uuid age  gender    device sorting_option\n",
       "0  649aba058c612604f08fde63  23  female  touchpad              3\n",
       "1  64995bac8c61d60b08d58991  26  female     mouse              1"
      ]
     },
     "execution_count": 35,
     "metadata": {},
     "output_type": "execute_result"
    }
   ],
   "source": [
    "users_list = []\n",
    "\n",
    "for file in info_files:\n",
    "    \n",
    "    with open('./data/' + file, 'r') as file:\n",
    "        info = file.read()\n",
    "    \n",
    "    if info.split(\", \")[1] != \"999\":\n",
    "        users_list.append(info.split(\", \"))\n",
    "\n",
    "users = pd.DataFrame(users_list, columns=[\"uuid\", \"age\", \"gender\", \"device\", \"sorting_option\"])\n",
    "users"
   ]
  }
 ],
 "metadata": {
  "kernelspec": {
   "display_name": "Python 3 (ipykernel)",
   "language": "python",
   "name": "python3"
  },
  "language_info": {
   "codemirror_mode": {
    "name": "ipython",
    "version": 3
   },
   "file_extension": ".py",
   "mimetype": "text/x-python",
   "name": "python",
   "nbconvert_exporter": "python",
   "pygments_lexer": "ipython3",
   "version": "3.10.6"
  }
 },
 "nbformat": 4,
 "nbformat_minor": 5
}
